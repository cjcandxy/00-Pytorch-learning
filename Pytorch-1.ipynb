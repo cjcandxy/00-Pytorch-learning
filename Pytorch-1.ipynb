{
 "cells": [
  {
   "cell_type": "markdown",
   "metadata": {},
   "source": [
    "# Pytorch 简介\n",
    "## 与python完美融合"
   ]
  },
  {
   "cell_type": "markdown",
   "metadata": {},
   "source": [
    "### 张量计算\n",
    "#### 定义张量"
   ]
  },
  {
   "cell_type": "code",
   "execution_count": 1,
   "metadata": {},
   "outputs": [],
   "source": [
    "import torch\n",
    "x = torch.rand(5,3)"
   ]
  },
  {
   "cell_type": "code",
   "execution_count": 2,
   "metadata": {},
   "outputs": [
    {
     "data": {
      "text/plain": [
       "tensor([[0.0901, 0.6681, 0.4470],\n",
       "        [0.1199, 0.9135, 0.3371],\n",
       "        [0.5274, 0.7277, 0.7686],\n",
       "        [0.9402, 0.6311, 0.0741],\n",
       "        [0.4828, 0.1339, 0.0430]])"
      ]
     },
     "execution_count": 2,
     "metadata": {},
     "output_type": "execute_result"
    }
   ],
   "source": [
    "x"
   ]
  },
  {
   "cell_type": "code",
   "execution_count": 3,
   "metadata": {},
   "outputs": [],
   "source": [
    "y = torch.ones(5,3)"
   ]
  },
  {
   "cell_type": "code",
   "execution_count": 4,
   "metadata": {},
   "outputs": [
    {
     "data": {
      "text/plain": [
       "tensor([[1., 1., 1.],\n",
       "        [1., 1., 1.],\n",
       "        [1., 1., 1.],\n",
       "        [1., 1., 1.],\n",
       "        [1., 1., 1.]])"
      ]
     },
     "execution_count": 4,
     "metadata": {},
     "output_type": "execute_result"
    }
   ],
   "source": [
    "y"
   ]
  },
  {
   "cell_type": "code",
   "execution_count": 5,
   "metadata": {},
   "outputs": [],
   "source": [
    "z = torch.zeros(2,5,3)"
   ]
  },
  {
   "cell_type": "code",
   "execution_count": 6,
   "metadata": {},
   "outputs": [
    {
     "data": {
      "text/plain": [
       "tensor([[[0., 0., 0.],\n",
       "         [0., 0., 0.],\n",
       "         [0., 0., 0.],\n",
       "         [0., 0., 0.],\n",
       "         [0., 0., 0.]],\n",
       "\n",
       "        [[0., 0., 0.],\n",
       "         [0., 0., 0.],\n",
       "         [0., 0., 0.],\n",
       "         [0., 0., 0.],\n",
       "         [0., 0., 0.]]])"
      ]
     },
     "execution_count": 6,
     "metadata": {},
     "output_type": "execute_result"
    }
   ],
   "source": [
    "z"
   ]
  },
  {
   "cell_type": "markdown",
   "metadata": {},
   "source": [
    "#### 访问张量"
   ]
  },
  {
   "cell_type": "code",
   "execution_count": 7,
   "metadata": {},
   "outputs": [
    {
     "data": {
      "text/plain": [
       "tensor([[0., 0., 0.],\n",
       "        [0., 0., 0.],\n",
       "        [0., 0., 0.],\n",
       "        [0., 0., 0.],\n",
       "        [0., 0., 0.]])"
      ]
     },
     "execution_count": 7,
     "metadata": {},
     "output_type": "execute_result"
    }
   ],
   "source": [
    "z[0]"
   ]
  },
  {
   "cell_type": "code",
   "execution_count": 8,
   "metadata": {},
   "outputs": [
    {
     "data": {
      "text/plain": [
       "tensor(0.3371)"
      ]
     },
     "execution_count": 8,
     "metadata": {},
     "output_type": "execute_result"
    }
   ],
   "source": [
    "# 访问第2行第3列的数字\n",
    "x[1,2]"
   ]
  },
  {
   "cell_type": "code",
   "execution_count": 9,
   "metadata": {},
   "outputs": [
    {
     "data": {
      "text/plain": [
       "tensor([0.4470, 0.3371, 0.7686, 0.0741, 0.0430])"
      ]
     },
     "execution_count": 9,
     "metadata": {},
     "output_type": "execute_result"
    }
   ],
   "source": [
    "# 访问第三列\n",
    "x[:,2]"
   ]
  },
  {
   "cell_type": "code",
   "execution_count": 10,
   "metadata": {},
   "outputs": [],
   "source": [
    "z = x+y"
   ]
  },
  {
   "cell_type": "code",
   "execution_count": 11,
   "metadata": {},
   "outputs": [
    {
     "data": {
      "text/plain": [
       "tensor([[1.0901, 1.6681, 1.4470],\n",
       "        [1.1199, 1.9135, 1.3371],\n",
       "        [1.5274, 1.7277, 1.7686],\n",
       "        [1.9402, 1.6311, 1.0741],\n",
       "        [1.4828, 1.1339, 1.0430]])"
      ]
     },
     "execution_count": 11,
     "metadata": {},
     "output_type": "execute_result"
    }
   ],
   "source": [
    "z"
   ]
  },
  {
   "cell_type": "markdown",
   "metadata": {},
   "source": [
    "#### 张量运算"
   ]
  },
  {
   "cell_type": "code",
   "execution_count": 12,
   "metadata": {},
   "outputs": [],
   "source": [
    "# 矩阵相乘 mm命令\n",
    "q = x.mm(y.t())\n",
    "# y.t() 表示y的转置"
   ]
  },
  {
   "cell_type": "code",
   "execution_count": 13,
   "metadata": {},
   "outputs": [
    {
     "data": {
      "text/plain": [
       "tensor([[1.2052, 1.2052, 1.2052, 1.2052, 1.2052],\n",
       "        [1.3705, 1.3705, 1.3705, 1.3705, 1.3705],\n",
       "        [2.0238, 2.0238, 2.0238, 2.0238, 2.0238],\n",
       "        [1.6453, 1.6453, 1.6453, 1.6453, 1.6453],\n",
       "        [0.6597, 0.6597, 0.6597, 0.6597, 0.6597]])"
      ]
     },
     "execution_count": 13,
     "metadata": {},
     "output_type": "execute_result"
    }
   ],
   "source": [
    "q"
   ]
  },
  {
   "cell_type": "markdown",
   "metadata": {},
   "source": [
    "#### 张量与Numpy数组的转换"
   ]
  },
  {
   "cell_type": "code",
   "execution_count": 14,
   "metadata": {},
   "outputs": [],
   "source": [
    "import numpy as np"
   ]
  },
  {
   "cell_type": "code",
   "execution_count": 15,
   "metadata": {},
   "outputs": [],
   "source": [
    "x_tensor = torch.randn(2,3)\n",
    "y_numpy = np.random.randn(2,3)"
   ]
  },
  {
   "cell_type": "code",
   "execution_count": 16,
   "metadata": {},
   "outputs": [
    {
     "data": {
      "text/plain": [
       "tensor([[ 0.9403, -1.0692,  1.8048],\n",
       "        [-0.4743,  0.4447, -1.6102]])"
      ]
     },
     "execution_count": 16,
     "metadata": {},
     "output_type": "execute_result"
    }
   ],
   "source": [
    "x_tensor"
   ]
  },
  {
   "cell_type": "code",
   "execution_count": 17,
   "metadata": {},
   "outputs": [
    {
     "data": {
      "text/plain": [
       "array([[ 0.75218454,  1.23346954, -0.25574512],\n",
       "       [ 0.90845944,  1.42904999,  1.03170517]])"
      ]
     },
     "execution_count": 17,
     "metadata": {},
     "output_type": "execute_result"
    }
   ],
   "source": [
    "y_numpy"
   ]
  },
  {
   "cell_type": "code",
   "execution_count": 18,
   "metadata": {},
   "outputs": [],
   "source": [
    "x_numpy = x_tensor.numpy()"
   ]
  },
  {
   "cell_type": "code",
   "execution_count": 19,
   "metadata": {},
   "outputs": [],
   "source": [
    "y_tensor = torch.from_numpy(y_numpy)"
   ]
  },
  {
   "cell_type": "code",
   "execution_count": 20,
   "metadata": {},
   "outputs": [],
   "source": [
    "# torch.FloatTensor(a) 将a转换为float类型\n",
    "# torch.LongTensor(a) 将a转换为整数类型"
   ]
  },
  {
   "cell_type": "markdown",
   "metadata": {},
   "source": [
    "#### GPU上的张量运算"
   ]
  },
  {
   "cell_type": "code",
   "execution_count": 21,
   "metadata": {},
   "outputs": [
    {
     "name": "stdout",
     "output_type": "stream",
     "text": [
      "tensor([[1.0901, 1.6681, 1.4470],\n",
      "        [1.1199, 1.9135, 1.3371],\n",
      "        [1.5274, 1.7277, 1.7686],\n",
      "        [1.9402, 1.6311, 1.0741],\n",
      "        [1.4828, 1.1339, 1.0430]], device='cuda:0')\n"
     ]
    }
   ],
   "source": [
    "x = x.cuda()\n",
    "y = y.cuda()\n",
    "print(x+y)"
   ]
  },
  {
   "cell_type": "code",
   "execution_count": 22,
   "metadata": {},
   "outputs": [],
   "source": [
    "x = x.cpu()"
   ]
  },
  {
   "cell_type": "markdown",
   "metadata": {},
   "source": [
    "### 动态计算图"
   ]
  },
  {
   "cell_type": "code",
   "execution_count": 23,
   "metadata": {},
   "outputs": [],
   "source": [
    "# 普通的张量同时也是自动微分变量\n",
    "x = torch.ones((2,2),requires_grad = True)"
   ]
  },
  {
   "cell_type": "code",
   "execution_count": 24,
   "metadata": {},
   "outputs": [],
   "source": [
    "y = x+2"
   ]
  },
  {
   "cell_type": "code",
   "execution_count": 25,
   "metadata": {},
   "outputs": [
    {
     "data": {
      "text/plain": [
       "tensor([[1., 1.],\n",
       "        [1., 1.]], requires_grad=True)"
      ]
     },
     "execution_count": 25,
     "metadata": {},
     "output_type": "execute_result"
    }
   ],
   "source": [
    "x"
   ]
  },
  {
   "cell_type": "code",
   "execution_count": 26,
   "metadata": {},
   "outputs": [
    {
     "data": {
      "text/plain": [
       "tensor([[3., 3.],\n",
       "        [3., 3.]])"
      ]
     },
     "execution_count": 26,
     "metadata": {},
     "output_type": "execute_result"
    }
   ],
   "source": [
    "y.data"
   ]
  },
  {
   "cell_type": "code",
   "execution_count": 27,
   "metadata": {},
   "outputs": [
    {
     "data": {
      "text/plain": [
       "<AddBackward0 at 0x203326f5f08>"
      ]
     },
     "execution_count": 27,
     "metadata": {},
     "output_type": "execute_result"
    }
   ],
   "source": [
    "y.grad_fn"
   ]
  },
  {
   "cell_type": "code",
   "execution_count": 28,
   "metadata": {},
   "outputs": [],
   "source": [
    "z = y*y"
   ]
  },
  {
   "cell_type": "code",
   "execution_count": 29,
   "metadata": {},
   "outputs": [
    {
     "data": {
      "text/plain": [
       "<MulBackward0 at 0x203326f2d48>"
      ]
     },
     "execution_count": 29,
     "metadata": {},
     "output_type": "execute_result"
    }
   ],
   "source": [
    "z.grad_fn"
   ]
  },
  {
   "cell_type": "code",
   "execution_count": 30,
   "metadata": {},
   "outputs": [],
   "source": [
    "t = torch.mean(z)"
   ]
  },
  {
   "cell_type": "code",
   "execution_count": 31,
   "metadata": {},
   "outputs": [
    {
     "data": {
      "text/plain": [
       "<MeanBackward0 at 0x203326ece48>"
      ]
     },
     "execution_count": 31,
     "metadata": {},
     "output_type": "execute_result"
    }
   ],
   "source": [
    "t.grad_fn"
   ]
  },
  {
   "cell_type": "code",
   "execution_count": 32,
   "metadata": {},
   "outputs": [],
   "source": [
    "t.backward()"
   ]
  },
  {
   "cell_type": "code",
   "execution_count": 33,
   "metadata": {},
   "outputs": [
    {
     "name": "stdout",
     "output_type": "stream",
     "text": [
      "tensor([[1.5000, 1.5000],\n",
      "        [1.5000, 1.5000]])\n"
     ]
    }
   ],
   "source": [
    "#print(z.grad)\n",
    "#print(y.grad)\n",
    "print(x.grad)"
   ]
  },
  {
   "cell_type": "code",
   "execution_count": 34,
   "metadata": {},
   "outputs": [
    {
     "name": "stderr",
     "output_type": "stream",
     "text": [
      "C:\\Users\\A\\anaconda3\\envs\\Pytorch-gpu\\lib\\site-packages\\ipykernel_launcher.py:4: UserWarning: Not providing a value for linspace's steps is deprecated and will throw a runtime error in a future release. This warning will appear only once per process. (Triggered internally at  ..\\aten\\src\\ATen\\native\\RangeFactories.cpp:25.)\n",
      "  after removing the cwd from sys.path.\n"
     ]
    }
   ],
   "source": [
    "### Pytorch实例：预测房价\n",
    "\n",
    "# 构造0-100之间的均匀数字作为时间变量x\n",
    "x = torch.linspace(0,100).type(torch.FloatTensor)"
   ]
  },
  {
   "cell_type": "code",
   "execution_count": 35,
   "metadata": {},
   "outputs": [],
   "source": [
    "rand = torch.randn(100)*10"
   ]
  },
  {
   "cell_type": "code",
   "execution_count": 36,
   "metadata": {},
   "outputs": [],
   "source": [
    "y = x + rand"
   ]
  },
  {
   "cell_type": "code",
   "execution_count": 37,
   "metadata": {},
   "outputs": [],
   "source": [
    "x_train = x[:-10]\n",
    "x_test = x[-10:]\n",
    "y_train = y[:-10]\n",
    "y_test = y[-10:]"
   ]
  },
  {
   "cell_type": "code",
   "execution_count": 38,
   "metadata": {},
   "outputs": [],
   "source": [
    "%matplotlib inline\n",
    "#import matplotlib.pyplot as plt\n",
    "\n",
    "import matplotlib.pyplot as plt\n",
    "plt.style.use('fivethirtyeight')\n"
   ]
  },
  {
   "cell_type": "code",
   "execution_count": 39,
   "metadata": {},
   "outputs": [
    {
     "data": {
      "image/png": "[encoded data removed]",
      "text/plain": [
       "<Figure size 1152x576 with 1 Axes>"
      ]
     },
     "metadata": {},
     "output_type": "display_data"
    }
   ],
   "source": [
    "\n",
    "plt.figure(figsize = (16,8))\n",
    "\n",
    "plt.xlabel('X')\n",
    "plt.ylabel('Y')\n",
    "\n",
    "plt.plot(x_train.numpy(),y_train.numpy(),'o')\n",
    "plt.show()"
   ]
  },
  {
   "cell_type": "code",
   "execution_count": 40,
   "metadata": {},
   "outputs": [],
   "source": [
    "# 使用直线进行拟合\n",
    "# 损失函数定义为平均损失函数\n",
    "# 使用梯度下降法进行迭代计算"
   ]
  },
  {
   "cell_type": "code",
   "execution_count": 41,
   "metadata": {},
   "outputs": [],
   "source": [
    "a = torch.rand((1),requires_grad = True)\n",
    "b = torch.rand((1),requires_grad = True)"
   ]
  },
  {
   "cell_type": "code",
   "execution_count": 42,
   "metadata": {},
   "outputs": [],
   "source": [
    "learning_rate = 0.0001"
   ]
  },
  {
   "cell_type": "code",
   "execution_count": 43,
   "metadata": {
    "collapsed": true,
    "jupyter": {
     "outputs_hidden": true
    },
    "tags": []
   },
   "outputs": [
    {
     "name": "stdout",
     "output_type": "stream",
     "text": [
      "loss: tensor(300.8612, grad_fn=<MeanBackward0>)\n",
      "loss: tensor(129.9038, grad_fn=<MeanBackward0>)\n",
      "loss: tensor(94.0373, grad_fn=<MeanBackward0>)\n",
      "loss: tensor(86.5125, grad_fn=<MeanBackward0>)\n",
      "loss: tensor(84.9336, grad_fn=<MeanBackward0>)\n",
      "loss: tensor(84.6022, grad_fn=<MeanBackward0>)\n",
      "loss: tensor(84.5325, grad_fn=<MeanBackward0>)\n",
      "loss: tensor(84.5177, grad_fn=<MeanBackward0>)\n",
      "loss: tensor(84.5145, grad_fn=<MeanBackward0>)\n",
      "loss: tensor(84.5136, grad_fn=<MeanBackward0>)\n",
      "loss: tensor(84.5132, grad_fn=<MeanBackward0>)\n",
      "loss: tensor(84.5130, grad_fn=<MeanBackward0>)\n",
      "loss: tensor(84.5127, grad_fn=<MeanBackward0>)\n",
      "loss: tensor(84.5125, grad_fn=<MeanBackward0>)\n",
      "loss: tensor(84.5123, grad_fn=<MeanBackward0>)\n",
      "loss: tensor(84.5121, grad_fn=<MeanBackward0>)\n",
      "loss: tensor(84.5118, grad_fn=<MeanBackward0>)\n",
      "loss: tensor(84.5116, grad_fn=<MeanBackward0>)\n",
      "loss: tensor(84.5114, grad_fn=<MeanBackward0>)\n",
      "loss: tensor(84.5112, grad_fn=<MeanBackward0>)\n",
      "loss: tensor(84.5109, grad_fn=<MeanBackward0>)\n",
      "loss: tensor(84.5107, grad_fn=<MeanBackward0>)\n",
      "loss: tensor(84.5105, grad_fn=<MeanBackward0>)\n",
      "loss: tensor(84.5103, grad_fn=<MeanBackward0>)\n",
      "loss: tensor(84.5101, grad_fn=<MeanBackward0>)\n",
      "loss: tensor(84.5098, grad_fn=<MeanBackward0>)\n",
      "loss: tensor(84.5096, grad_fn=<MeanBackward0>)\n",
      "loss: tensor(84.5094, grad_fn=<MeanBackward0>)\n",
      "loss: tensor(84.5092, grad_fn=<MeanBackward0>)\n",
      "loss: tensor(84.5089, grad_fn=<MeanBackward0>)\n",
      "loss: tensor(84.5087, grad_fn=<MeanBackward0>)\n",
      "loss: tensor(84.5085, grad_fn=<MeanBackward0>)\n",
      "loss: tensor(84.5083, grad_fn=<MeanBackward0>)\n",
      "loss: tensor(84.5081, grad_fn=<MeanBackward0>)\n",
      "loss: tensor(84.5078, grad_fn=<MeanBackward0>)\n",
      "loss: tensor(84.5076, grad_fn=<MeanBackward0>)\n",
      "loss: tensor(84.5074, grad_fn=<MeanBackward0>)\n",
      "loss: tensor(84.5072, grad_fn=<MeanBackward0>)\n",
      "loss: tensor(84.5069, grad_fn=<MeanBackward0>)\n",
      "loss: tensor(84.5067, grad_fn=<MeanBackward0>)\n",
      "loss: tensor(84.5065, grad_fn=<MeanBackward0>)\n",
      "loss: tensor(84.5063, grad_fn=<MeanBackward0>)\n",
      "loss: tensor(84.5061, grad_fn=<MeanBackward0>)\n",
      "loss: tensor(84.5058, grad_fn=<MeanBackward0>)\n",
      "loss: tensor(84.5056, grad_fn=<MeanBackward0>)\n",
      "loss: tensor(84.5054, grad_fn=<MeanBackward0>)\n",
      "loss: tensor(84.5052, grad_fn=<MeanBackward0>)\n",
      "loss: tensor(84.5049, grad_fn=<MeanBackward0>)\n",
      "loss: tensor(84.5047, grad_fn=<MeanBackward0>)\n",
      "loss: tensor(84.5045, grad_fn=<MeanBackward0>)\n",
      "loss: tensor(84.5043, grad_fn=<MeanBackward0>)\n",
      "loss: tensor(84.5040, grad_fn=<MeanBackward0>)\n",
      "loss: tensor(84.5038, grad_fn=<MeanBackward0>)\n",
      "loss: tensor(84.5036, grad_fn=<MeanBackward0>)\n",
      "loss: tensor(84.5034, grad_fn=<MeanBackward0>)\n",
      "loss: tensor(84.5032, grad_fn=<MeanBackward0>)\n",
      "loss: tensor(84.5029, grad_fn=<MeanBackward0>)\n",
      "loss: tensor(84.5027, grad_fn=<MeanBackward0>)\n",
      "loss: tensor(84.5025, grad_fn=<MeanBackward0>)\n",
      "loss: tensor(84.5023, grad_fn=<MeanBackward0>)\n",
      "loss: tensor(84.5021, grad_fn=<MeanBackward0>)\n",
      "loss: tensor(84.5018, grad_fn=<MeanBackward0>)\n",
      "loss: tensor(84.5016, grad_fn=<MeanBackward0>)\n",
      "loss: tensor(84.5014, grad_fn=<MeanBackward0>)\n",
      "loss: tensor(84.5012, grad_fn=<MeanBackward0>)\n",
      "loss: tensor(84.5009, grad_fn=<MeanBackward0>)\n",
      "loss: tensor(84.5007, grad_fn=<MeanBackward0>)\n",
      "loss: tensor(84.5005, grad_fn=<MeanBackward0>)\n",
      "loss: tensor(84.5003, grad_fn=<MeanBackward0>)\n",
      "loss: tensor(84.5001, grad_fn=<MeanBackward0>)\n",
      "loss: tensor(84.4998, grad_fn=<MeanBackward0>)\n",
      "loss: tensor(84.4996, grad_fn=<MeanBackward0>)\n",
      "loss: tensor(84.4994, grad_fn=<MeanBackward0>)\n",
      "loss: tensor(84.4992, grad_fn=<MeanBackward0>)\n",
      "loss: tensor(84.4989, grad_fn=<MeanBackward0>)\n",
      "loss: tensor(84.4987, grad_fn=<MeanBackward0>)\n",
      "loss: tensor(84.4985, grad_fn=<MeanBackward0>)\n",
      "loss: tensor(84.4983, grad_fn=<MeanBackward0>)\n",
      "loss: tensor(84.4980, grad_fn=<MeanBackward0>)\n",
      "loss: tensor(84.4978, grad_fn=<MeanBackward0>)\n",
      "loss: tensor(84.4976, grad_fn=<MeanBackward0>)\n",
      "loss: tensor(84.4974, grad_fn=<MeanBackward0>)\n",
      "loss: tensor(84.4972, grad_fn=<MeanBackward0>)\n",
      "loss: tensor(84.4969, grad_fn=<MeanBackward0>)\n",
      "loss: tensor(84.4967, grad_fn=<MeanBackward0>)\n",
      "loss: tensor(84.4965, grad_fn=<MeanBackward0>)\n",
      "loss: tensor(84.4963, grad_fn=<MeanBackward0>)\n",
      "loss: tensor(84.4960, grad_fn=<MeanBackward0>)\n",
      "loss: tensor(84.4958, grad_fn=<MeanBackward0>)\n",
      "loss: tensor(84.4956, grad_fn=<MeanBackward0>)\n",
      "loss: tensor(84.4954, grad_fn=<MeanBackward0>)\n",
      "loss: tensor(84.4952, grad_fn=<MeanBackward0>)\n",
      "loss: tensor(84.4949, grad_fn=<MeanBackward0>)\n",
      "loss: tensor(84.4947, grad_fn=<MeanBackward0>)\n",
      "loss: tensor(84.4945, grad_fn=<MeanBackward0>)\n",
      "loss: tensor(84.4943, grad_fn=<MeanBackward0>)\n",
      "loss: tensor(84.4941, grad_fn=<MeanBackward0>)\n",
      "loss: tensor(84.4938, grad_fn=<MeanBackward0>)\n",
      "loss: tensor(84.4936, grad_fn=<MeanBackward0>)\n",
      "loss: tensor(84.4934, grad_fn=<MeanBackward0>)\n",
      "loss: tensor(84.4932, grad_fn=<MeanBackward0>)\n",
      "loss: tensor(84.4930, grad_fn=<MeanBackward0>)\n",
      "loss: tensor(84.4927, grad_fn=<MeanBackward0>)\n",
      "loss: tensor(84.4925, grad_fn=<MeanBackward0>)\n",
      "loss: tensor(84.4923, grad_fn=<MeanBackward0>)\n",
      "loss: tensor(84.4921, grad_fn=<MeanBackward0>)\n",
      "loss: tensor(84.4918, grad_fn=<MeanBackward0>)\n",
      "loss: tensor(84.4916, grad_fn=<MeanBackward0>)\n",
      "loss: tensor(84.4914, grad_fn=<MeanBackward0>)\n",
      "loss: tensor(84.4912, grad_fn=<MeanBackward0>)\n",
      "loss: tensor(84.4910, grad_fn=<MeanBackward0>)\n",
      "loss: tensor(84.4907, grad_fn=<MeanBackward0>)\n",
      "loss: tensor(84.4905, grad_fn=<MeanBackward0>)\n",
      "loss: tensor(84.4903, grad_fn=<MeanBackward0>)\n",
      "loss: tensor(84.4901, grad_fn=<MeanBackward0>)\n",
      "loss: tensor(84.4899, grad_fn=<MeanBackward0>)\n",
      "loss: tensor(84.4896, grad_fn=<MeanBackward0>)\n",
      "loss: tensor(84.4894, grad_fn=<MeanBackward0>)\n",
      "loss: tensor(84.4892, grad_fn=<MeanBackward0>)\n",
      "loss: tensor(84.4890, grad_fn=<MeanBackward0>)\n",
      "loss: tensor(84.4887, grad_fn=<MeanBackward0>)\n",
      "loss: tensor(84.4885, grad_fn=<MeanBackward0>)\n",
      "loss: tensor(84.4883, grad_fn=<MeanBackward0>)\n",
      "loss: tensor(84.4881, grad_fn=<MeanBackward0>)\n",
      "loss: tensor(84.4879, grad_fn=<MeanBackward0>)\n",
      "loss: tensor(84.4876, grad_fn=<MeanBackward0>)\n",
      "loss: tensor(84.4874, grad_fn=<MeanBackward0>)\n",
      "loss: tensor(84.4872, grad_fn=<MeanBackward0>)\n",
      "loss: tensor(84.4870, grad_fn=<MeanBackward0>)\n",
      "loss: tensor(84.4867, grad_fn=<MeanBackward0>)\n",
      "loss: tensor(84.4865, grad_fn=<MeanBackward0>)\n",
      "loss: tensor(84.4863, grad_fn=<MeanBackward0>)\n",
      "loss: tensor(84.4861, grad_fn=<MeanBackward0>)\n",
      "loss: tensor(84.4859, grad_fn=<MeanBackward0>)\n",
      "loss: tensor(84.4857, grad_fn=<MeanBackward0>)\n",
      "loss: tensor(84.4854, grad_fn=<MeanBackward0>)\n",
      "loss: tensor(84.4852, grad_fn=<MeanBackward0>)\n",
      "loss: tensor(84.4850, grad_fn=<MeanBackward0>)\n",
      "loss: tensor(84.4848, grad_fn=<MeanBackward0>)\n",
      "loss: tensor(84.4846, grad_fn=<MeanBackward0>)\n",
      "loss: tensor(84.4843, grad_fn=<MeanBackward0>)\n",
      "loss: tensor(84.4841, grad_fn=<MeanBackward0>)\n",
      "loss: tensor(84.4839, grad_fn=<MeanBackward0>)\n",
      "loss: tensor(84.4837, grad_fn=<MeanBackward0>)\n",
      "loss: tensor(84.4834, grad_fn=<MeanBackward0>)\n",
      "loss: tensor(84.4832, grad_fn=<MeanBackward0>)\n",
      "loss: tensor(84.4830, grad_fn=<MeanBackward0>)\n",
      "loss: tensor(84.4828, grad_fn=<MeanBackward0>)\n",
      "loss: tensor(84.4826, grad_fn=<MeanBackward0>)\n",
      "loss: tensor(84.4823, grad_fn=<MeanBackward0>)\n",
      "loss: tensor(84.4821, grad_fn=<MeanBackward0>)\n",
      "loss: tensor(84.4819, grad_fn=<MeanBackward0>)\n",
      "loss: tensor(84.4817, grad_fn=<MeanBackward0>)\n",
      "loss: tensor(84.4815, grad_fn=<MeanBackward0>)\n",
      "loss: tensor(84.4812, grad_fn=<MeanBackward0>)\n",
      "loss: tensor(84.4810, grad_fn=<MeanBackward0>)\n",
      "loss: tensor(84.4808, grad_fn=<MeanBackward0>)\n",
      "loss: tensor(84.4806, grad_fn=<MeanBackward0>)\n",
      "loss: tensor(84.4804, grad_fn=<MeanBackward0>)\n",
      "loss: tensor(84.4801, grad_fn=<MeanBackward0>)\n",
      "loss: tensor(84.4799, grad_fn=<MeanBackward0>)\n",
      "loss: tensor(84.4797, grad_fn=<MeanBackward0>)\n",
      "loss: tensor(84.4795, grad_fn=<MeanBackward0>)\n",
      "loss: tensor(84.4792, grad_fn=<MeanBackward0>)\n",
      "loss: tensor(84.4790, grad_fn=<MeanBackward0>)\n",
      "loss: tensor(84.4788, grad_fn=<MeanBackward0>)\n",
      "loss: tensor(84.4786, grad_fn=<MeanBackward0>)\n",
      "loss: tensor(84.4784, grad_fn=<MeanBackward0>)\n",
      "loss: tensor(84.4782, grad_fn=<MeanBackward0>)\n",
      "loss: tensor(84.4779, grad_fn=<MeanBackward0>)\n",
      "loss: tensor(84.4777, grad_fn=<MeanBackward0>)\n",
      "loss: tensor(84.4775, grad_fn=<MeanBackward0>)\n",
      "loss: tensor(84.4773, grad_fn=<MeanBackward0>)\n",
      "loss: tensor(84.4771, grad_fn=<MeanBackward0>)\n",
      "loss: tensor(84.4768, grad_fn=<MeanBackward0>)\n",
      "loss: tensor(84.4766, grad_fn=<MeanBackward0>)\n",
      "loss: tensor(84.4764, grad_fn=<MeanBackward0>)\n",
      "loss: tensor(84.4762, grad_fn=<MeanBackward0>)\n",
      "loss: tensor(84.4760, grad_fn=<MeanBackward0>)\n",
      "loss: tensor(84.4757, grad_fn=<MeanBackward0>)\n",
      "loss: tensor(84.4755, grad_fn=<MeanBackward0>)\n",
      "loss: tensor(84.4753, grad_fn=<MeanBackward0>)\n",
      "loss: tensor(84.4751, grad_fn=<MeanBackward0>)\n",
      "loss: tensor(84.4749, grad_fn=<MeanBackward0>)\n",
      "loss: tensor(84.4746, grad_fn=<MeanBackward0>)\n",
      "loss: tensor(84.4744, grad_fn=<MeanBackward0>)\n",
      "loss: tensor(84.4742, grad_fn=<MeanBackward0>)\n",
      "loss: tensor(84.4740, grad_fn=<MeanBackward0>)\n",
      "loss: tensor(84.4738, grad_fn=<MeanBackward0>)\n",
      "loss: tensor(84.4736, grad_fn=<MeanBackward0>)\n",
      "loss: tensor(84.4733, grad_fn=<MeanBackward0>)\n",
      "loss: tensor(84.4731, grad_fn=<MeanBackward0>)\n",
      "loss: tensor(84.4729, grad_fn=<MeanBackward0>)\n",
      "loss: tensor(84.4727, grad_fn=<MeanBackward0>)\n",
      "loss: tensor(84.4725, grad_fn=<MeanBackward0>)\n",
      "loss: tensor(84.4722, grad_fn=<MeanBackward0>)\n",
      "loss: tensor(84.4720, grad_fn=<MeanBackward0>)\n",
      "loss: tensor(84.4718, grad_fn=<MeanBackward0>)\n",
      "loss: tensor(84.4716, grad_fn=<MeanBackward0>)\n",
      "loss: tensor(84.4714, grad_fn=<MeanBackward0>)\n",
      "loss: tensor(84.4711, grad_fn=<MeanBackward0>)\n",
      "loss: tensor(84.4709, grad_fn=<MeanBackward0>)\n",
      "loss: tensor(84.4707, grad_fn=<MeanBackward0>)\n",
      "loss: tensor(84.4705, grad_fn=<MeanBackward0>)\n",
      "loss: tensor(84.4703, grad_fn=<MeanBackward0>)\n",
      "loss: tensor(84.4700, grad_fn=<MeanBackward0>)\n",
      "loss: tensor(84.4698, grad_fn=<MeanBackward0>)\n",
      "loss: tensor(84.4696, grad_fn=<MeanBackward0>)\n",
      "loss: tensor(84.4694, grad_fn=<MeanBackward0>)\n",
      "loss: tensor(84.4692, grad_fn=<MeanBackward0>)\n",
      "loss: tensor(84.4689, grad_fn=<MeanBackward0>)\n",
      "loss: tensor(84.4687, grad_fn=<MeanBackward0>)\n",
      "loss: tensor(84.4685, grad_fn=<MeanBackward0>)\n",
      "loss: tensor(84.4683, grad_fn=<MeanBackward0>)\n",
      "loss: tensor(84.4681, grad_fn=<MeanBackward0>)\n",
      "loss: tensor(84.4678, grad_fn=<MeanBackward0>)\n",
      "loss: tensor(84.4676, grad_fn=<MeanBackward0>)\n",
      "loss: tensor(84.4674, grad_fn=<MeanBackward0>)\n",
      "loss: tensor(84.4672, grad_fn=<MeanBackward0>)\n",
      "loss: tensor(84.4670, grad_fn=<MeanBackward0>)\n",
      "loss: tensor(84.4668, grad_fn=<MeanBackward0>)\n",
      "loss: tensor(84.4665, grad_fn=<MeanBackward0>)\n",
      "loss: tensor(84.4663, grad_fn=<MeanBackward0>)\n",
      "loss: tensor(84.4661, grad_fn=<MeanBackward0>)\n",
      "loss: tensor(84.4659, grad_fn=<MeanBackward0>)\n",
      "loss: tensor(84.4657, grad_fn=<MeanBackward0>)\n",
      "loss: tensor(84.4655, grad_fn=<MeanBackward0>)\n",
      "loss: tensor(84.4652, grad_fn=<MeanBackward0>)\n",
      "loss: tensor(84.4650, grad_fn=<MeanBackward0>)\n",
      "loss: tensor(84.4648, grad_fn=<MeanBackward0>)\n",
      "loss: tensor(84.4646, grad_fn=<MeanBackward0>)\n",
      "loss: tensor(84.4643, grad_fn=<MeanBackward0>)\n",
      "loss: tensor(84.4641, grad_fn=<MeanBackward0>)\n",
      "loss: tensor(84.4639, grad_fn=<MeanBackward0>)\n",
      "loss: tensor(84.4637, grad_fn=<MeanBackward0>)\n",
      "loss: tensor(84.4635, grad_fn=<MeanBackward0>)\n",
      "loss: tensor(84.4633, grad_fn=<MeanBackward0>)\n",
      "loss: tensor(84.4630, grad_fn=<MeanBackward0>)\n",
      "loss: tensor(84.4628, grad_fn=<MeanBackward0>)\n",
      "loss: tensor(84.4626, grad_fn=<MeanBackward0>)\n",
      "loss: tensor(84.4624, grad_fn=<MeanBackward0>)\n",
      "loss: tensor(84.4622, grad_fn=<MeanBackward0>)\n",
      "loss: tensor(84.4619, grad_fn=<MeanBackward0>)\n",
      "loss: tensor(84.4617, grad_fn=<MeanBackward0>)\n",
      "loss: tensor(84.4615, grad_fn=<MeanBackward0>)\n",
      "loss: tensor(84.4613, grad_fn=<MeanBackward0>)\n",
      "loss: tensor(84.4611, grad_fn=<MeanBackward0>)\n",
      "loss: tensor(84.4609, grad_fn=<MeanBackward0>)\n",
      "loss: tensor(84.4606, grad_fn=<MeanBackward0>)\n",
      "loss: tensor(84.4604, grad_fn=<MeanBackward0>)\n",
      "loss: tensor(84.4602, grad_fn=<MeanBackward0>)\n",
      "loss: tensor(84.4600, grad_fn=<MeanBackward0>)\n",
      "loss: tensor(84.4598, grad_fn=<MeanBackward0>)\n",
      "loss: tensor(84.4595, grad_fn=<MeanBackward0>)\n",
      "loss: tensor(84.4593, grad_fn=<MeanBackward0>)\n",
      "loss: tensor(84.4591, grad_fn=<MeanBackward0>)\n",
      "loss: tensor(84.4589, grad_fn=<MeanBackward0>)\n",
      "loss: tensor(84.4587, grad_fn=<MeanBackward0>)\n",
      "loss: tensor(84.4585, grad_fn=<MeanBackward0>)\n",
      "loss: tensor(84.4582, grad_fn=<MeanBackward0>)\n",
      "loss: tensor(84.4580, grad_fn=<MeanBackward0>)\n",
      "loss: tensor(84.4578, grad_fn=<MeanBackward0>)\n",
      "loss: tensor(84.4576, grad_fn=<MeanBackward0>)\n",
      "loss: tensor(84.4574, grad_fn=<MeanBackward0>)\n",
      "loss: tensor(84.4572, grad_fn=<MeanBackward0>)\n",
      "loss: tensor(84.4569, grad_fn=<MeanBackward0>)\n",
      "loss: tensor(84.4567, grad_fn=<MeanBackward0>)\n",
      "loss: tensor(84.4565, grad_fn=<MeanBackward0>)\n",
      "loss: tensor(84.4563, grad_fn=<MeanBackward0>)\n",
      "loss: tensor(84.4561, grad_fn=<MeanBackward0>)\n",
      "loss: tensor(84.4558, grad_fn=<MeanBackward0>)\n",
      "loss: tensor(84.4556, grad_fn=<MeanBackward0>)\n",
      "loss: tensor(84.4554, grad_fn=<MeanBackward0>)\n",
      "loss: tensor(84.4552, grad_fn=<MeanBackward0>)\n",
      "loss: tensor(84.4550, grad_fn=<MeanBackward0>)\n",
      "loss: tensor(84.4548, grad_fn=<MeanBackward0>)\n",
      "loss: tensor(84.4545, grad_fn=<MeanBackward0>)\n",
      "loss: tensor(84.4543, grad_fn=<MeanBackward0>)\n",
      "loss: tensor(84.4541, grad_fn=<MeanBackward0>)\n",
      "loss: tensor(84.4539, grad_fn=<MeanBackward0>)\n",
      "loss: tensor(84.4537, grad_fn=<MeanBackward0>)\n",
      "loss: tensor(84.4535, grad_fn=<MeanBackward0>)\n",
      "loss: tensor(84.4532, grad_fn=<MeanBackward0>)\n",
      "loss: tensor(84.4530, grad_fn=<MeanBackward0>)\n",
      "loss: tensor(84.4528, grad_fn=<MeanBackward0>)\n",
      "loss: tensor(84.4526, grad_fn=<MeanBackward0>)\n",
      "loss: tensor(84.4524, grad_fn=<MeanBackward0>)\n",
      "loss: tensor(84.4521, grad_fn=<MeanBackward0>)\n",
      "loss: tensor(84.4519, grad_fn=<MeanBackward0>)\n",
      "loss: tensor(84.4517, grad_fn=<MeanBackward0>)\n",
      "loss: tensor(84.4515, grad_fn=<MeanBackward0>)\n",
      "loss: tensor(84.4513, grad_fn=<MeanBackward0>)\n",
      "loss: tensor(84.4511, grad_fn=<MeanBackward0>)\n",
      "loss: tensor(84.4508, grad_fn=<MeanBackward0>)\n",
      "loss: tensor(84.4506, grad_fn=<MeanBackward0>)\n",
      "loss: tensor(84.4504, grad_fn=<MeanBackward0>)\n",
      "loss: tensor(84.4502, grad_fn=<MeanBackward0>)\n",
      "loss: tensor(84.4500, grad_fn=<MeanBackward0>)\n",
      "loss: tensor(84.4498, grad_fn=<MeanBackward0>)\n",
      "loss: tensor(84.4495, grad_fn=<MeanBackward0>)\n",
      "loss: tensor(84.4493, grad_fn=<MeanBackward0>)\n",
      "loss: tensor(84.4491, grad_fn=<MeanBackward0>)\n",
      "loss: tensor(84.4489, grad_fn=<MeanBackward0>)\n",
      "loss: tensor(84.4487, grad_fn=<MeanBackward0>)\n",
      "loss: tensor(84.4485, grad_fn=<MeanBackward0>)\n",
      "loss: tensor(84.4482, grad_fn=<MeanBackward0>)\n",
      "loss: tensor(84.4480, grad_fn=<MeanBackward0>)\n",
      "loss: tensor(84.4478, grad_fn=<MeanBackward0>)\n",
      "loss: tensor(84.4476, grad_fn=<MeanBackward0>)\n",
      "loss: tensor(84.4474, grad_fn=<MeanBackward0>)\n",
      "loss: tensor(84.4472, grad_fn=<MeanBackward0>)\n",
      "loss: tensor(84.4470, grad_fn=<MeanBackward0>)\n",
      "loss: tensor(84.4467, grad_fn=<MeanBackward0>)\n",
      "loss: tensor(84.4465, grad_fn=<MeanBackward0>)\n",
      "loss: tensor(84.4463, grad_fn=<MeanBackward0>)\n",
      "loss: tensor(84.4461, grad_fn=<MeanBackward0>)\n",
      "loss: tensor(84.4459, grad_fn=<MeanBackward0>)\n",
      "loss: tensor(84.4456, grad_fn=<MeanBackward0>)\n",
      "loss: tensor(84.4454, grad_fn=<MeanBackward0>)\n",
      "loss: tensor(84.4452, grad_fn=<MeanBackward0>)\n",
      "loss: tensor(84.4450, grad_fn=<MeanBackward0>)\n",
      "loss: tensor(84.4448, grad_fn=<MeanBackward0>)\n",
      "loss: tensor(84.4445, grad_fn=<MeanBackward0>)\n",
      "loss: tensor(84.4443, grad_fn=<MeanBackward0>)\n",
      "loss: tensor(84.4441, grad_fn=<MeanBackward0>)\n",
      "loss: tensor(84.4439, grad_fn=<MeanBackward0>)\n",
      "loss: tensor(84.4437, grad_fn=<MeanBackward0>)\n",
      "loss: tensor(84.4435, grad_fn=<MeanBackward0>)\n",
      "loss: tensor(84.4433, grad_fn=<MeanBackward0>)\n",
      "loss: tensor(84.4430, grad_fn=<MeanBackward0>)\n",
      "loss: tensor(84.4428, grad_fn=<MeanBackward0>)\n",
      "loss: tensor(84.4426, grad_fn=<MeanBackward0>)\n",
      "loss: tensor(84.4424, grad_fn=<MeanBackward0>)\n",
      "loss: tensor(84.4422, grad_fn=<MeanBackward0>)\n",
      "loss: tensor(84.4420, grad_fn=<MeanBackward0>)\n",
      "loss: tensor(84.4417, grad_fn=<MeanBackward0>)\n",
      "loss: tensor(84.4415, grad_fn=<MeanBackward0>)\n",
      "loss: tensor(84.4413, grad_fn=<MeanBackward0>)\n",
      "loss: tensor(84.4411, grad_fn=<MeanBackward0>)\n",
      "loss: tensor(84.4409, grad_fn=<MeanBackward0>)\n",
      "loss: tensor(84.4407, grad_fn=<MeanBackward0>)\n",
      "loss: tensor(84.4404, grad_fn=<MeanBackward0>)\n",
      "loss: tensor(84.4402, grad_fn=<MeanBackward0>)\n",
      "loss: tensor(84.4400, grad_fn=<MeanBackward0>)\n",
      "loss: tensor(84.4398, grad_fn=<MeanBackward0>)\n",
      "loss: tensor(84.4396, grad_fn=<MeanBackward0>)\n",
      "loss: tensor(84.4394, grad_fn=<MeanBackward0>)\n",
      "loss: tensor(84.4392, grad_fn=<MeanBackward0>)\n",
      "loss: tensor(84.4389, grad_fn=<MeanBackward0>)\n",
      "loss: tensor(84.4387, grad_fn=<MeanBackward0>)\n",
      "loss: tensor(84.4385, grad_fn=<MeanBackward0>)\n",
      "loss: tensor(84.4383, grad_fn=<MeanBackward0>)\n",
      "loss: tensor(84.4381, grad_fn=<MeanBackward0>)\n",
      "loss: tensor(84.4379, grad_fn=<MeanBackward0>)\n",
      "loss: tensor(84.4376, grad_fn=<MeanBackward0>)\n",
      "loss: tensor(84.4374, grad_fn=<MeanBackward0>)\n",
      "loss: tensor(84.4372, grad_fn=<MeanBackward0>)\n",
      "loss: tensor(84.4370, grad_fn=<MeanBackward0>)\n",
      "loss: tensor(84.4368, grad_fn=<MeanBackward0>)\n",
      "loss: tensor(84.4366, grad_fn=<MeanBackward0>)\n",
      "loss: tensor(84.4363, grad_fn=<MeanBackward0>)\n",
      "loss: tensor(84.4361, grad_fn=<MeanBackward0>)\n",
      "loss: tensor(84.4359, grad_fn=<MeanBackward0>)\n",
      "loss: tensor(84.4357, grad_fn=<MeanBackward0>)\n",
      "loss: tensor(84.4355, grad_fn=<MeanBackward0>)\n",
      "loss: tensor(84.4353, grad_fn=<MeanBackward0>)\n",
      "loss: tensor(84.4350, grad_fn=<MeanBackward0>)\n",
      "loss: tensor(84.4348, grad_fn=<MeanBackward0>)\n",
      "loss: tensor(84.4346, grad_fn=<MeanBackward0>)\n",
      "loss: tensor(84.4344, grad_fn=<MeanBackward0>)\n",
      "loss: tensor(84.4342, grad_fn=<MeanBackward0>)\n",
      "loss: tensor(84.4340, grad_fn=<MeanBackward0>)\n",
      "loss: tensor(84.4338, grad_fn=<MeanBackward0>)\n",
      "loss: tensor(84.4335, grad_fn=<MeanBackward0>)\n",
      "loss: tensor(84.4333, grad_fn=<MeanBackward0>)\n",
      "loss: tensor(84.4331, grad_fn=<MeanBackward0>)\n",
      "loss: tensor(84.4329, grad_fn=<MeanBackward0>)\n",
      "loss: tensor(84.4327, grad_fn=<MeanBackward0>)\n",
      "loss: tensor(84.4325, grad_fn=<MeanBackward0>)\n",
      "loss: tensor(84.4323, grad_fn=<MeanBackward0>)\n",
      "loss: tensor(84.4320, grad_fn=<MeanBackward0>)\n",
      "loss: tensor(84.4318, grad_fn=<MeanBackward0>)\n",
      "loss: tensor(84.4316, grad_fn=<MeanBackward0>)\n",
      "loss: tensor(84.4314, grad_fn=<MeanBackward0>)\n",
      "loss: tensor(84.4312, grad_fn=<MeanBackward0>)\n",
      "loss: tensor(84.4310, grad_fn=<MeanBackward0>)\n",
      "loss: tensor(84.4307, grad_fn=<MeanBackward0>)\n",
      "loss: tensor(84.4305, grad_fn=<MeanBackward0>)\n",
      "loss: tensor(84.4303, grad_fn=<MeanBackward0>)\n",
      "loss: tensor(84.4301, grad_fn=<MeanBackward0>)\n",
      "loss: tensor(84.4299, grad_fn=<MeanBackward0>)\n",
      "loss: tensor(84.4297, grad_fn=<MeanBackward0>)\n",
      "loss: tensor(84.4295, grad_fn=<MeanBackward0>)\n",
      "loss: tensor(84.4292, grad_fn=<MeanBackward0>)\n",
      "loss: tensor(84.4290, grad_fn=<MeanBackward0>)\n",
      "loss: tensor(84.4288, grad_fn=<MeanBackward0>)\n",
      "loss: tensor(84.4286, grad_fn=<MeanBackward0>)\n",
      "loss: tensor(84.4284, grad_fn=<MeanBackward0>)\n",
      "loss: tensor(84.4282, grad_fn=<MeanBackward0>)\n",
      "loss: tensor(84.4280, grad_fn=<MeanBackward0>)\n",
      "loss: tensor(84.4277, grad_fn=<MeanBackward0>)\n",
      "loss: tensor(84.4275, grad_fn=<MeanBackward0>)\n",
      "loss: tensor(84.4273, grad_fn=<MeanBackward0>)\n",
      "loss: tensor(84.4271, grad_fn=<MeanBackward0>)\n",
      "loss: tensor(84.4269, grad_fn=<MeanBackward0>)\n",
      "loss: tensor(84.4267, grad_fn=<MeanBackward0>)\n",
      "loss: tensor(84.4264, grad_fn=<MeanBackward0>)\n",
      "loss: tensor(84.4262, grad_fn=<MeanBackward0>)\n",
      "loss: tensor(84.4260, grad_fn=<MeanBackward0>)\n",
      "loss: tensor(84.4258, grad_fn=<MeanBackward0>)\n",
      "loss: tensor(84.4256, grad_fn=<MeanBackward0>)\n",
      "loss: tensor(84.4254, grad_fn=<MeanBackward0>)\n",
      "loss: tensor(84.4252, grad_fn=<MeanBackward0>)\n",
      "loss: tensor(84.4249, grad_fn=<MeanBackward0>)\n",
      "loss: tensor(84.4247, grad_fn=<MeanBackward0>)\n",
      "loss: tensor(84.4245, grad_fn=<MeanBackward0>)\n",
      "loss: tensor(84.4243, grad_fn=<MeanBackward0>)\n",
      "loss: tensor(84.4241, grad_fn=<MeanBackward0>)\n",
      "loss: tensor(84.4239, grad_fn=<MeanBackward0>)\n",
      "loss: tensor(84.4237, grad_fn=<MeanBackward0>)\n",
      "loss: tensor(84.4234, grad_fn=<MeanBackward0>)\n",
      "loss: tensor(84.4232, grad_fn=<MeanBackward0>)\n",
      "loss: tensor(84.4230, grad_fn=<MeanBackward0>)\n",
      "loss: tensor(84.4228, grad_fn=<MeanBackward0>)\n",
      "loss: tensor(84.4226, grad_fn=<MeanBackward0>)\n",
      "loss: tensor(84.4224, grad_fn=<MeanBackward0>)\n",
      "loss: tensor(84.4222, grad_fn=<MeanBackward0>)\n",
      "loss: tensor(84.4219, grad_fn=<MeanBackward0>)\n",
      "loss: tensor(84.4217, grad_fn=<MeanBackward0>)\n",
      "loss: tensor(84.4215, grad_fn=<MeanBackward0>)\n",
      "loss: tensor(84.4213, grad_fn=<MeanBackward0>)\n",
      "loss: tensor(84.4211, grad_fn=<MeanBackward0>)\n",
      "loss: tensor(84.4209, grad_fn=<MeanBackward0>)\n",
      "loss: tensor(84.4207, grad_fn=<MeanBackward0>)\n",
      "loss: tensor(84.4204, grad_fn=<MeanBackward0>)\n",
      "loss: tensor(84.4202, grad_fn=<MeanBackward0>)\n",
      "loss: tensor(84.4200, grad_fn=<MeanBackward0>)\n",
      "loss: tensor(84.4198, grad_fn=<MeanBackward0>)\n",
      "loss: tensor(84.4196, grad_fn=<MeanBackward0>)\n",
      "loss: tensor(84.4194, grad_fn=<MeanBackward0>)\n",
      "loss: tensor(84.4192, grad_fn=<MeanBackward0>)\n",
      "loss: tensor(84.4190, grad_fn=<MeanBackward0>)\n",
      "loss: tensor(84.4187, grad_fn=<MeanBackward0>)\n",
      "loss: tensor(84.4185, grad_fn=<MeanBackward0>)\n",
      "loss: tensor(84.4183, grad_fn=<MeanBackward0>)\n",
      "loss: tensor(84.4181, grad_fn=<MeanBackward0>)\n",
      "loss: tensor(84.4179, grad_fn=<MeanBackward0>)\n",
      "loss: tensor(84.4177, grad_fn=<MeanBackward0>)\n",
      "loss: tensor(84.4174, grad_fn=<MeanBackward0>)\n",
      "loss: tensor(84.4172, grad_fn=<MeanBackward0>)\n",
      "loss: tensor(84.4170, grad_fn=<MeanBackward0>)\n",
      "loss: tensor(84.4168, grad_fn=<MeanBackward0>)\n",
      "loss: tensor(84.4166, grad_fn=<MeanBackward0>)\n",
      "loss: tensor(84.4164, grad_fn=<MeanBackward0>)\n",
      "loss: tensor(84.4162, grad_fn=<MeanBackward0>)\n",
      "loss: tensor(84.4159, grad_fn=<MeanBackward0>)\n",
      "loss: tensor(84.4157, grad_fn=<MeanBackward0>)\n",
      "loss: tensor(84.4155, grad_fn=<MeanBackward0>)\n",
      "loss: tensor(84.4153, grad_fn=<MeanBackward0>)\n",
      "loss: tensor(84.4151, grad_fn=<MeanBackward0>)\n",
      "loss: tensor(84.4149, grad_fn=<MeanBackward0>)\n",
      "loss: tensor(84.4147, grad_fn=<MeanBackward0>)\n",
      "loss: tensor(84.4145, grad_fn=<MeanBackward0>)\n",
      "loss: tensor(84.4142, grad_fn=<MeanBackward0>)\n",
      "loss: tensor(84.4140, grad_fn=<MeanBackward0>)\n",
      "loss: tensor(84.4138, grad_fn=<MeanBackward0>)\n",
      "loss: tensor(84.4136, grad_fn=<MeanBackward0>)\n",
      "loss: tensor(84.4134, grad_fn=<MeanBackward0>)\n",
      "loss: tensor(84.4132, grad_fn=<MeanBackward0>)\n",
      "loss: tensor(84.4130, grad_fn=<MeanBackward0>)\n",
      "loss: tensor(84.4128, grad_fn=<MeanBackward0>)\n",
      "loss: tensor(84.4126, grad_fn=<MeanBackward0>)\n",
      "loss: tensor(84.4123, grad_fn=<MeanBackward0>)\n",
      "loss: tensor(84.4121, grad_fn=<MeanBackward0>)\n",
      "loss: tensor(84.4119, grad_fn=<MeanBackward0>)\n",
      "loss: tensor(84.4117, grad_fn=<MeanBackward0>)\n",
      "loss: tensor(84.4115, grad_fn=<MeanBackward0>)\n",
      "loss: tensor(84.4113, grad_fn=<MeanBackward0>)\n",
      "loss: tensor(84.4110, grad_fn=<MeanBackward0>)\n",
      "loss: tensor(84.4108, grad_fn=<MeanBackward0>)\n",
      "loss: tensor(84.4106, grad_fn=<MeanBackward0>)\n",
      "loss: tensor(84.4104, grad_fn=<MeanBackward0>)\n",
      "loss: tensor(84.4102, grad_fn=<MeanBackward0>)\n",
      "loss: tensor(84.4100, grad_fn=<MeanBackward0>)\n",
      "loss: tensor(84.4098, grad_fn=<MeanBackward0>)\n",
      "loss: tensor(84.4096, grad_fn=<MeanBackward0>)\n",
      "loss: tensor(84.4093, grad_fn=<MeanBackward0>)\n",
      "loss: tensor(84.4091, grad_fn=<MeanBackward0>)\n",
      "loss: tensor(84.4089, grad_fn=<MeanBackward0>)\n",
      "loss: tensor(84.4087, grad_fn=<MeanBackward0>)\n",
      "loss: tensor(84.4085, grad_fn=<MeanBackward0>)\n",
      "loss: tensor(84.4083, grad_fn=<MeanBackward0>)\n",
      "loss: tensor(84.4081, grad_fn=<MeanBackward0>)\n",
      "loss: tensor(84.4079, grad_fn=<MeanBackward0>)\n",
      "loss: tensor(84.4076, grad_fn=<MeanBackward0>)\n",
      "loss: tensor(84.4074, grad_fn=<MeanBackward0>)\n",
      "loss: tensor(84.4072, grad_fn=<MeanBackward0>)\n",
      "loss: tensor(84.4070, grad_fn=<MeanBackward0>)\n",
      "loss: tensor(84.4068, grad_fn=<MeanBackward0>)\n",
      "loss: tensor(84.4066, grad_fn=<MeanBackward0>)\n",
      "loss: tensor(84.4064, grad_fn=<MeanBackward0>)\n",
      "loss: tensor(84.4062, grad_fn=<MeanBackward0>)\n",
      "loss: tensor(84.4059, grad_fn=<MeanBackward0>)\n",
      "loss: tensor(84.4057, grad_fn=<MeanBackward0>)\n",
      "loss: tensor(84.4055, grad_fn=<MeanBackward0>)\n",
      "loss: tensor(84.4053, grad_fn=<MeanBackward0>)\n",
      "loss: tensor(84.4051, grad_fn=<MeanBackward0>)\n",
      "loss: tensor(84.4049, grad_fn=<MeanBackward0>)\n",
      "loss: tensor(84.4047, grad_fn=<MeanBackward0>)\n",
      "loss: tensor(84.4044, grad_fn=<MeanBackward0>)\n",
      "loss: tensor(84.4042, grad_fn=<MeanBackward0>)\n",
      "loss: tensor(84.4040, grad_fn=<MeanBackward0>)\n",
      "loss: tensor(84.4038, grad_fn=<MeanBackward0>)\n",
      "loss: tensor(84.4036, grad_fn=<MeanBackward0>)\n",
      "loss: tensor(84.4034, grad_fn=<MeanBackward0>)\n",
      "loss: tensor(84.4032, grad_fn=<MeanBackward0>)\n",
      "loss: tensor(84.4030, grad_fn=<MeanBackward0>)\n",
      "loss: tensor(84.4028, grad_fn=<MeanBackward0>)\n",
      "loss: tensor(84.4025, grad_fn=<MeanBackward0>)\n",
      "loss: tensor(84.4023, grad_fn=<MeanBackward0>)\n",
      "loss: tensor(84.4021, grad_fn=<MeanBackward0>)\n",
      "loss: tensor(84.4019, grad_fn=<MeanBackward0>)\n",
      "loss: tensor(84.4017, grad_fn=<MeanBackward0>)\n",
      "loss: tensor(84.4015, grad_fn=<MeanBackward0>)\n",
      "loss: tensor(84.4013, grad_fn=<MeanBackward0>)\n",
      "loss: tensor(84.4010, grad_fn=<MeanBackward0>)\n",
      "loss: tensor(84.4008, grad_fn=<MeanBackward0>)\n",
      "loss: tensor(84.4006, grad_fn=<MeanBackward0>)\n",
      "loss: tensor(84.4004, grad_fn=<MeanBackward0>)\n",
      "loss: tensor(84.4002, grad_fn=<MeanBackward0>)\n",
      "loss: tensor(84.4000, grad_fn=<MeanBackward0>)\n",
      "loss: tensor(84.3998, grad_fn=<MeanBackward0>)\n",
      "loss: tensor(84.3996, grad_fn=<MeanBackward0>)\n",
      "loss: tensor(84.3994, grad_fn=<MeanBackward0>)\n",
      "loss: tensor(84.3992, grad_fn=<MeanBackward0>)\n",
      "loss: tensor(84.3989, grad_fn=<MeanBackward0>)\n",
      "loss: tensor(84.3987, grad_fn=<MeanBackward0>)\n",
      "loss: tensor(84.3985, grad_fn=<MeanBackward0>)\n",
      "loss: tensor(84.3983, grad_fn=<MeanBackward0>)\n",
      "loss: tensor(84.3981, grad_fn=<MeanBackward0>)\n",
      "loss: tensor(84.3979, grad_fn=<MeanBackward0>)\n",
      "loss: tensor(84.3977, grad_fn=<MeanBackward0>)\n",
      "loss: tensor(84.3975, grad_fn=<MeanBackward0>)\n",
      "loss: tensor(84.3972, grad_fn=<MeanBackward0>)\n",
      "loss: tensor(84.3970, grad_fn=<MeanBackward0>)\n",
      "loss: tensor(84.3968, grad_fn=<MeanBackward0>)\n",
      "loss: tensor(84.3966, grad_fn=<MeanBackward0>)\n",
      "loss: tensor(84.3964, grad_fn=<MeanBackward0>)\n",
      "loss: tensor(84.3962, grad_fn=<MeanBackward0>)\n",
      "loss: tensor(84.3960, grad_fn=<MeanBackward0>)\n",
      "loss: tensor(84.3958, grad_fn=<MeanBackward0>)\n",
      "loss: tensor(84.3956, grad_fn=<MeanBackward0>)\n",
      "loss: tensor(84.3953, grad_fn=<MeanBackward0>)\n",
      "loss: tensor(84.3951, grad_fn=<MeanBackward0>)\n",
      "loss: tensor(84.3949, grad_fn=<MeanBackward0>)\n",
      "loss: tensor(84.3947, grad_fn=<MeanBackward0>)\n",
      "loss: tensor(84.3945, grad_fn=<MeanBackward0>)\n",
      "loss: tensor(84.3943, grad_fn=<MeanBackward0>)\n",
      "loss: tensor(84.3941, grad_fn=<MeanBackward0>)\n",
      "loss: tensor(84.3939, grad_fn=<MeanBackward0>)\n",
      "loss: tensor(84.3936, grad_fn=<MeanBackward0>)\n",
      "loss: tensor(84.3934, grad_fn=<MeanBackward0>)\n",
      "loss: tensor(84.3932, grad_fn=<MeanBackward0>)\n",
      "loss: tensor(84.3930, grad_fn=<MeanBackward0>)\n",
      "loss: tensor(84.3928, grad_fn=<MeanBackward0>)\n",
      "loss: tensor(84.3926, grad_fn=<MeanBackward0>)\n",
      "loss: tensor(84.3924, grad_fn=<MeanBackward0>)\n",
      "loss: tensor(84.3922, grad_fn=<MeanBackward0>)\n",
      "loss: tensor(84.3920, grad_fn=<MeanBackward0>)\n",
      "loss: tensor(84.3918, grad_fn=<MeanBackward0>)\n",
      "loss: tensor(84.3915, grad_fn=<MeanBackward0>)\n",
      "loss: tensor(84.3913, grad_fn=<MeanBackward0>)\n",
      "loss: tensor(84.3911, grad_fn=<MeanBackward0>)\n",
      "loss: tensor(84.3909, grad_fn=<MeanBackward0>)\n",
      "loss: tensor(84.3907, grad_fn=<MeanBackward0>)\n",
      "loss: tensor(84.3905, grad_fn=<MeanBackward0>)\n",
      "loss: tensor(84.3903, grad_fn=<MeanBackward0>)\n",
      "loss: tensor(84.3901, grad_fn=<MeanBackward0>)\n",
      "loss: tensor(84.3898, grad_fn=<MeanBackward0>)\n",
      "loss: tensor(84.3896, grad_fn=<MeanBackward0>)\n",
      "loss: tensor(84.3894, grad_fn=<MeanBackward0>)\n",
      "loss: tensor(84.3892, grad_fn=<MeanBackward0>)\n",
      "loss: tensor(84.3890, grad_fn=<MeanBackward0>)\n",
      "loss: tensor(84.3888, grad_fn=<MeanBackward0>)\n",
      "loss: tensor(84.3886, grad_fn=<MeanBackward0>)\n",
      "loss: tensor(84.3884, grad_fn=<MeanBackward0>)\n",
      "loss: tensor(84.3882, grad_fn=<MeanBackward0>)\n",
      "loss: tensor(84.3879, grad_fn=<MeanBackward0>)\n",
      "loss: tensor(84.3877, grad_fn=<MeanBackward0>)\n",
      "loss: tensor(84.3875, grad_fn=<MeanBackward0>)\n",
      "loss: tensor(84.3873, grad_fn=<MeanBackward0>)\n",
      "loss: tensor(84.3871, grad_fn=<MeanBackward0>)\n",
      "loss: tensor(84.3869, grad_fn=<MeanBackward0>)\n",
      "loss: tensor(84.3867, grad_fn=<MeanBackward0>)\n",
      "loss: tensor(84.3865, grad_fn=<MeanBackward0>)\n",
      "loss: tensor(84.3863, grad_fn=<MeanBackward0>)\n",
      "loss: tensor(84.3861, grad_fn=<MeanBackward0>)\n",
      "loss: tensor(84.3858, grad_fn=<MeanBackward0>)\n",
      "loss: tensor(84.3856, grad_fn=<MeanBackward0>)\n",
      "loss: tensor(84.3854, grad_fn=<MeanBackward0>)\n",
      "loss: tensor(84.3852, grad_fn=<MeanBackward0>)\n",
      "loss: tensor(84.3850, grad_fn=<MeanBackward0>)\n",
      "loss: tensor(84.3848, grad_fn=<MeanBackward0>)\n",
      "loss: tensor(84.3846, grad_fn=<MeanBackward0>)\n",
      "loss: tensor(84.3844, grad_fn=<MeanBackward0>)\n",
      "loss: tensor(84.3842, grad_fn=<MeanBackward0>)\n",
      "loss: tensor(84.3839, grad_fn=<MeanBackward0>)\n",
      "loss: tensor(84.3837, grad_fn=<MeanBackward0>)\n",
      "loss: tensor(84.3835, grad_fn=<MeanBackward0>)\n",
      "loss: tensor(84.3833, grad_fn=<MeanBackward0>)\n",
      "loss: tensor(84.3831, grad_fn=<MeanBackward0>)\n",
      "loss: tensor(84.3829, grad_fn=<MeanBackward0>)\n",
      "loss: tensor(84.3827, grad_fn=<MeanBackward0>)\n",
      "loss: tensor(84.3825, grad_fn=<MeanBackward0>)\n",
      "loss: tensor(84.3823, grad_fn=<MeanBackward0>)\n",
      "loss: tensor(84.3821, grad_fn=<MeanBackward0>)\n",
      "loss: tensor(84.3819, grad_fn=<MeanBackward0>)\n",
      "loss: tensor(84.3816, grad_fn=<MeanBackward0>)\n",
      "loss: tensor(84.3814, grad_fn=<MeanBackward0>)\n",
      "loss: tensor(84.3812, grad_fn=<MeanBackward0>)\n",
      "loss: tensor(84.3810, grad_fn=<MeanBackward0>)\n",
      "loss: tensor(84.3808, grad_fn=<MeanBackward0>)\n",
      "loss: tensor(84.3806, grad_fn=<MeanBackward0>)\n",
      "loss: tensor(84.3804, grad_fn=<MeanBackward0>)\n",
      "loss: tensor(84.3802, grad_fn=<MeanBackward0>)\n",
      "loss: tensor(84.3800, grad_fn=<MeanBackward0>)\n",
      "loss: tensor(84.3797, grad_fn=<MeanBackward0>)\n",
      "loss: tensor(84.3795, grad_fn=<MeanBackward0>)\n",
      "loss: tensor(84.3793, grad_fn=<MeanBackward0>)\n",
      "loss: tensor(84.3791, grad_fn=<MeanBackward0>)\n",
      "loss: tensor(84.3789, grad_fn=<MeanBackward0>)\n",
      "loss: tensor(84.3787, grad_fn=<MeanBackward0>)\n",
      "loss: tensor(84.3785, grad_fn=<MeanBackward0>)\n",
      "loss: tensor(84.3783, grad_fn=<MeanBackward0>)\n",
      "loss: tensor(84.3781, grad_fn=<MeanBackward0>)\n",
      "loss: tensor(84.3779, grad_fn=<MeanBackward0>)\n",
      "loss: tensor(84.3776, grad_fn=<MeanBackward0>)\n",
      "loss: tensor(84.3774, grad_fn=<MeanBackward0>)\n",
      "loss: tensor(84.3772, grad_fn=<MeanBackward0>)\n",
      "loss: tensor(84.3770, grad_fn=<MeanBackward0>)\n",
      "loss: tensor(84.3768, grad_fn=<MeanBackward0>)\n",
      "loss: tensor(84.3766, grad_fn=<MeanBackward0>)\n",
      "loss: tensor(84.3764, grad_fn=<MeanBackward0>)\n",
      "loss: tensor(84.3762, grad_fn=<MeanBackward0>)\n",
      "loss: tensor(84.3760, grad_fn=<MeanBackward0>)\n",
      "loss: tensor(84.3758, grad_fn=<MeanBackward0>)\n",
      "loss: tensor(84.3756, grad_fn=<MeanBackward0>)\n",
      "loss: tensor(84.3754, grad_fn=<MeanBackward0>)\n",
      "loss: tensor(84.3751, grad_fn=<MeanBackward0>)\n",
      "loss: tensor(84.3749, grad_fn=<MeanBackward0>)\n",
      "loss: tensor(84.3747, grad_fn=<MeanBackward0>)\n",
      "loss: tensor(84.3745, grad_fn=<MeanBackward0>)\n",
      "loss: tensor(84.3743, grad_fn=<MeanBackward0>)\n",
      "loss: tensor(84.3741, grad_fn=<MeanBackward0>)\n",
      "loss: tensor(84.3739, grad_fn=<MeanBackward0>)\n",
      "loss: tensor(84.3737, grad_fn=<MeanBackward0>)\n",
      "loss: tensor(84.3735, grad_fn=<MeanBackward0>)\n",
      "loss: tensor(84.3733, grad_fn=<MeanBackward0>)\n",
      "loss: tensor(84.3730, grad_fn=<MeanBackward0>)\n",
      "loss: tensor(84.3728, grad_fn=<MeanBackward0>)\n",
      "loss: tensor(84.3726, grad_fn=<MeanBackward0>)\n",
      "loss: tensor(84.3724, grad_fn=<MeanBackward0>)\n",
      "loss: tensor(84.3722, grad_fn=<MeanBackward0>)\n",
      "loss: tensor(84.3720, grad_fn=<MeanBackward0>)\n",
      "loss: tensor(84.3718, grad_fn=<MeanBackward0>)\n",
      "loss: tensor(84.3716, grad_fn=<MeanBackward0>)\n",
      "loss: tensor(84.3714, grad_fn=<MeanBackward0>)\n",
      "loss: tensor(84.3712, grad_fn=<MeanBackward0>)\n",
      "loss: tensor(84.3710, grad_fn=<MeanBackward0>)\n",
      "loss: tensor(84.3707, grad_fn=<MeanBackward0>)\n",
      "loss: tensor(84.3705, grad_fn=<MeanBackward0>)\n",
      "loss: tensor(84.3703, grad_fn=<MeanBackward0>)\n",
      "loss: tensor(84.3701, grad_fn=<MeanBackward0>)\n",
      "loss: tensor(84.3699, grad_fn=<MeanBackward0>)\n",
      "loss: tensor(84.3697, grad_fn=<MeanBackward0>)\n",
      "loss: tensor(84.3695, grad_fn=<MeanBackward0>)\n",
      "loss: tensor(84.3693, grad_fn=<MeanBackward0>)\n",
      "loss: tensor(84.3691, grad_fn=<MeanBackward0>)\n",
      "loss: tensor(84.3689, grad_fn=<MeanBackward0>)\n",
      "loss: tensor(84.3687, grad_fn=<MeanBackward0>)\n",
      "loss: tensor(84.3684, grad_fn=<MeanBackward0>)\n",
      "loss: tensor(84.3682, grad_fn=<MeanBackward0>)\n",
      "loss: tensor(84.3680, grad_fn=<MeanBackward0>)\n",
      "loss: tensor(84.3678, grad_fn=<MeanBackward0>)\n",
      "loss: tensor(84.3676, grad_fn=<MeanBackward0>)\n",
      "loss: tensor(84.3674, grad_fn=<MeanBackward0>)\n",
      "loss: tensor(84.3672, grad_fn=<MeanBackward0>)\n",
      "loss: tensor(84.3670, grad_fn=<MeanBackward0>)\n",
      "loss: tensor(84.3668, grad_fn=<MeanBackward0>)\n",
      "loss: tensor(84.3666, grad_fn=<MeanBackward0>)\n",
      "loss: tensor(84.3663, grad_fn=<MeanBackward0>)\n",
      "loss: tensor(84.3662, grad_fn=<MeanBackward0>)\n",
      "loss: tensor(84.3659, grad_fn=<MeanBackward0>)\n",
      "loss: tensor(84.3657, grad_fn=<MeanBackward0>)\n",
      "loss: tensor(84.3655, grad_fn=<MeanBackward0>)\n",
      "loss: tensor(84.3653, grad_fn=<MeanBackward0>)\n",
      "loss: tensor(84.3651, grad_fn=<MeanBackward0>)\n",
      "loss: tensor(84.3649, grad_fn=<MeanBackward0>)\n",
      "loss: tensor(84.3647, grad_fn=<MeanBackward0>)\n",
      "loss: tensor(84.3645, grad_fn=<MeanBackward0>)\n",
      "loss: tensor(84.3643, grad_fn=<MeanBackward0>)\n",
      "loss: tensor(84.3641, grad_fn=<MeanBackward0>)\n",
      "loss: tensor(84.3639, grad_fn=<MeanBackward0>)\n",
      "loss: tensor(84.3636, grad_fn=<MeanBackward0>)\n",
      "loss: tensor(84.3634, grad_fn=<MeanBackward0>)\n",
      "loss: tensor(84.3632, grad_fn=<MeanBackward0>)\n",
      "loss: tensor(84.3630, grad_fn=<MeanBackward0>)\n",
      "loss: tensor(84.3628, grad_fn=<MeanBackward0>)\n",
      "loss: tensor(84.3626, grad_fn=<MeanBackward0>)\n",
      "loss: tensor(84.3624, grad_fn=<MeanBackward0>)\n",
      "loss: tensor(84.3622, grad_fn=<MeanBackward0>)\n",
      "loss: tensor(84.3620, grad_fn=<MeanBackward0>)\n",
      "loss: tensor(84.3618, grad_fn=<MeanBackward0>)\n",
      "loss: tensor(84.3616, grad_fn=<MeanBackward0>)\n",
      "loss: tensor(84.3614, grad_fn=<MeanBackward0>)\n",
      "loss: tensor(84.3612, grad_fn=<MeanBackward0>)\n",
      "loss: tensor(84.3609, grad_fn=<MeanBackward0>)\n",
      "loss: tensor(84.3607, grad_fn=<MeanBackward0>)\n",
      "loss: tensor(84.3605, grad_fn=<MeanBackward0>)\n",
      "loss: tensor(84.3603, grad_fn=<MeanBackward0>)\n",
      "loss: tensor(84.3601, grad_fn=<MeanBackward0>)\n",
      "loss: tensor(84.3599, grad_fn=<MeanBackward0>)\n",
      "loss: tensor(84.3597, grad_fn=<MeanBackward0>)\n",
      "loss: tensor(84.3595, grad_fn=<MeanBackward0>)\n",
      "loss: tensor(84.3593, grad_fn=<MeanBackward0>)\n",
      "loss: tensor(84.3591, grad_fn=<MeanBackward0>)\n",
      "loss: tensor(84.3589, grad_fn=<MeanBackward0>)\n",
      "loss: tensor(84.3587, grad_fn=<MeanBackward0>)\n",
      "loss: tensor(84.3584, grad_fn=<MeanBackward0>)\n",
      "loss: tensor(84.3583, grad_fn=<MeanBackward0>)\n",
      "loss: tensor(84.3580, grad_fn=<MeanBackward0>)\n",
      "loss: tensor(84.3578, grad_fn=<MeanBackward0>)\n",
      "loss: tensor(84.3576, grad_fn=<MeanBackward0>)\n",
      "loss: tensor(84.3574, grad_fn=<MeanBackward0>)\n",
      "loss: tensor(84.3572, grad_fn=<MeanBackward0>)\n",
      "loss: tensor(84.3570, grad_fn=<MeanBackward0>)\n",
      "loss: tensor(84.3568, grad_fn=<MeanBackward0>)\n",
      "loss: tensor(84.3566, grad_fn=<MeanBackward0>)\n",
      "loss: tensor(84.3564, grad_fn=<MeanBackward0>)\n",
      "loss: tensor(84.3562, grad_fn=<MeanBackward0>)\n",
      "loss: tensor(84.3559, grad_fn=<MeanBackward0>)\n",
      "loss: tensor(84.3557, grad_fn=<MeanBackward0>)\n",
      "loss: tensor(84.3555, grad_fn=<MeanBackward0>)\n",
      "loss: tensor(84.3553, grad_fn=<MeanBackward0>)\n",
      "loss: tensor(84.3551, grad_fn=<MeanBackward0>)\n",
      "loss: tensor(84.3549, grad_fn=<MeanBackward0>)\n",
      "loss: tensor(84.3547, grad_fn=<MeanBackward0>)\n",
      "loss: tensor(84.3545, grad_fn=<MeanBackward0>)\n",
      "loss: tensor(84.3543, grad_fn=<MeanBackward0>)\n",
      "loss: tensor(84.3541, grad_fn=<MeanBackward0>)\n",
      "loss: tensor(84.3539, grad_fn=<MeanBackward0>)\n",
      "loss: tensor(84.3537, grad_fn=<MeanBackward0>)\n",
      "loss: tensor(84.3535, grad_fn=<MeanBackward0>)\n",
      "loss: tensor(84.3533, grad_fn=<MeanBackward0>)\n",
      "loss: tensor(84.3531, grad_fn=<MeanBackward0>)\n",
      "loss: tensor(84.3528, grad_fn=<MeanBackward0>)\n",
      "loss: tensor(84.3526, grad_fn=<MeanBackward0>)\n",
      "loss: tensor(84.3524, grad_fn=<MeanBackward0>)\n",
      "loss: tensor(84.3522, grad_fn=<MeanBackward0>)\n",
      "loss: tensor(84.3520, grad_fn=<MeanBackward0>)\n",
      "loss: tensor(84.3518, grad_fn=<MeanBackward0>)\n",
      "loss: tensor(84.3516, grad_fn=<MeanBackward0>)\n",
      "loss: tensor(84.3514, grad_fn=<MeanBackward0>)\n",
      "loss: tensor(84.3512, grad_fn=<MeanBackward0>)\n",
      "loss: tensor(84.3510, grad_fn=<MeanBackward0>)\n",
      "loss: tensor(84.3508, grad_fn=<MeanBackward0>)\n",
      "loss: tensor(84.3506, grad_fn=<MeanBackward0>)\n",
      "loss: tensor(84.3504, grad_fn=<MeanBackward0>)\n",
      "loss: tensor(84.3502, grad_fn=<MeanBackward0>)\n",
      "loss: tensor(84.3499, grad_fn=<MeanBackward0>)\n",
      "loss: tensor(84.3497, grad_fn=<MeanBackward0>)\n",
      "loss: tensor(84.3495, grad_fn=<MeanBackward0>)\n",
      "loss: tensor(84.3493, grad_fn=<MeanBackward0>)\n",
      "loss: tensor(84.3491, grad_fn=<MeanBackward0>)\n",
      "loss: tensor(84.3489, grad_fn=<MeanBackward0>)\n",
      "loss: tensor(84.3487, grad_fn=<MeanBackward0>)\n",
      "loss: tensor(84.3485, grad_fn=<MeanBackward0>)\n",
      "loss: tensor(84.3483, grad_fn=<MeanBackward0>)\n",
      "loss: tensor(84.3481, grad_fn=<MeanBackward0>)\n",
      "loss: tensor(84.3479, grad_fn=<MeanBackward0>)\n",
      "loss: tensor(84.3477, grad_fn=<MeanBackward0>)\n",
      "loss: tensor(84.3475, grad_fn=<MeanBackward0>)\n",
      "loss: tensor(84.3473, grad_fn=<MeanBackward0>)\n",
      "loss: tensor(84.3470, grad_fn=<MeanBackward0>)\n",
      "loss: tensor(84.3468, grad_fn=<MeanBackward0>)\n",
      "loss: tensor(84.3466, grad_fn=<MeanBackward0>)\n",
      "loss: tensor(84.3464, grad_fn=<MeanBackward0>)\n",
      "loss: tensor(84.3462, grad_fn=<MeanBackward0>)\n",
      "loss: tensor(84.3460, grad_fn=<MeanBackward0>)\n",
      "loss: tensor(84.3458, grad_fn=<MeanBackward0>)\n",
      "loss: tensor(84.3456, grad_fn=<MeanBackward0>)\n",
      "loss: tensor(84.3454, grad_fn=<MeanBackward0>)\n",
      "loss: tensor(84.3452, grad_fn=<MeanBackward0>)\n",
      "loss: tensor(84.3450, grad_fn=<MeanBackward0>)\n",
      "loss: tensor(84.3448, grad_fn=<MeanBackward0>)\n",
      "loss: tensor(84.3446, grad_fn=<MeanBackward0>)\n",
      "loss: tensor(84.3444, grad_fn=<MeanBackward0>)\n",
      "loss: tensor(84.3442, grad_fn=<MeanBackward0>)\n",
      "loss: tensor(84.3440, grad_fn=<MeanBackward0>)\n",
      "loss: tensor(84.3437, grad_fn=<MeanBackward0>)\n",
      "loss: tensor(84.3435, grad_fn=<MeanBackward0>)\n",
      "loss: tensor(84.3433, grad_fn=<MeanBackward0>)\n",
      "loss: tensor(84.3431, grad_fn=<MeanBackward0>)\n",
      "loss: tensor(84.3429, grad_fn=<MeanBackward0>)\n",
      "loss: tensor(84.3427, grad_fn=<MeanBackward0>)\n",
      "loss: tensor(84.3425, grad_fn=<MeanBackward0>)\n",
      "loss: tensor(84.3423, grad_fn=<MeanBackward0>)\n",
      "loss: tensor(84.3421, grad_fn=<MeanBackward0>)\n",
      "loss: tensor(84.3419, grad_fn=<MeanBackward0>)\n",
      "loss: tensor(84.3417, grad_fn=<MeanBackward0>)\n",
      "loss: tensor(84.3415, grad_fn=<MeanBackward0>)\n",
      "loss: tensor(84.3413, grad_fn=<MeanBackward0>)\n",
      "loss: tensor(84.3411, grad_fn=<MeanBackward0>)\n",
      "loss: tensor(84.3409, grad_fn=<MeanBackward0>)\n",
      "loss: tensor(84.3407, grad_fn=<MeanBackward0>)\n",
      "loss: tensor(84.3404, grad_fn=<MeanBackward0>)\n",
      "loss: tensor(84.3402, grad_fn=<MeanBackward0>)\n",
      "loss: tensor(84.3400, grad_fn=<MeanBackward0>)\n",
      "loss: tensor(84.3398, grad_fn=<MeanBackward0>)\n",
      "loss: tensor(84.3396, grad_fn=<MeanBackward0>)\n",
      "loss: tensor(84.3394, grad_fn=<MeanBackward0>)\n",
      "loss: tensor(84.3392, grad_fn=<MeanBackward0>)\n",
      "loss: tensor(84.3390, grad_fn=<MeanBackward0>)\n",
      "loss: tensor(84.3388, grad_fn=<MeanBackward0>)\n",
      "loss: tensor(84.3386, grad_fn=<MeanBackward0>)\n",
      "loss: tensor(84.3384, grad_fn=<MeanBackward0>)\n",
      "loss: tensor(84.3382, grad_fn=<MeanBackward0>)\n",
      "loss: tensor(84.3380, grad_fn=<MeanBackward0>)\n",
      "loss: tensor(84.3378, grad_fn=<MeanBackward0>)\n",
      "loss: tensor(84.3376, grad_fn=<MeanBackward0>)\n",
      "loss: tensor(84.3374, grad_fn=<MeanBackward0>)\n",
      "loss: tensor(84.3372, grad_fn=<MeanBackward0>)\n",
      "loss: tensor(84.3370, grad_fn=<MeanBackward0>)\n",
      "loss: tensor(84.3367, grad_fn=<MeanBackward0>)\n",
      "loss: tensor(84.3365, grad_fn=<MeanBackward0>)\n",
      "loss: tensor(84.3363, grad_fn=<MeanBackward0>)\n",
      "loss: tensor(84.3361, grad_fn=<MeanBackward0>)\n",
      "loss: tensor(84.3359, grad_fn=<MeanBackward0>)\n",
      "loss: tensor(84.3357, grad_fn=<MeanBackward0>)\n",
      "loss: tensor(84.3355, grad_fn=<MeanBackward0>)\n",
      "loss: tensor(84.3353, grad_fn=<MeanBackward0>)\n",
      "loss: tensor(84.3351, grad_fn=<MeanBackward0>)\n",
      "loss: tensor(84.3349, grad_fn=<MeanBackward0>)\n",
      "loss: tensor(84.3347, grad_fn=<MeanBackward0>)\n",
      "loss: tensor(84.3345, grad_fn=<MeanBackward0>)\n",
      "loss: tensor(84.3343, grad_fn=<MeanBackward0>)\n",
      "loss: tensor(84.3341, grad_fn=<MeanBackward0>)\n",
      "loss: tensor(84.3339, grad_fn=<MeanBackward0>)\n",
      "loss: tensor(84.3337, grad_fn=<MeanBackward0>)\n",
      "loss: tensor(84.3335, grad_fn=<MeanBackward0>)\n",
      "loss: tensor(84.3333, grad_fn=<MeanBackward0>)\n",
      "loss: tensor(84.3331, grad_fn=<MeanBackward0>)\n",
      "loss: tensor(84.3329, grad_fn=<MeanBackward0>)\n",
      "loss: tensor(84.3326, grad_fn=<MeanBackward0>)\n",
      "loss: tensor(84.3324, grad_fn=<MeanBackward0>)\n",
      "loss: tensor(84.3322, grad_fn=<MeanBackward0>)\n",
      "loss: tensor(84.3320, grad_fn=<MeanBackward0>)\n",
      "loss: tensor(84.3318, grad_fn=<MeanBackward0>)\n",
      "loss: tensor(84.3316, grad_fn=<MeanBackward0>)\n",
      "loss: tensor(84.3314, grad_fn=<MeanBackward0>)\n",
      "loss: tensor(84.3312, grad_fn=<MeanBackward0>)\n",
      "loss: tensor(84.3310, grad_fn=<MeanBackward0>)\n",
      "loss: tensor(84.3308, grad_fn=<MeanBackward0>)\n",
      "loss: tensor(84.3306, grad_fn=<MeanBackward0>)\n",
      "loss: tensor(84.3304, grad_fn=<MeanBackward0>)\n",
      "loss: tensor(84.3302, grad_fn=<MeanBackward0>)\n",
      "loss: tensor(84.3300, grad_fn=<MeanBackward0>)\n",
      "loss: tensor(84.3298, grad_fn=<MeanBackward0>)\n",
      "loss: tensor(84.3296, grad_fn=<MeanBackward0>)\n",
      "loss: tensor(84.3294, grad_fn=<MeanBackward0>)\n",
      "loss: tensor(84.3292, grad_fn=<MeanBackward0>)\n",
      "loss: tensor(84.3290, grad_fn=<MeanBackward0>)\n",
      "loss: tensor(84.3287, grad_fn=<MeanBackward0>)\n",
      "loss: tensor(84.3285, grad_fn=<MeanBackward0>)\n",
      "loss: tensor(84.3283, grad_fn=<MeanBackward0>)\n",
      "loss: tensor(84.3281, grad_fn=<MeanBackward0>)\n",
      "loss: tensor(84.3279, grad_fn=<MeanBackward0>)\n",
      "loss: tensor(84.3277, grad_fn=<MeanBackward0>)\n",
      "loss: tensor(84.3275, grad_fn=<MeanBackward0>)\n",
      "loss: tensor(84.3273, grad_fn=<MeanBackward0>)\n",
      "loss: tensor(84.3271, grad_fn=<MeanBackward0>)\n",
      "loss: tensor(84.3269, grad_fn=<MeanBackward0>)\n",
      "loss: tensor(84.3267, grad_fn=<MeanBackward0>)\n",
      "loss: tensor(84.3265, grad_fn=<MeanBackward0>)\n",
      "loss: tensor(84.3263, grad_fn=<MeanBackward0>)\n",
      "loss: tensor(84.3261, grad_fn=<MeanBackward0>)\n",
      "loss: tensor(84.3259, grad_fn=<MeanBackward0>)\n",
      "loss: tensor(84.3257, grad_fn=<MeanBackward0>)\n",
      "loss: tensor(84.3255, grad_fn=<MeanBackward0>)\n",
      "loss: tensor(84.3253, grad_fn=<MeanBackward0>)\n",
      "loss: tensor(84.3251, grad_fn=<MeanBackward0>)\n",
      "loss: tensor(84.3249, grad_fn=<MeanBackward0>)\n",
      "loss: tensor(84.3247, grad_fn=<MeanBackward0>)\n",
      "loss: tensor(84.3245, grad_fn=<MeanBackward0>)\n",
      "loss: tensor(84.3243, grad_fn=<MeanBackward0>)\n",
      "loss: tensor(84.3240, grad_fn=<MeanBackward0>)\n",
      "loss: tensor(84.3239, grad_fn=<MeanBackward0>)\n",
      "loss: tensor(84.3236, grad_fn=<MeanBackward0>)\n",
      "loss: tensor(84.3234, grad_fn=<MeanBackward0>)\n",
      "loss: tensor(84.3232, grad_fn=<MeanBackward0>)\n",
      "loss: tensor(84.3230, grad_fn=<MeanBackward0>)\n",
      "loss: tensor(84.3228, grad_fn=<MeanBackward0>)\n",
      "loss: tensor(84.3226, grad_fn=<MeanBackward0>)\n",
      "loss: tensor(84.3224, grad_fn=<MeanBackward0>)\n",
      "loss: tensor(84.3222, grad_fn=<MeanBackward0>)\n",
      "loss: tensor(84.3220, grad_fn=<MeanBackward0>)\n",
      "loss: tensor(84.3218, grad_fn=<MeanBackward0>)\n",
      "loss: tensor(84.3216, grad_fn=<MeanBackward0>)\n",
      "loss: tensor(84.3214, grad_fn=<MeanBackward0>)\n",
      "loss: tensor(84.3212, grad_fn=<MeanBackward0>)\n",
      "loss: tensor(84.3210, grad_fn=<MeanBackward0>)\n",
      "loss: tensor(84.3208, grad_fn=<MeanBackward0>)\n",
      "loss: tensor(84.3206, grad_fn=<MeanBackward0>)\n",
      "loss: tensor(84.3204, grad_fn=<MeanBackward0>)\n",
      "loss: tensor(84.3202, grad_fn=<MeanBackward0>)\n",
      "loss: tensor(84.3200, grad_fn=<MeanBackward0>)\n",
      "loss: tensor(84.3198, grad_fn=<MeanBackward0>)\n",
      "loss: tensor(84.3196, grad_fn=<MeanBackward0>)\n",
      "loss: tensor(84.3193, grad_fn=<MeanBackward0>)\n",
      "loss: tensor(84.3192, grad_fn=<MeanBackward0>)\n",
      "loss: tensor(84.3190, grad_fn=<MeanBackward0>)\n",
      "loss: tensor(84.3187, grad_fn=<MeanBackward0>)\n",
      "loss: tensor(84.3185, grad_fn=<MeanBackward0>)\n",
      "loss: tensor(84.3183, grad_fn=<MeanBackward0>)\n",
      "loss: tensor(84.3181, grad_fn=<MeanBackward0>)\n",
      "loss: tensor(84.3179, grad_fn=<MeanBackward0>)\n",
      "loss: tensor(84.3177, grad_fn=<MeanBackward0>)\n",
      "loss: tensor(84.3175, grad_fn=<MeanBackward0>)\n",
      "loss: tensor(84.3173, grad_fn=<MeanBackward0>)\n",
      "loss: tensor(84.3171, grad_fn=<MeanBackward0>)\n",
      "loss: tensor(84.3169, grad_fn=<MeanBackward0>)\n",
      "loss: tensor(84.3167, grad_fn=<MeanBackward0>)\n",
      "loss: tensor(84.3165, grad_fn=<MeanBackward0>)\n",
      "loss: tensor(84.3163, grad_fn=<MeanBackward0>)\n",
      "loss: tensor(84.3161, grad_fn=<MeanBackward0>)\n",
      "loss: tensor(84.3159, grad_fn=<MeanBackward0>)\n",
      "loss: tensor(84.3157, grad_fn=<MeanBackward0>)\n",
      "loss: tensor(84.3155, grad_fn=<MeanBackward0>)\n",
      "loss: tensor(84.3153, grad_fn=<MeanBackward0>)\n",
      "loss: tensor(84.3151, grad_fn=<MeanBackward0>)\n",
      "loss: tensor(84.3149, grad_fn=<MeanBackward0>)\n",
      "loss: tensor(84.3147, grad_fn=<MeanBackward0>)\n",
      "loss: tensor(84.3145, grad_fn=<MeanBackward0>)\n",
      "loss: tensor(84.3143, grad_fn=<MeanBackward0>)\n",
      "loss: tensor(84.3141, grad_fn=<MeanBackward0>)\n",
      "loss: tensor(84.3139, grad_fn=<MeanBackward0>)\n",
      "loss: tensor(84.3137, grad_fn=<MeanBackward0>)\n",
      "loss: tensor(84.3135, grad_fn=<MeanBackward0>)\n",
      "loss: tensor(84.3132, grad_fn=<MeanBackward0>)\n",
      "loss: tensor(84.3130, grad_fn=<MeanBackward0>)\n",
      "loss: tensor(84.3129, grad_fn=<MeanBackward0>)\n",
      "loss: tensor(84.3126, grad_fn=<MeanBackward0>)\n",
      "loss: tensor(84.3124, grad_fn=<MeanBackward0>)\n",
      "loss: tensor(84.3122, grad_fn=<MeanBackward0>)\n",
      "loss: tensor(84.3120, grad_fn=<MeanBackward0>)\n",
      "loss: tensor(84.3118, grad_fn=<MeanBackward0>)\n",
      "loss: tensor(84.3116, grad_fn=<MeanBackward0>)\n",
      "loss: tensor(84.3114, grad_fn=<MeanBackward0>)\n",
      "loss: tensor(84.3112, grad_fn=<MeanBackward0>)\n",
      "loss: tensor(84.3110, grad_fn=<MeanBackward0>)\n",
      "loss: tensor(84.3108, grad_fn=<MeanBackward0>)\n",
      "loss: tensor(84.3106, grad_fn=<MeanBackward0>)\n",
      "loss: tensor(84.3104, grad_fn=<MeanBackward0>)\n",
      "loss: tensor(84.3102, grad_fn=<MeanBackward0>)\n",
      "loss: tensor(84.3100, grad_fn=<MeanBackward0>)\n",
      "loss: tensor(84.3098, grad_fn=<MeanBackward0>)\n",
      "loss: tensor(84.3096, grad_fn=<MeanBackward0>)\n",
      "loss: tensor(84.3094, grad_fn=<MeanBackward0>)\n",
      "loss: tensor(84.3092, grad_fn=<MeanBackward0>)\n",
      "loss: tensor(84.3090, grad_fn=<MeanBackward0>)\n",
      "loss: tensor(84.3088, grad_fn=<MeanBackward0>)\n",
      "loss: tensor(84.3086, grad_fn=<MeanBackward0>)\n",
      "loss: tensor(84.3084, grad_fn=<MeanBackward0>)\n",
      "loss: tensor(84.3082, grad_fn=<MeanBackward0>)\n",
      "loss: tensor(84.3080, grad_fn=<MeanBackward0>)\n",
      "loss: tensor(84.3078, grad_fn=<MeanBackward0>)\n",
      "loss: tensor(84.3076, grad_fn=<MeanBackward0>)\n",
      "loss: tensor(84.3074, grad_fn=<MeanBackward0>)\n",
      "loss: tensor(84.3072, grad_fn=<MeanBackward0>)\n",
      "loss: tensor(84.3070, grad_fn=<MeanBackward0>)\n",
      "loss: tensor(84.3068, grad_fn=<MeanBackward0>)\n",
      "loss: tensor(84.3066, grad_fn=<MeanBackward0>)\n",
      "loss: tensor(84.3064, grad_fn=<MeanBackward0>)\n",
      "loss: tensor(84.3062, grad_fn=<MeanBackward0>)\n",
      "loss: tensor(84.3060, grad_fn=<MeanBackward0>)\n",
      "loss: tensor(84.3057, grad_fn=<MeanBackward0>)\n",
      "loss: tensor(84.3055, grad_fn=<MeanBackward0>)\n",
      "loss: tensor(84.3054, grad_fn=<MeanBackward0>)\n",
      "loss: tensor(84.3052, grad_fn=<MeanBackward0>)\n",
      "loss: tensor(84.3049, grad_fn=<MeanBackward0>)\n",
      "loss: tensor(84.3047, grad_fn=<MeanBackward0>)\n",
      "loss: tensor(84.3045, grad_fn=<MeanBackward0>)\n",
      "loss: tensor(84.3043, grad_fn=<MeanBackward0>)\n",
      "loss: tensor(84.3041, grad_fn=<MeanBackward0>)\n",
      "loss: tensor(84.3039, grad_fn=<MeanBackward0>)\n",
      "loss: tensor(84.3037, grad_fn=<MeanBackward0>)\n",
      "loss: tensor(84.3035, grad_fn=<MeanBackward0>)\n",
      "loss: tensor(84.3033, grad_fn=<MeanBackward0>)\n",
      "loss: tensor(84.3031, grad_fn=<MeanBackward0>)\n",
      "loss: tensor(84.3029, grad_fn=<MeanBackward0>)\n"
     ]
    }
   ],
   "source": [
    "# 对a和b进行迭代计算\n",
    "\n",
    "for i in range(1000):\n",
    "    predictions = a.expand_as(x_train)*x_train+b.expand_as(x_train)\n",
    "    loss = torch.mean((predictions - y_train)**2)\n",
    "    print('loss:',loss)\n",
    "    loss.backward()\n",
    "    # 使用梯度信息更新a,b的值\n",
    "    a.data.add_(-learning_rate*a.grad.data)\n",
    "    b.data.add_(-learning_rate*b.grad.data)\n",
    "    # 清空储存在变量a，b中的梯度信息\n",
    "    a.grad.data.zero_()\n",
    "    b.grad.data.zero_()\n",
    "\n",
    "# expand_as用于扩充维度\n",
    "# pytorch如果函数后加上了_，表示用这个函数计算结果更新之前变量"
   ]
  },
  {
   "cell_type": "code",
   "execution_count": 44,
   "metadata": {},
   "outputs": [
    {
     "data": {
      "image/png": "[encoded data removed]",
      "text/plain": [
       "<Figure size 720x504 with 1 Axes>"
      ]
     },
     "metadata": {},
     "output_type": "display_data"
    }
   ],
   "source": [
    "# 绘图\n",
    "x_data = x_train.data.numpy()\n",
    "plt.figure(figsize = (10,7))\n",
    "xplot, = plt.plot(x_data, y_train.data.numpy(),'o')\n",
    "yplot, = plt.plot(x_data, a.data.numpy()*x_data + b.data.numpy())\n",
    "plt.xlabel('X')\n",
    "plt.ylabel('Y')\n",
    "str1 = str(a.data.numpy()[0])+'x+'+str(b.data.numpy()[0])\n",
    "plt.legend([xplot,yplot],['Data',str1])\n",
    "plt.show()\n",
    "\n",
    "# a.data.numpy(0)指数字"
   ]
  },
  {
   "cell_type": "code",
   "execution_count": 45,
   "metadata": {},
   "outputs": [],
   "source": [
    "predictions = a.expand_as(x_test) * x_test + b.expand_as(x_test) #计算模型的预测结果"
   ]
  },
  {
   "cell_type": "code",
   "execution_count": 46,
   "metadata": {},
   "outputs": [
    {
     "data": {
      "image/png": "[encoded data removed]",
      "text/plain": [
       "<Figure size 720x504 with 1 Axes>"
      ]
     },
     "metadata": {},
     "output_type": "display_data"
    }
   ],
   "source": [
    "x_data = x_train.data.numpy() # 获得x包裹的数据\n",
    "x_pred = x_test.data.numpy()\n",
    "plt.figure(figsize = (10, 7)) #设定绘图窗口大小\n",
    "plt.plot(x_data, y_train.data.numpy(), 'o') # 绘制训练数据\n",
    "plt.plot(x_pred, y_test.data.numpy(), 's') # 绘制测试数据\n",
    "x_data = np.r_[x_data, x_test.data.numpy()]\n",
    "plt.plot(x_data, a.data.numpy() * x_data + b.data.numpy())  #绘制拟合数据\n",
    "plt.plot(x_pred, a.data.numpy() * x_pred + b.data.numpy(), 'o') #绘制预测数据\n",
    "plt.xlabel('X') #更改坐标轴标注\n",
    "plt.ylabel('Y') #更改坐标轴标注\n",
    "str1 = str(a.data.numpy()[0]) + 'x +' + str(b.data.numpy()[0]) #图例信息\n",
    "plt.legend([xplot, yplot],['Data', str1]) #绘制图例\n",
    "plt.show()\n"
   ]
  },
  {
   "cell_type": "code",
   "execution_count": null,
   "metadata": {},
   "outputs": [],
   "source": []
  },
  {
   "cell_type": "code",
   "execution_count": null,
   "metadata": {},
   "outputs": [],
   "source": []
  }
 ],
 "metadata": {
  "kernelspec": {
   "display_name": "Python 3",
   "language": "python",
   "name": "python3"
  },
  "language_info": {
   "codemirror_mode": {
    "name": "ipython",
    "version": 3
   },
   "file_extension": ".py",
   "mimetype": "text/x-python",
   "name": "python",
   "nbconvert_exporter": "python",
   "pygments_lexer": "ipython3",
   "version": "3.7.10"
  }
 },
 "nbformat": 4,
 "nbformat_minor": 4
}
