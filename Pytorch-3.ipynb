{
 "cells": [
  {
   "cell_type": "code",
   "execution_count": 2,
   "metadata": {},
   "outputs": [],
   "source": [
    "# 导入所需要的包，请保证torchvision已经在你的环境中安装好.\n",
    "# 在Windows需要单独安装torchvision包，在命令行运行pip install torchvision即可\n",
    "import torch\n",
    "import torch.nn as nn\n",
    "from torch.autograd import Variable\n",
    "import torch.optim as optim\n",
    "import torch.nn.functional as F\n",
    "\n",
    "import torchvision.datasets as dsets\n",
    "import torchvision.transforms as transforms\n",
    "\n",
    "import matplotlib.pyplot as plt\n",
    "import numpy as np\n",
    "\n",
    "%matplotlib inline"
   ]
  },
  {
   "cell_type": "code",
   "execution_count": 3,
   "metadata": {},
   "outputs": [],
   "source": [
    "\n",
    "# 定义超参数 \n",
    "image_size = 28  #图像的总尺寸28*28\n",
    "num_classes = 10  #标签的种类数\n",
    "num_epochs = 20  #训练的总循环周期\n",
    "batch_size = 64  #一个撮（批次）的大小，64张图片\n",
    "\n",
    "# 加载MINIST数据，如果没有下载过，就会在当前路径下新建/data子目录，并把文件存放其中\n",
    "# MNIST数据是属于torchvision包自带的数据，所以可以直接调用。\n",
    "# 在调用自己的数据的时候，我们可以用torchvision.datasets.ImageFolder或者torch.utils.data.TensorDataset来加载\n",
    "train_dataset = dsets.MNIST(root='./data',  #文件存放路径\n",
    "                            train=True,   #提取训练集\n",
    "                            transform=transforms.ToTensor(),  #将图像转化为Tensor，在加载数据的时候，就可以对图像做预处理\n",
    "                            download=True) #当找不到文件的时候，自动下载\n",
    "\n",
    "# 加载测试数据集\n",
    "test_dataset = dsets.MNIST(root='./data', \n",
    "                           train=False, \n",
    "                           transform=transforms.ToTensor())\n",
    "\n",
    "# 训练数据集的加载器，自动将数据分割成batch，顺序随机打乱\n",
    "train_loader = torch.utils.data.DataLoader(dataset=train_dataset, \n",
    "                                           batch_size=batch_size, \n",
    "                                           shuffle=True)\n",
    "\n",
    "'''我们希望将测试数据分成两部分，一部分作为校验数据，一部分作为测试数据。\n",
    "校验数据用于检测模型是否过拟合，并调整参数，测试数据检验整个模型的工作'''\n",
    "\n",
    "\n",
    "# 首先，我们定义下标数组indices，它相当于对所有test_dataset中数据的编码\n",
    "# 然后定义下标indices_val来表示校验集数据的那些下标，indices_test表示测试集的下标\n",
    "indices = range(len(test_dataset))\n",
    "indices_val = indices[:5000]\n",
    "indices_test = indices[5000:]\n",
    "\n",
    "# 根据这些下标，构造两个数据集的SubsetRandomSampler采样器，它会对下标进行采样\n",
    "sampler_val = torch.utils.data.sampler.SubsetRandomSampler(indices_val)\n",
    "sampler_test = torch.utils.data.sampler.SubsetRandomSampler(indices_test)\n",
    "\n",
    "# 根据两个采样器来定义加载器，注意将sampler_val和sampler_test分别赋值给了validation_loader和test_loader\n",
    "validation_loader = torch.utils.data.DataLoader(dataset =test_dataset,\n",
    "                                                batch_size = batch_size,\n",
    "                                                sampler = sampler_val\n",
    "                                               )\n",
    "test_loader = torch.utils.data.DataLoader(dataset=test_dataset, \n",
    "                                          batch_size=batch_size, \n",
    "                                          sampler = sampler_test\n",
    "                                         )"
   ]
  },
  {
   "cell_type": "code",
   "execution_count": 4,
   "metadata": {},
   "outputs": [
    {
     "name": "stdout",
     "output_type": "stream",
     "text": [
      "标签是： 0\n"
     ]
    },
    {
     "data": {
      "image/png": "[encoded data removed]",
      "text/plain": [
       "<Figure size 432x288 with 1 Axes>"
      ]
     },
     "metadata": {
      "needs_background": "light"
     },
     "output_type": "display_data"
    }
   ],
   "source": [
    "#随便从数据集中读入一张图片，并绘制出来\n",
    "idx = 1000\n",
    "\n",
    "#dataset支持下标索引，其中提取出来的每一个元素为features，target格式，即属性和标签。[0]表示索引features\n",
    "muteimg = train_dataset[idx][0].numpy()\n",
    "#由于一般的图像包含rgb三个通道，而MINST数据集的图像都是灰度的，只有一个通道。因此，我们忽略通道，把图像看作一个灰度矩阵。\n",
    "#用imshow画图，会将灰度矩阵自动展现为彩色，不同灰度对应不同颜色：从黄到紫\n",
    "\n",
    "plt.imshow(muteimg[0,...])\n",
    "print('标签是：',train_dataset[idx][1])"
   ]
  },
  {
   "cell_type": "markdown",
   "metadata": {},
   "source": [
    "注：在这里，我们将主要调用PyTorch强大的nn.Module这个类来构建卷积神经网络。我们分成如下这几个步骤：\n",
    "\n",
    "1. 首先，我们构造ConvNet类，它是对类nn.Module的继承（即nn.Module是父类，ConvNet为子类。如果这些概念不熟悉，请参考面向对象编程）\n",
    "2. 然后，我们复写__init__，以及forward这两个函数。第一个为构造函数，每当类ConvNet被具体化一个实例的时候，就会调用，forward则是\n",
    "在运行神经网络正向的时候会被自动调用\n",
    "3. 自定义自己的方法\n",
    "\n",
    "另一需要理解的是，ConvNet其实也是一个大容器，它里面有Conv2d，MaxPool2d等组件\n",
    "\n",
    "本文件是集智AI学园http://campus.swarma.org 出品的“火炬上的深度学习”第III课的配套源代码"
   ]
  },
  {
   "cell_type": "code",
   "execution_count": 5,
   "metadata": {},
   "outputs": [],
   "source": [
    "#定义卷积神经网络：4和8为人为指定的两个卷积层的厚度（feature map的数量）\n",
    "depth = [4, 8]\n",
    "class ConvNet(nn.Module):\n",
    "    def __init__(self):\n",
    "        # 该函数在创建一个ConvNet对象的时候，即调用如下语句：net=ConvNet()，就会被调用\n",
    "        # 首先调用父类相应的构造函数\n",
    "        super(ConvNet, self).__init__()\n",
    "        \n",
    "        # 其次构造ConvNet需要用到的各个神经模块。\n",
    "        '''注意，定义组件并没有真正搭建这些组件，只是把基本建筑砖块先找好'''\n",
    "        self.conv1 = nn.Conv2d(1, 4, 5, padding = 2) #定义一个卷积层，输入通道为1，输出通道为4，窗口大小为5，padding为2\n",
    "        self.pool = nn.MaxPool2d(2, 2) #定义一个Pooling层，一个窗口为2*2的pooling运算\n",
    "        self.conv2 = nn.Conv2d(depth[0], depth[1], 5, padding = 2) #第二层卷积，输入通道为depth[0], \n",
    "                                                                   #输出通道为depth[1]，窗口为5，padding为2\n",
    "        self.fc1 = nn.Linear(image_size // 4 * image_size // 4 * depth[1] , 512) \n",
    "                                                            #一个线性连接层，输入尺寸为最后一层立方体的平铺，输出层512个节点\n",
    "        self.fc2 = nn.Linear(512, num_classes) #最后一层线性分类单元，输入为512，输出为要做分类的类别数\n",
    "\n",
    "    def forward(self, x):\n",
    "        #该函数完成神经网络真正的前向运算，我们会在这里把各个组件进行实际的拼装\n",
    "        #x的尺寸：(batch_size, image_channels, image_width, image_height)\n",
    "        x = F.relu(self.conv1(x))  #第一层卷积，激活函数用ReLu，为了防止过拟合\n",
    "        #x的尺寸：(batch_size, num_filters, image_width, image_height)\n",
    "        x = self.pool(x) #第二层pooling，将图片变小\n",
    "        #x的尺寸：(batch_size, depth[0], image_width/2, image_height/2)\n",
    "        x = F.relu(self.conv2(x)) #第三层又是卷积，窗口为5，输入输出通道分别为depth[0]=4, depth[1]=8\n",
    "        #x的尺寸：(batch_size, depth[1], image_width/2, image_height/2)\n",
    "        x = self.pool(x) #第四层pooling，将图片缩小到原大小的1/4\n",
    "        #x的尺寸：(batch_size, depth[1], image_width/4, image_height/4)\n",
    "        \n",
    "        # 将立体的特征图Tensor，压成一个一维的向量\n",
    "        # view这个函数可以将一个tensor按指定的方式重新排布。\n",
    "        # 下面这个命令就是要让x按照batch_size * (image_size//4)^2*depth[1]的方式来排布向量\n",
    "        x = x.view(-1, image_size // 4 * image_size // 4 * depth[1])\n",
    "        #x的尺寸：(batch_size, depth[1]*image_width/4*image_height/4)\n",
    "        \n",
    "        x = F.relu(self.fc1(x)) #第五层为全链接，ReLu激活函数\n",
    "        #x的尺寸：(batch_size, 512)\n",
    "\n",
    "        x = F.dropout(x, training=self.training) #以默认为0.5的概率对这一层进行dropout操作，为了防止过拟合\n",
    "        x = self.fc2(x) #全链接\n",
    "        #x的尺寸：(batch_size, num_classes)\n",
    "        \n",
    "        x = F.log_softmax(x, dim = 0) #输出层为log_softmax，即概率对数值log(p(x))。采用log_softmax可以使得后面的交叉熵计算更快\n",
    "        return x\n",
    "    \n",
    "    def retrieve_features(self, x):\n",
    "        #该函数专门用于提取卷积神经网络的特征图的功能，返回feature_map1, feature_map2为前两层卷积层的特征图\n",
    "        feature_map1 = F.relu(self.conv1(x)) #完成第一层卷积\n",
    "        x = self.pool(feature_map1)  # 完成第一层pooling\n",
    "        feature_map2 = F.relu(self.conv2(x)) #第二层卷积，两层特征图都存储到了feature_map1, feature_map2中\n",
    "        return (feature_map1, feature_map2)\n",
    "    "
   ]
  },
  {
   "cell_type": "code",
   "execution_count": 6,
   "metadata": {},
   "outputs": [],
   "source": [
    "def rightness(predictions, labels):\n",
    "    \"\"\"计算预测错误率的函数，其中predictions是模型给出的一组预测结果，batch_size行num_classes列的矩阵，labels是数据之中的正确答案\"\"\"\n",
    "    pred = torch.max(predictions.data, 1)[1] # 对于任意一行（一个样本）的输出值的第1个维度，求最大，得到每一行的最大元素的下标\n",
    "    rights = pred.eq(labels.data.view_as(pred)).sum() #将下标与labels中包含的类别进行比较，并累计得到比较正确的数量\n",
    "    return rights, len(labels) #返回正确的数量和这一次一共比较了多少元素\n"
   ]
  },
  {
   "cell_type": "code",
   "execution_count": 7,
   "metadata": {
    "collapsed": true,
    "jupyter": {
     "outputs_hidden": true
    }
   },
   "outputs": [
    {
     "name": "stdout",
     "output_type": "stream",
     "text": [
      "(tensor(717), 5000)\n",
      "训练周期: 0 [0/60000 (0%)]\tLoss: 2.303089\t训练正确率: 10.94%\t校验正确率: 14.34%\n",
      "(tensor(2290), 5000)\n",
      "训练周期: 0 [6400/60000 (11%)]\tLoss: 2.281118\t训练正确率: 14.28%\t校验正确率: 45.80%\n",
      "(tensor(2567), 5000)\n",
      "训练周期: 0 [12800/60000 (21%)]\tLoss: 2.241914\t训练正确率: 18.20%\t校验正确率: 51.34%\n",
      "(tensor(2649), 5000)\n",
      "训练周期: 0 [19200/60000 (32%)]\tLoss: 2.092304\t训练正确率: 23.24%\t校验正确率: 52.98%\n",
      "(tensor(3378), 5000)\n",
      "训练周期: 0 [25600/60000 (43%)]\tLoss: 1.590872\t训练正确率: 29.02%\t校验正确率: 67.56%\n",
      "(tensor(3702), 5000)\n",
      "训练周期: 0 [32000/60000 (53%)]\tLoss: 1.076310\t训练正确率: 35.77%\t校验正确率: 74.04%\n",
      "(tensor(3984), 5000)\n",
      "训练周期: 0 [38400/60000 (64%)]\tLoss: 0.682144\t训练正确率: 41.58%\t校验正确率: 79.68%\n",
      "(tensor(4017), 5000)\n",
      "训练周期: 0 [44800/60000 (75%)]\tLoss: 0.677365\t训练正确率: 46.48%\t校验正确率: 80.34%\n",
      "(tensor(4134), 5000)\n",
      "训练周期: 0 [51200/60000 (85%)]\tLoss: 0.662074\t训练正确率: 50.43%\t校验正确率: 82.68%\n",
      "(tensor(4256), 5000)\n",
      "训练周期: 0 [57600/60000 (96%)]\tLoss: 0.573254\t训练正确率: 53.77%\t校验正确率: 85.12%\n",
      "(tensor(4228), 5000)\n",
      "训练周期: 1 [0/60000 (0%)]\tLoss: 0.546740\t训练正确率: 84.38%\t校验正确率: 84.56%\n",
      "(tensor(4273), 5000)\n",
      "训练周期: 1 [6400/60000 (11%)]\tLoss: 0.622856\t训练正确率: 82.66%\t校验正确率: 85.46%\n",
      "(tensor(4351), 5000)\n",
      "训练周期: 1 [12800/60000 (21%)]\tLoss: 0.561392\t训练正确率: 83.03%\t校验正确率: 87.02%\n",
      "(tensor(4379), 5000)\n",
      "训练周期: 1 [19200/60000 (32%)]\tLoss: 0.470200\t训练正确率: 83.62%\t校验正确率: 87.58%\n",
      "(tensor(4379), 5000)\n",
      "训练周期: 1 [25600/60000 (43%)]\tLoss: 0.410478\t训练正确率: 84.19%\t校验正确率: 87.58%\n",
      "(tensor(4439), 5000)\n",
      "训练周期: 1 [32000/60000 (53%)]\tLoss: 0.734326\t训练正确率: 84.58%\t校验正确率: 88.78%\n",
      "(tensor(4462), 5000)\n",
      "训练周期: 1 [38400/60000 (64%)]\tLoss: 0.364165\t训练正确率: 85.09%\t校验正确率: 89.24%\n",
      "(tensor(4461), 5000)\n",
      "训练周期: 1 [44800/60000 (75%)]\tLoss: 0.298184\t训练正确率: 85.61%\t校验正确率: 89.22%\n",
      "(tensor(4540), 5000)\n",
      "训练周期: 1 [51200/60000 (85%)]\tLoss: 0.431334\t训练正确率: 85.92%\t校验正确率: 90.80%\n",
      "(tensor(4554), 5000)\n",
      "训练周期: 1 [57600/60000 (96%)]\tLoss: 0.515342\t训练正确率: 86.19%\t校验正确率: 91.08%\n",
      "(tensor(4554), 5000)\n",
      "训练周期: 2 [0/60000 (0%)]\tLoss: 0.429184\t训练正确率: 89.06%\t校验正确率: 91.08%\n",
      "(tensor(4551), 5000)\n",
      "训练周期: 2 [6400/60000 (11%)]\tLoss: 0.320107\t训练正确率: 89.34%\t校验正确率: 91.02%\n",
      "(tensor(4583), 5000)\n",
      "训练周期: 2 [12800/60000 (21%)]\tLoss: 0.280988\t训练正确率: 89.53%\t校验正确率: 91.66%\n",
      "(tensor(4597), 5000)\n",
      "训练周期: 2 [19200/60000 (32%)]\tLoss: 0.336979\t训练正确率: 89.92%\t校验正确率: 91.94%\n",
      "(tensor(4618), 5000)\n",
      "训练周期: 2 [25600/60000 (43%)]\tLoss: 0.409716\t训练正确率: 90.17%\t校验正确率: 92.36%\n",
      "(tensor(4613), 5000)\n",
      "训练周期: 2 [32000/60000 (53%)]\tLoss: 0.225093\t训练正确率: 90.29%\t校验正确率: 92.26%\n",
      "(tensor(4616), 5000)\n",
      "训练周期: 2 [38400/60000 (64%)]\tLoss: 0.260408\t训练正确率: 90.41%\t校验正确率: 92.32%\n",
      "(tensor(4603), 5000)\n",
      "训练周期: 2 [44800/60000 (75%)]\tLoss: 0.242597\t训练正确率: 90.61%\t校验正确率: 92.06%\n",
      "(tensor(4604), 5000)\n",
      "训练周期: 2 [51200/60000 (85%)]\tLoss: 0.253156\t训练正确率: 90.72%\t校验正确率: 92.08%\n",
      "(tensor(4673), 5000)\n",
      "训练周期: 2 [57600/60000 (96%)]\tLoss: 0.244485\t训练正确率: 90.87%\t校验正确率: 93.46%\n",
      "(tensor(4661), 5000)\n",
      "训练周期: 3 [0/60000 (0%)]\tLoss: 0.306383\t训练正确率: 90.62%\t校验正确率: 93.22%\n",
      "(tensor(4670), 5000)\n",
      "训练周期: 3 [6400/60000 (11%)]\tLoss: 0.199021\t训练正确率: 92.51%\t校验正确率: 93.40%\n",
      "(tensor(4655), 5000)\n",
      "训练周期: 3 [12800/60000 (21%)]\tLoss: 0.196696\t训练正确率: 92.41%\t校验正确率: 93.10%\n",
      "(tensor(4663), 5000)\n",
      "训练周期: 3 [19200/60000 (32%)]\tLoss: 0.215191\t训练正确率: 92.64%\t校验正确率: 93.26%\n",
      "(tensor(4697), 5000)\n",
      "训练周期: 3 [25600/60000 (43%)]\tLoss: 0.247734\t训练正确率: 92.71%\t校验正确率: 93.94%\n",
      "(tensor(4714), 5000)\n",
      "训练周期: 3 [32000/60000 (53%)]\tLoss: 0.172954\t训练正确率: 92.68%\t校验正确率: 94.28%\n",
      "(tensor(4701), 5000)\n",
      "训练周期: 3 [38400/60000 (64%)]\tLoss: 0.223281\t训练正确率: 92.82%\t校验正确率: 94.02%\n",
      "(tensor(4709), 5000)\n",
      "训练周期: 3 [44800/60000 (75%)]\tLoss: 0.118138\t训练正确率: 92.97%\t校验正确率: 94.18%\n",
      "(tensor(4727), 5000)\n",
      "训练周期: 3 [51200/60000 (85%)]\tLoss: 0.091470\t训练正确率: 93.02%\t校验正确率: 94.54%\n",
      "(tensor(4734), 5000)\n",
      "训练周期: 3 [57600/60000 (96%)]\tLoss: 0.423263\t训练正确率: 93.10%\t校验正确率: 94.68%\n",
      "(tensor(4736), 5000)\n",
      "训练周期: 4 [0/60000 (0%)]\tLoss: 0.383788\t训练正确率: 87.50%\t校验正确率: 94.72%\n",
      "(tensor(4730), 5000)\n",
      "训练周期: 4 [6400/60000 (11%)]\tLoss: 0.223478\t训练正确率: 94.11%\t校验正确率: 94.60%\n",
      "(tensor(4755), 5000)\n",
      "训练周期: 4 [12800/60000 (21%)]\tLoss: 0.175115\t训练正确率: 94.10%\t校验正确率: 95.10%\n",
      "(tensor(4749), 5000)\n",
      "训练周期: 4 [19200/60000 (32%)]\tLoss: 0.144931\t训练正确率: 94.19%\t校验正确率: 94.98%\n",
      "(tensor(4764), 5000)\n",
      "训练周期: 4 [25600/60000 (43%)]\tLoss: 0.252159\t训练正确率: 94.16%\t校验正确率: 95.28%\n",
      "(tensor(4731), 5000)\n",
      "训练周期: 4 [32000/60000 (53%)]\tLoss: 0.187370\t训练正确率: 94.14%\t校验正确率: 94.62%\n",
      "(tensor(4758), 5000)\n",
      "训练周期: 4 [38400/60000 (64%)]\tLoss: 0.106066\t训练正确率: 94.22%\t校验正确率: 95.16%\n",
      "(tensor(4758), 5000)\n",
      "训练周期: 4 [44800/60000 (75%)]\tLoss: 0.208114\t训练正确率: 94.28%\t校验正确率: 95.16%\n",
      "(tensor(4759), 5000)\n",
      "训练周期: 4 [51200/60000 (85%)]\tLoss: 0.106670\t训练正确率: 94.34%\t校验正确率: 95.18%\n",
      "(tensor(4768), 5000)\n",
      "训练周期: 4 [57600/60000 (96%)]\tLoss: 0.113006\t训练正确率: 94.29%\t校验正确率: 95.36%\n",
      "(tensor(4766), 5000)\n",
      "训练周期: 5 [0/60000 (0%)]\tLoss: 0.077077\t训练正确率: 98.44%\t校验正确率: 95.32%\n",
      "(tensor(4772), 5000)\n",
      "训练周期: 5 [6400/60000 (11%)]\tLoss: 0.156398\t训练正确率: 95.19%\t校验正确率: 95.44%\n",
      "(tensor(4764), 5000)\n",
      "训练周期: 5 [12800/60000 (21%)]\tLoss: 0.134144\t训练正确率: 95.13%\t校验正确率: 95.28%\n",
      "(tensor(4782), 5000)\n",
      "训练周期: 5 [19200/60000 (32%)]\tLoss: 0.104496\t训练正确率: 94.93%\t校验正确率: 95.64%\n",
      "(tensor(4788), 5000)\n",
      "训练周期: 5 [25600/60000 (43%)]\tLoss: 0.214001\t训练正确率: 94.95%\t校验正确率: 95.76%\n",
      "(tensor(4784), 5000)\n",
      "训练周期: 5 [32000/60000 (53%)]\tLoss: 0.302013\t训练正确率: 94.96%\t校验正确率: 95.68%\n",
      "(tensor(4781), 5000)\n",
      "训练周期: 5 [38400/60000 (64%)]\tLoss: 0.033294\t训练正确率: 95.04%\t校验正确率: 95.62%\n",
      "(tensor(4780), 5000)\n",
      "训练周期: 5 [44800/60000 (75%)]\tLoss: 0.045646\t训练正确率: 95.11%\t校验正确率: 95.60%\n",
      "(tensor(4793), 5000)\n",
      "训练周期: 5 [51200/60000 (85%)]\tLoss: 0.133097\t训练正确率: 95.16%\t校验正确率: 95.86%\n",
      "(tensor(4786), 5000)\n",
      "训练周期: 5 [57600/60000 (96%)]\tLoss: 0.083415\t训练正确率: 95.15%\t校验正确率: 95.72%\n",
      "(tensor(4788), 5000)\n",
      "训练周期: 6 [0/60000 (0%)]\tLoss: 0.079547\t训练正确率: 98.44%\t校验正确率: 95.76%\n",
      "(tensor(4786), 5000)\n",
      "训练周期: 6 [6400/60000 (11%)]\tLoss: 0.119315\t训练正确率: 95.79%\t校验正确率: 95.72%\n",
      "(tensor(4807), 5000)\n",
      "训练周期: 6 [12800/60000 (21%)]\tLoss: 0.397911\t训练正确率: 95.33%\t校验正确率: 96.14%\n",
      "(tensor(4800), 5000)\n",
      "训练周期: 6 [19200/60000 (32%)]\tLoss: 0.100408\t训练正确率: 95.57%\t校验正确率: 96.00%\n",
      "(tensor(4796), 5000)\n",
      "训练周期: 6 [25600/60000 (43%)]\tLoss: 0.383458\t训练正确率: 95.51%\t校验正确率: 95.92%\n",
      "(tensor(4785), 5000)\n",
      "训练周期: 6 [32000/60000 (53%)]\tLoss: 0.133327\t训练正确率: 95.58%\t校验正确率: 95.70%\n",
      "(tensor(4818), 5000)\n",
      "训练周期: 6 [38400/60000 (64%)]\tLoss: 0.203854\t训练正确率: 95.67%\t校验正确率: 96.36%\n",
      "(tensor(4805), 5000)\n",
      "训练周期: 6 [44800/60000 (75%)]\tLoss: 0.174442\t训练正确率: 95.63%\t校验正确率: 96.10%\n",
      "(tensor(4811), 5000)\n",
      "训练周期: 6 [51200/60000 (85%)]\tLoss: 0.077845\t训练正确率: 95.63%\t校验正确率: 96.22%\n",
      "(tensor(4814), 5000)\n",
      "训练周期: 6 [57600/60000 (96%)]\tLoss: 0.039887\t训练正确率: 95.63%\t校验正确率: 96.28%\n",
      "(tensor(4820), 5000)\n",
      "训练周期: 7 [0/60000 (0%)]\tLoss: 0.092818\t训练正确率: 96.88%\t校验正确率: 96.40%\n",
      "(tensor(4812), 5000)\n",
      "训练周期: 7 [6400/60000 (11%)]\tLoss: 0.113584\t训练正确率: 96.12%\t校验正确率: 96.24%\n",
      "(tensor(4782), 5000)\n",
      "训练周期: 7 [12800/60000 (21%)]\tLoss: 0.086998\t训练正确率: 96.04%\t校验正确率: 95.64%\n",
      "(tensor(4817), 5000)\n",
      "训练周期: 7 [19200/60000 (32%)]\tLoss: 0.102265\t训练正确率: 95.90%\t校验正确率: 96.34%\n",
      "(tensor(4796), 5000)\n",
      "训练周期: 7 [25600/60000 (43%)]\tLoss: 0.174563\t训练正确率: 95.92%\t校验正确率: 95.92%\n",
      "(tensor(4818), 5000)\n",
      "训练周期: 7 [32000/60000 (53%)]\tLoss: 0.121582\t训练正确率: 95.93%\t校验正确率: 96.36%\n",
      "(tensor(4830), 5000)\n",
      "训练周期: 7 [38400/60000 (64%)]\tLoss: 0.214342\t训练正确率: 95.99%\t校验正确率: 96.60%\n",
      "(tensor(4824), 5000)\n",
      "训练周期: 7 [44800/60000 (75%)]\tLoss: 0.212836\t训练正确率: 96.06%\t校验正确率: 96.48%\n",
      "(tensor(4819), 5000)\n",
      "训练周期: 7 [51200/60000 (85%)]\tLoss: 0.105077\t训练正确率: 96.08%\t校验正确率: 96.38%\n",
      "(tensor(4812), 5000)\n",
      "训练周期: 7 [57600/60000 (96%)]\tLoss: 0.039843\t训练正确率: 96.11%\t校验正确率: 96.24%\n",
      "(tensor(4821), 5000)\n",
      "训练周期: 8 [0/60000 (0%)]\tLoss: 0.067153\t训练正确率: 98.44%\t校验正确率: 96.42%\n",
      "(tensor(4818), 5000)\n",
      "训练周期: 8 [6400/60000 (11%)]\tLoss: 0.032463\t训练正确率: 96.29%\t校验正确率: 96.36%\n",
      "(tensor(4821), 5000)\n",
      "训练周期: 8 [12800/60000 (21%)]\tLoss: 0.038719\t训练正确率: 96.31%\t校验正确率: 96.42%\n",
      "(tensor(4823), 5000)\n",
      "训练周期: 8 [19200/60000 (32%)]\tLoss: 0.079246\t训练正确率: 96.34%\t校验正确率: 96.46%\n",
      "(tensor(4821), 5000)\n",
      "训练周期: 8 [25600/60000 (43%)]\tLoss: 0.089541\t训练正确率: 96.29%\t校验正确率: 96.42%\n",
      "(tensor(4832), 5000)\n",
      "训练周期: 8 [32000/60000 (53%)]\tLoss: 0.035195\t训练正确率: 96.26%\t校验正确率: 96.64%\n",
      "(tensor(4828), 5000)\n",
      "训练周期: 8 [38400/60000 (64%)]\tLoss: 0.188732\t训练正确率: 96.30%\t校验正确率: 96.56%\n",
      "(tensor(4832), 5000)\n",
      "训练周期: 8 [44800/60000 (75%)]\tLoss: 0.121876\t训练正确率: 96.30%\t校验正确率: 96.64%\n",
      "(tensor(4840), 5000)\n",
      "训练周期: 8 [51200/60000 (85%)]\tLoss: 0.054578\t训练正确率: 96.26%\t校验正确率: 96.80%\n",
      "(tensor(4846), 5000)\n",
      "训练周期: 8 [57600/60000 (96%)]\tLoss: 0.126256\t训练正确率: 96.27%\t校验正确率: 96.92%\n",
      "(tensor(4827), 5000)\n",
      "训练周期: 9 [0/60000 (0%)]\tLoss: 0.104892\t训练正确率: 95.31%\t校验正确率: 96.54%\n",
      "(tensor(4843), 5000)\n",
      "训练周期: 9 [6400/60000 (11%)]\tLoss: 0.195026\t训练正确率: 96.69%\t校验正确率: 96.86%\n",
      "(tensor(4848), 5000)\n",
      "训练周期: 9 [12800/60000 (21%)]\tLoss: 0.041704\t训练正确率: 96.57%\t校验正确率: 96.96%\n",
      "(tensor(4841), 5000)\n",
      "训练周期: 9 [19200/60000 (32%)]\tLoss: 0.113950\t训练正确率: 96.54%\t校验正确率: 96.82%\n",
      "(tensor(4838), 5000)\n",
      "训练周期: 9 [25600/60000 (43%)]\tLoss: 0.037229\t训练正确率: 96.58%\t校验正确率: 96.76%\n",
      "(tensor(4839), 5000)\n",
      "训练周期: 9 [32000/60000 (53%)]\tLoss: 0.177333\t训练正确率: 96.57%\t校验正确率: 96.78%\n",
      "(tensor(4838), 5000)\n",
      "训练周期: 9 [38400/60000 (64%)]\tLoss: 0.049835\t训练正确率: 96.61%\t校验正确率: 96.76%\n",
      "(tensor(4842), 5000)\n",
      "训练周期: 9 [44800/60000 (75%)]\tLoss: 0.049075\t训练正确率: 96.63%\t校验正确率: 96.84%\n",
      "(tensor(4844), 5000)\n",
      "训练周期: 9 [51200/60000 (85%)]\tLoss: 0.185699\t训练正确率: 96.64%\t校验正确率: 96.88%\n",
      "(tensor(4847), 5000)\n",
      "训练周期: 9 [57600/60000 (96%)]\tLoss: 0.317087\t训练正确率: 96.59%\t校验正确率: 96.94%\n",
      "(tensor(4850), 5000)\n",
      "训练周期: 10 [0/60000 (0%)]\tLoss: 0.167654\t训练正确率: 95.31%\t校验正确率: 97.00%\n",
      "(tensor(4855), 5000)\n",
      "训练周期: 10 [6400/60000 (11%)]\tLoss: 0.065269\t训练正确率: 96.98%\t校验正确率: 97.10%\n",
      "(tensor(4852), 5000)\n",
      "训练周期: 10 [12800/60000 (21%)]\tLoss: 0.017745\t训练正确率: 96.74%\t校验正确率: 97.04%\n",
      "(tensor(4847), 5000)\n",
      "训练周期: 10 [19200/60000 (32%)]\tLoss: 0.040990\t训练正确率: 96.90%\t校验正确率: 96.94%\n",
      "(tensor(4848), 5000)\n",
      "训练周期: 10 [25600/60000 (43%)]\tLoss: 0.157322\t训练正确率: 96.90%\t校验正确率: 96.96%\n",
      "(tensor(4851), 5000)\n",
      "训练周期: 10 [32000/60000 (53%)]\tLoss: 0.158064\t训练正确率: 96.95%\t校验正确率: 97.02%\n",
      "(tensor(4850), 5000)\n",
      "训练周期: 10 [38400/60000 (64%)]\tLoss: 0.121392\t训练正确率: 96.97%\t校验正确率: 97.00%\n",
      "(tensor(4858), 5000)\n",
      "训练周期: 10 [44800/60000 (75%)]\tLoss: 0.081419\t训练正确率: 96.96%\t校验正确率: 97.16%\n",
      "(tensor(4850), 5000)\n",
      "训练周期: 10 [51200/60000 (85%)]\tLoss: 0.147567\t训练正确率: 96.93%\t校验正确率: 97.00%\n",
      "(tensor(4842), 5000)\n",
      "训练周期: 10 [57600/60000 (96%)]\tLoss: 0.271581\t训练正确率: 96.91%\t校验正确率: 96.84%\n",
      "(tensor(4854), 5000)\n",
      "训练周期: 11 [0/60000 (0%)]\tLoss: 0.069857\t训练正确率: 98.44%\t校验正确率: 97.08%\n",
      "(tensor(4864), 5000)\n",
      "训练周期: 11 [6400/60000 (11%)]\tLoss: 0.084729\t训练正确率: 97.17%\t校验正确率: 97.28%\n",
      "(tensor(4845), 5000)\n",
      "训练周期: 11 [12800/60000 (21%)]\tLoss: 0.103625\t训练正确率: 96.98%\t校验正确率: 96.90%\n",
      "(tensor(4849), 5000)\n",
      "训练周期: 11 [19200/60000 (32%)]\tLoss: 0.111427\t训练正确率: 96.99%\t校验正确率: 96.98%\n",
      "(tensor(4850), 5000)\n",
      "训练周期: 11 [25600/60000 (43%)]\tLoss: 0.029869\t训练正确率: 97.06%\t校验正确率: 97.00%\n",
      "(tensor(4853), 5000)\n",
      "训练周期: 11 [32000/60000 (53%)]\tLoss: 0.164104\t训练正确率: 96.99%\t校验正确率: 97.06%\n",
      "(tensor(4856), 5000)\n",
      "训练周期: 11 [38400/60000 (64%)]\tLoss: 0.161378\t训练正确率: 97.00%\t校验正确率: 97.12%\n",
      "(tensor(4859), 5000)\n",
      "训练周期: 11 [44800/60000 (75%)]\tLoss: 0.087880\t训练正确率: 97.03%\t校验正确率: 97.18%\n",
      "(tensor(4852), 5000)\n",
      "训练周期: 11 [51200/60000 (85%)]\tLoss: 0.321505\t训练正确率: 97.03%\t校验正确率: 97.04%\n",
      "(tensor(4849), 5000)\n",
      "训练周期: 11 [57600/60000 (96%)]\tLoss: 0.104773\t训练正确率: 97.06%\t校验正确率: 96.98%\n",
      "(tensor(4845), 5000)\n",
      "训练周期: 12 [0/60000 (0%)]\tLoss: 0.100255\t训练正确率: 96.88%\t校验正确率: 96.90%\n",
      "(tensor(4861), 5000)\n",
      "训练周期: 12 [6400/60000 (11%)]\tLoss: 0.156152\t训练正确率: 97.49%\t校验正确率: 97.22%\n",
      "(tensor(4860), 5000)\n",
      "训练周期: 12 [12800/60000 (21%)]\tLoss: 0.139563\t训练正确率: 97.22%\t校验正确率: 97.20%\n",
      "(tensor(4852), 5000)\n",
      "训练周期: 12 [19200/60000 (32%)]\tLoss: 0.016977\t训练正确率: 97.17%\t校验正确率: 97.04%\n",
      "(tensor(4848), 5000)\n",
      "训练周期: 12 [25600/60000 (43%)]\tLoss: 0.038856\t训练正确率: 97.21%\t校验正确率: 96.96%\n",
      "(tensor(4861), 5000)\n",
      "训练周期: 12 [32000/60000 (53%)]\tLoss: 0.087370\t训练正确率: 97.25%\t校验正确率: 97.22%\n",
      "(tensor(4854), 5000)\n",
      "训练周期: 12 [38400/60000 (64%)]\tLoss: 0.026361\t训练正确率: 97.25%\t校验正确率: 97.08%\n",
      "(tensor(4857), 5000)\n",
      "训练周期: 12 [44800/60000 (75%)]\tLoss: 0.189309\t训练正确率: 97.21%\t校验正确率: 97.14%\n",
      "(tensor(4850), 5000)\n",
      "训练周期: 12 [51200/60000 (85%)]\tLoss: 0.063666\t训练正确率: 97.22%\t校验正确率: 97.00%\n",
      "(tensor(4857), 5000)\n",
      "训练周期: 12 [57600/60000 (96%)]\tLoss: 0.127825\t训练正确率: 97.22%\t校验正确率: 97.14%\n",
      "(tensor(4854), 5000)\n",
      "训练周期: 13 [0/60000 (0%)]\tLoss: 0.036861\t训练正确率: 98.44%\t校验正确率: 97.08%\n",
      "(tensor(4863), 5000)\n",
      "训练周期: 13 [6400/60000 (11%)]\tLoss: 0.152665\t训练正确率: 97.17%\t校验正确率: 97.26%\n",
      "(tensor(4844), 5000)\n",
      "训练周期: 13 [12800/60000 (21%)]\tLoss: 0.227917\t训练正确率: 97.33%\t校验正确率: 96.88%\n",
      "(tensor(4862), 5000)\n",
      "训练周期: 13 [19200/60000 (32%)]\tLoss: 0.115555\t训练正确率: 97.32%\t校验正确率: 97.24%\n",
      "(tensor(4862), 5000)\n",
      "训练周期: 13 [25600/60000 (43%)]\tLoss: 0.028225\t训练正确率: 97.33%\t校验正确率: 97.24%\n",
      "(tensor(4852), 5000)\n",
      "训练周期: 13 [32000/60000 (53%)]\tLoss: 0.060463\t训练正确率: 97.32%\t校验正确率: 97.04%\n",
      "(tensor(4866), 5000)\n",
      "训练周期: 13 [38400/60000 (64%)]\tLoss: 0.069960\t训练正确率: 97.30%\t校验正确率: 97.32%\n",
      "(tensor(4865), 5000)\n",
      "训练周期: 13 [44800/60000 (75%)]\tLoss: 0.083148\t训练正确率: 97.32%\t校验正确率: 97.30%\n",
      "(tensor(4875), 5000)\n",
      "训练周期: 13 [51200/60000 (85%)]\tLoss: 0.021811\t训练正确率: 97.31%\t校验正确率: 97.50%\n",
      "(tensor(4870), 5000)\n",
      "训练周期: 13 [57600/60000 (96%)]\tLoss: 0.095789\t训练正确率: 97.31%\t校验正确率: 97.40%\n",
      "(tensor(4864), 5000)\n",
      "训练周期: 14 [0/60000 (0%)]\tLoss: 0.028771\t训练正确率: 98.44%\t校验正确率: 97.28%\n",
      "(tensor(4865), 5000)\n",
      "训练周期: 14 [6400/60000 (11%)]\tLoss: 0.088049\t训练正确率: 97.57%\t校验正确率: 97.30%\n",
      "(tensor(4862), 5000)\n",
      "训练周期: 14 [12800/60000 (21%)]\tLoss: 0.131468\t训练正确率: 97.44%\t校验正确率: 97.24%\n",
      "(tensor(4876), 5000)\n",
      "训练周期: 14 [19200/60000 (32%)]\tLoss: 0.175386\t训练正确率: 97.34%\t校验正确率: 97.52%\n",
      "(tensor(4874), 5000)\n",
      "训练周期: 14 [25600/60000 (43%)]\tLoss: 0.246750\t训练正确率: 97.35%\t校验正确率: 97.48%\n",
      "(tensor(4864), 5000)\n",
      "训练周期: 14 [32000/60000 (53%)]\tLoss: 0.062264\t训练正确率: 97.41%\t校验正确率: 97.28%\n",
      "(tensor(4875), 5000)\n",
      "训练周期: 14 [38400/60000 (64%)]\tLoss: 0.253304\t训练正确率: 97.39%\t校验正确率: 97.50%\n",
      "(tensor(4862), 5000)\n",
      "训练周期: 14 [44800/60000 (75%)]\tLoss: 0.023667\t训练正确率: 97.41%\t校验正确率: 97.24%\n",
      "(tensor(4856), 5000)\n",
      "训练周期: 14 [51200/60000 (85%)]\tLoss: 0.086473\t训练正确率: 97.38%\t校验正确率: 97.12%\n",
      "(tensor(4864), 5000)\n",
      "训练周期: 14 [57600/60000 (96%)]\tLoss: 0.017720\t训练正确率: 97.37%\t校验正确率: 97.28%\n",
      "(tensor(4862), 5000)\n",
      "训练周期: 15 [0/60000 (0%)]\tLoss: 0.086133\t训练正确率: 96.88%\t校验正确率: 97.24%\n",
      "(tensor(4857), 5000)\n",
      "训练周期: 15 [6400/60000 (11%)]\tLoss: 0.078761\t训练正确率: 97.46%\t校验正确率: 97.14%\n",
      "(tensor(4889), 5000)\n",
      "训练周期: 15 [12800/60000 (21%)]\tLoss: 0.106718\t训练正确率: 97.60%\t校验正确率: 97.78%\n",
      "(tensor(4862), 5000)\n",
      "训练周期: 15 [19200/60000 (32%)]\tLoss: 0.013323\t训练正确率: 97.69%\t校验正确率: 97.24%\n",
      "(tensor(4876), 5000)\n",
      "训练周期: 15 [25600/60000 (43%)]\tLoss: 0.049325\t训练正确率: 97.65%\t校验正确率: 97.52%\n",
      "(tensor(4856), 5000)\n",
      "训练周期: 15 [32000/60000 (53%)]\tLoss: 0.020753\t训练正确率: 97.61%\t校验正确率: 97.12%\n",
      "(tensor(4883), 5000)\n",
      "训练周期: 15 [38400/60000 (64%)]\tLoss: 0.059470\t训练正确率: 97.53%\t校验正确率: 97.66%\n",
      "(tensor(4877), 5000)\n",
      "训练周期: 15 [44800/60000 (75%)]\tLoss: 0.044602\t训练正确率: 97.51%\t校验正确率: 97.54%\n",
      "(tensor(4866), 5000)\n",
      "训练周期: 15 [51200/60000 (85%)]\tLoss: 0.037672\t训练正确率: 97.54%\t校验正确率: 97.32%\n",
      "(tensor(4880), 5000)\n",
      "训练周期: 15 [57600/60000 (96%)]\tLoss: 0.028835\t训练正确率: 97.51%\t校验正确率: 97.60%\n",
      "(tensor(4885), 5000)\n",
      "训练周期: 16 [0/60000 (0%)]\tLoss: 0.114962\t训练正确率: 92.19%\t校验正确率: 97.70%\n",
      "(tensor(4876), 5000)\n",
      "训练周期: 16 [6400/60000 (11%)]\tLoss: 0.075697\t训练正确率: 97.09%\t校验正确率: 97.52%\n",
      "(tensor(4882), 5000)\n",
      "训练周期: 16 [12800/60000 (21%)]\tLoss: 0.058450\t训练正确率: 97.29%\t校验正确率: 97.64%\n",
      "(tensor(4886), 5000)\n",
      "训练周期: 16 [19200/60000 (32%)]\tLoss: 0.168031\t训练正确率: 97.40%\t校验正确率: 97.72%\n",
      "(tensor(4878), 5000)\n",
      "训练周期: 16 [25600/60000 (43%)]\tLoss: 0.123268\t训练正确率: 97.47%\t校验正确率: 97.56%\n",
      "(tensor(4867), 5000)\n",
      "训练周期: 16 [32000/60000 (53%)]\tLoss: 0.031944\t训练正确率: 97.57%\t校验正确率: 97.34%\n",
      "(tensor(4876), 5000)\n",
      "训练周期: 16 [38400/60000 (64%)]\tLoss: 0.044246\t训练正确率: 97.52%\t校验正确率: 97.52%\n",
      "(tensor(4874), 5000)\n",
      "训练周期: 16 [44800/60000 (75%)]\tLoss: 0.191492\t训练正确率: 97.56%\t校验正确率: 97.48%\n",
      "(tensor(4885), 5000)\n",
      "训练周期: 16 [51200/60000 (85%)]\tLoss: 0.039307\t训练正确率: 97.56%\t校验正确率: 97.70%\n",
      "(tensor(4880), 5000)\n",
      "训练周期: 16 [57600/60000 (96%)]\tLoss: 0.044469\t训练正确率: 97.60%\t校验正确率: 97.60%\n",
      "(tensor(4880), 5000)\n",
      "训练周期: 17 [0/60000 (0%)]\tLoss: 0.083688\t训练正确率: 96.88%\t校验正确率: 97.60%\n",
      "(tensor(4870), 5000)\n",
      "训练周期: 17 [6400/60000 (11%)]\tLoss: 0.027373\t训练正确率: 97.48%\t校验正确率: 97.40%\n",
      "(tensor(4883), 5000)\n",
      "训练周期: 17 [12800/60000 (21%)]\tLoss: 0.102305\t训练正确率: 97.82%\t校验正确率: 97.66%\n",
      "(tensor(4873), 5000)\n",
      "训练周期: 17 [19200/60000 (32%)]\tLoss: 0.068663\t训练正确率: 97.85%\t校验正确率: 97.46%\n",
      "(tensor(4896), 5000)\n",
      "训练周期: 17 [25600/60000 (43%)]\tLoss: 0.026802\t训练正确率: 97.82%\t校验正确率: 97.92%\n",
      "(tensor(4877), 5000)\n",
      "训练周期: 17 [32000/60000 (53%)]\tLoss: 0.019254\t训练正确率: 97.83%\t校验正确率: 97.54%\n",
      "(tensor(4881), 5000)\n",
      "训练周期: 17 [38400/60000 (64%)]\tLoss: 0.074963\t训练正确率: 97.84%\t校验正确率: 97.62%\n",
      "(tensor(4884), 5000)\n",
      "训练周期: 17 [44800/60000 (75%)]\tLoss: 0.030116\t训练正确率: 97.84%\t校验正确率: 97.68%\n",
      "(tensor(4887), 5000)\n",
      "训练周期: 17 [51200/60000 (85%)]\tLoss: 0.204989\t训练正确率: 97.83%\t校验正确率: 97.74%\n",
      "(tensor(4870), 5000)\n",
      "训练周期: 17 [57600/60000 (96%)]\tLoss: 0.109241\t训练正确率: 97.82%\t校验正确率: 97.40%\n",
      "(tensor(4882), 5000)\n",
      "训练周期: 18 [0/60000 (0%)]\tLoss: 0.077021\t训练正确率: 96.88%\t校验正确率: 97.64%\n",
      "(tensor(4887), 5000)\n",
      "训练周期: 18 [6400/60000 (11%)]\tLoss: 0.049981\t训练正确率: 97.91%\t校验正确率: 97.74%\n",
      "(tensor(4894), 5000)\n",
      "训练周期: 18 [12800/60000 (21%)]\tLoss: 0.041242\t训练正确率: 97.78%\t校验正确率: 97.88%\n",
      "(tensor(4888), 5000)\n",
      "训练周期: 18 [19200/60000 (32%)]\tLoss: 0.475782\t训练正确率: 97.88%\t校验正确率: 97.76%\n",
      "(tensor(4884), 5000)\n",
      "训练周期: 18 [25600/60000 (43%)]\tLoss: 0.025529\t训练正确率: 97.88%\t校验正确率: 97.68%\n",
      "(tensor(4873), 5000)\n",
      "训练周期: 18 [32000/60000 (53%)]\tLoss: 0.145390\t训练正确率: 97.83%\t校验正确率: 97.46%\n",
      "(tensor(4873), 5000)\n",
      "训练周期: 18 [38400/60000 (64%)]\tLoss: 0.022848\t训练正确率: 97.83%\t校验正确率: 97.46%\n",
      "(tensor(4879), 5000)\n",
      "训练周期: 18 [44800/60000 (75%)]\tLoss: 0.055562\t训练正确率: 97.83%\t校验正确率: 97.58%\n",
      "(tensor(4883), 5000)\n",
      "训练周期: 18 [51200/60000 (85%)]\tLoss: 0.018921\t训练正确率: 97.82%\t校验正确率: 97.66%\n",
      "(tensor(4885), 5000)\n",
      "训练周期: 18 [57600/60000 (96%)]\tLoss: 0.101112\t训练正确率: 97.81%\t校验正确率: 97.70%\n",
      "(tensor(4890), 5000)\n",
      "训练周期: 19 [0/60000 (0%)]\tLoss: 0.029194\t训练正确率: 98.44%\t校验正确率: 97.80%\n",
      "(tensor(4900), 5000)\n",
      "训练周期: 19 [6400/60000 (11%)]\tLoss: 0.041703\t训练正确率: 97.99%\t校验正确率: 98.00%\n",
      "(tensor(4880), 5000)\n",
      "训练周期: 19 [12800/60000 (21%)]\tLoss: 0.059276\t训练正确率: 98.05%\t校验正确率: 97.60%\n",
      "(tensor(4873), 5000)\n",
      "训练周期: 19 [19200/60000 (32%)]\tLoss: 0.026938\t训练正确率: 98.02%\t校验正确率: 97.46%\n",
      "(tensor(4883), 5000)\n",
      "训练周期: 19 [25600/60000 (43%)]\tLoss: 0.016729\t训练正确率: 98.08%\t校验正确率: 97.66%\n",
      "(tensor(4885), 5000)\n",
      "训练周期: 19 [32000/60000 (53%)]\tLoss: 0.044317\t训练正确率: 98.08%\t校验正确率: 97.70%\n",
      "(tensor(4883), 5000)\n",
      "训练周期: 19 [38400/60000 (64%)]\tLoss: 0.033118\t训练正确率: 98.01%\t校验正确率: 97.66%\n",
      "(tensor(4885), 5000)\n",
      "训练周期: 19 [44800/60000 (75%)]\tLoss: 0.052026\t训练正确率: 97.97%\t校验正确率: 97.70%\n",
      "(tensor(4886), 5000)\n",
      "训练周期: 19 [51200/60000 (85%)]\tLoss: 0.033889\t训练正确率: 97.95%\t校验正确率: 97.72%\n",
      "(tensor(4895), 5000)\n",
      "训练周期: 19 [57600/60000 (96%)]\tLoss: 0.004163\t训练正确率: 97.94%\t校验正确率: 97.90%\n"
     ]
    }
   ],
   "source": [
    "net = ConvNet() #新建一个卷积神经网络的实例，此时ConvNet的__init__函数就会被自动调用\n",
    "\n",
    "criterion = nn.CrossEntropyLoss() #Loss函数的定义，交叉熵\n",
    "optimizer = optim.SGD(net.parameters(), lr=0.001, momentum=0.9) #定义优化器，普通的随机梯度下降算法\n",
    "\n",
    "record = [] #记录准确率等数值的容器\n",
    "weights = [] #每若干步就记录一次卷积核\n",
    "\n",
    "#开始训练循环\n",
    "for epoch in range(num_epochs):\n",
    "    \n",
    "    train_rights = [] #记录训练数据集准确率的容器\n",
    "    \n",
    "    ''' 下面的enumerate是构造一个枚举器的作用。就是我们在对train_loader做循环迭代的时候，enumerate会自动吐出一个数字指示我们循环了几次\n",
    "     这个数字就被记录在了batch_idx之中，它就等于0，1，2，……\n",
    "     train_loader每迭代一次，就会吐出来一对数据data和target，分别对应着一个batch中的手写数字图，以及对应的标签。'''\n",
    "    \n",
    "    for batch_idx, (data, target) in enumerate(train_loader):  #针对容器中的每一个批进行循环\n",
    "        data, target = data.clone().requires_grad_(True), target.clone().detach()  #data为一批图像，target为一批标签\n",
    "        net.train() # 给网络模型做标记，标志说模型正在训练集上训练，\n",
    "                    #这种区分主要是为了打开关闭net的training标志，从而决定是否运行dropout\n",
    "            \n",
    "        output = net(data) #神经网络完成一次前馈的计算过程，得到预测输出output\n",
    "        loss = criterion(output, target) #将output与标签target比较，计算误差\n",
    "        optimizer.zero_grad() #清空梯度\n",
    "        loss.backward() #反向传播\n",
    "        optimizer.step() #一步随机梯度下降算法\n",
    "        right = rightness(output, target) #计算准确率所需数值，返回数值为（正确样例数，总样本数）\n",
    "        train_rights.append(right) #将计算结果装到列表容器train_rights中\n",
    "\n",
    "    \n",
    "        if batch_idx % 100 == 0: #每间隔100个batch执行一次打印等操作\n",
    "            \n",
    "            net.eval() # 给网络模型做标记，标志说模型在训练集上训练\n",
    "            val_rights = [] #记录校验数据集准确率的容器\n",
    "            \n",
    "            '''开始在校验数据集上做循环，计算校验集上面的准确度'''\n",
    "            for (data, target) in validation_loader:\n",
    "                data, target = data.clone().requires_grad_(True), target.clone().detach()\n",
    "                output = net(data) #完成一次前馈计算过程，得到目前训练得到的模型net在校验数据集上的表现\n",
    "                right = rightness(output, target) #计算准确率所需数值，返回正确的数值为（正确样例数，总样本数）\n",
    "                val_rights.append(right)\n",
    "            \n",
    "            # 分别计算在目前已经计算过的测试数据集，以及全部校验集上模型的表现：分类准确率\n",
    "            #train_r为一个二元组，分别记录目前已经经历过的所有训练集中分类正确的数量和该集合中总的样本数，\n",
    "            #train_r[0]/train_r[1]就是训练集的分类准确度，同样，val_r[0]/val_r[1]就是校验集上的分类准确度\n",
    "            train_r = (sum([tup[0] for tup in train_rights]), sum([tup[1] for tup in train_rights]))\n",
    "            #val_r为一个二元组，分别记录校验集中分类正确的数量和该集合中总的样本数\n",
    "            val_r = (sum([tup[0] for tup in val_rights]), sum([tup[1] for tup in val_rights]))\n",
    "            #打印准确率等数值，其中正确率为本训练周期Epoch开始后到目前撮的正确率的平均值\n",
    "            print(val_r)\n",
    "            print('训练周期: {} [{}/{} ({:.0f}%)]\\tLoss: {:.6f}\\t训练正确率: {:.2f}%\\t校验正确率: {:.2f}%'.format(\n",
    "                epoch, batch_idx * batch_size, len(train_loader.dataset),\n",
    "                100. * batch_idx / len(train_loader), \n",
    "                loss.data, \n",
    "                100. * train_r[0].numpy() / train_r[1], \n",
    "                100. * val_r[0].numpy() / val_r[1]))\n",
    "            \n",
    "            #将准确率和权重等数值加载到容器中，以方便后续处理\n",
    "            record.append((100 - 100. * train_r[0] / train_r[1], 100 - 100. * val_r[0] / val_r[1]))\n",
    "            \n",
    "            # weights记录了训练周期中所有卷积核的演化过程。net.conv1.weight就提取出了第一层卷积核的权重\n",
    "            # clone的意思就是将weight.data中的数据做一个拷贝放到列表中，否则当weight.data变化的时候，列表中的每一项数值也会联动\n",
    "            '''这里使用clone这个函数很重要'''\n",
    "            weights.append([net.conv1.weight.data.clone(), net.conv1.bias.data.clone(), \n",
    "                            net.conv2.weight.data.clone(), net.conv2.bias.data.clone()])\n",
    "            "
   ]
  },
  {
   "cell_type": "code",
   "execution_count": 8,
   "metadata": {},
   "outputs": [
    {
     "name": "stdout",
     "output_type": "stream",
     "text": [
      "98.86\n"
     ]
    }
   ],
   "source": [
    "#在测试集上分批运行，并计算总的正确率\n",
    "net.eval() #标志模型当前为运行阶段\n",
    "vals = [] #记录准确率所用列表\n",
    "\n",
    "#对测试数据集进行循环\n",
    "for data, target in test_loader:\n",
    "    data, target = data.clone().detach().requires_grad_(True), target.clone().detach()\n",
    "    output = net(data) #将特征数据喂入网络，得到分类的输出\n",
    "    val = rightness(output, target) #获得正确样本数以及总样本数\n",
    "    vals.append(val) #记录结果\n",
    "\n",
    "#计算准确率\n",
    "rights = (sum([tup[0] for tup in vals]), sum([tup[1] for tup in vals]))\n",
    "right_rate = 100. * rights[0].numpy() / rights[1]\n",
    "print(right_rate)"
   ]
  },
  {
   "cell_type": "code",
   "execution_count": 9,
   "metadata": {},
   "outputs": [
    {
     "name": "stdout",
     "output_type": "stream",
     "text": [
      "标签是： 9\n"
     ]
    },
    {
     "data": {
      "image/png": "[encoded data removed]",
      "text/plain": [
       "<Figure size 432x288 with 1 Axes>"
      ]
     },
     "metadata": {
      "needs_background": "light"
     },
     "output_type": "display_data"
    }
   ],
   "source": [
    "#随便从测试集中读入一张图片，并检验模型的分类结果，并绘制出来\n",
    "idx = 4000\n",
    "muteimg = test_dataset[idx][0].numpy()\n",
    "plt.imshow(muteimg[0,...])\n",
    "print('标签是：',test_dataset[idx][1])\n"
   ]
  },
  {
   "cell_type": "code",
   "execution_count": 10,
   "metadata": {},
   "outputs": [
    {
     "data": {
      "image/png": "[encoded data removed]",
      "text/plain": [
       "<Figure size 720x504 with 4 Axes>"
      ]
     },
     "metadata": {
      "needs_background": "light"
     },
     "output_type": "display_data"
    }
   ],
   "source": [
    "#提取第一层卷积层的卷积核\n",
    "plt.figure(figsize = (10, 7))\n",
    "for i in range(4):\n",
    "    plt.subplot(1,4,i + 1)\n",
    "    plt.axis('off')\n",
    "    plt.imshow(net.conv1.weight.data.numpy()[i,0,...]) #提取第一层卷积核中的权重值，注意conv1是net的属性"
   ]
  },
  {
   "cell_type": "code",
   "execution_count": 11,
   "metadata": {},
   "outputs": [
    {
     "data": {
      "image/png": "[encoded data removed]",
      "text/plain": [
       "<Figure size 720x504 with 4 Axes>"
      ]
     },
     "metadata": {
      "needs_background": "light"
     },
     "output_type": "display_data"
    },
    {
     "data": {
      "image/png": "[encoded data removed]",
      "text/plain": [
       "<Figure size 720x504 with 4 Axes>"
      ]
     },
     "metadata": {
      "needs_background": "light"
     },
     "output_type": "display_data"
    },
    {
     "data": {
      "image/png": "[encoded data removed]",
      "text/plain": [
       "<Figure size 720x504 with 4 Axes>"
      ]
     },
     "metadata": {
      "needs_background": "light"
     },
     "output_type": "display_data"
    },
    {
     "data": {
      "image/png": "[encoded data removed]",
      "text/plain": [
       "<Figure size 720x504 with 4 Axes>"
      ]
     },
     "metadata": {
      "needs_background": "light"
     },
     "output_type": "display_data"
    },
    {
     "data": {
      "image/png": "[encoded data removed]",
      "text/plain": [
       "<Figure size 720x504 with 4 Axes>"
      ]
     },
     "metadata": {
      "needs_background": "light"
     },
     "output_type": "display_data"
    },
    {
     "data": {
      "image/png": "[encoded data removed]",
      "text/plain": [
       "<Figure size 720x504 with 4 Axes>"
      ]
     },
     "metadata": {
      "needs_background": "light"
     },
     "output_type": "display_data"
    },
    {
     "data": {
      "image/png": "[encoded data removed]",
      "text/plain": [
       "<Figure size 720x504 with 4 Axes>"
      ]
     },
     "metadata": {
      "needs_background": "light"
     },
     "output_type": "display_data"
    },
    {
     "data": {
      "image/png": "[encoded data removed]",
      "text/plain": [
       "<Figure size 720x504 with 4 Axes>"
      ]
     },
     "metadata": {
      "needs_background": "light"
     },
     "output_type": "display_data"
    },
    {
     "data": {
      "image/png": "[encoded data removed]",
      "text/plain": [
       "<Figure size 720x504 with 4 Axes>"
      ]
     },
     "metadata": {
      "needs_background": "light"
     },
     "output_type": "display_data"
    },
    {
     "data": {
      "image/png": "[encoded data removed]",
      "text/plain": [
       "<Figure size 720x504 with 4 Axes>"
      ]
     },
     "metadata": {
      "needs_background": "light"
     },
     "output_type": "display_data"
    },
    {
     "data": {
      "image/png": "[encoded data removed]",
      "text/plain": [
       "<Figure size 720x504 with 4 Axes>"
      ]
     },
     "metadata": {
      "needs_background": "light"
     },
     "output_type": "display_data"
    },
    {
     "data": {
      "image/png": "[encoded data removed]",
      "text/plain": [
       "<Figure size 720x504 with 4 Axes>"
      ]
     },
     "metadata": {
      "needs_background": "light"
     },
     "output_type": "display_data"
    },
    {
     "data": {
      "image/png": "[encoded data removed]",
      "text/plain": [
       "<Figure size 720x504 with 4 Axes>"
      ]
     },
     "metadata": {
      "needs_background": "light"
     },
     "output_type": "display_data"
    },
    {
     "data": {
      "image/png": "[encoded data removed]",
      "text/plain": [
       "<Figure size 720x504 with 4 Axes>"
      ]
     },
     "metadata": {
      "needs_background": "light"
     },
     "output_type": "display_data"
    },
    {
     "data": {
      "image/png": "[encoded data removed]",
      "text/plain": [
       "<Figure size 720x504 with 4 Axes>"
      ]
     },
     "metadata": {
      "needs_background": "light"
     },
     "output_type": "display_data"
    },
    {
     "data": {
      "image/png": "[encoded data removed]",
      "text/plain": [
       "<Figure size 720x504 with 4 Axes>"
      ]
     },
     "metadata": {
      "needs_background": "light"
     },
     "output_type": "display_data"
    },
    {
     "data": {
      "image/png": "[encoded data removed]",
      "text/plain": [
       "<Figure size 720x504 with 4 Axes>"
      ]
     },
     "metadata": {
      "needs_background": "light"
     },
     "output_type": "display_data"
    },
    {
     "data": {
      "image/png": "[encoded data removed]",
      "text/plain": [
       "<Figure size 720x504 with 4 Axes>"
      ]
     },
     "metadata": {
      "needs_background": "light"
     },
     "output_type": "display_data"
    },
    {
     "data": {
      "image/png": "[encoded data removed]",
      "text/plain": [
       "<Figure size 720x504 with 4 Axes>"
      ]
     },
     "metadata": {
      "needs_background": "light"
     },
     "output_type": "display_data"
    },
    {
     "data": {
      "image/png": "[encoded data removed]",
      "text/plain": [
       "<Figure size 720x504 with 4 Axes>"
      ]
     },
     "metadata": {
      "needs_background": "light"
     },
     "output_type": "display_data"
    }
   ],
   "source": [
    "# 将记录在容器中的卷积核权重历史演化数据打印出来\n",
    "i = 0\n",
    "for tup in weights:\n",
    "    if i % 10 == 0 :\n",
    "        layer1 = tup[0]\n",
    "        fig = plt.figure(figsize = (10, 7))\n",
    "        for j in range(4):\n",
    "            plt.subplot(1, 4, j + 1)\n",
    "            plt.axis('off')\n",
    "            plt.imshow(layer1.numpy()[j,0,...])\n",
    "    i += 1"
   ]
  },
  {
   "cell_type": "code",
   "execution_count": 13,
   "metadata": {},
   "outputs": [
    {
     "data": {
      "image/png": "[encoded data removed]",
      "text/plain": [
       "<Figure size 720x504 with 4 Axes>"
      ]
     },
     "metadata": {
      "needs_background": "light"
     },
     "output_type": "display_data"
    }
   ],
   "source": [
    "#调用net的retrieve_features方法可以抽取出喂入当前数据后吐出来的所有特征图（第一个卷积和第二个卷积层）\n",
    "\n",
    "#首先定义读入的图片\n",
    "\n",
    "#它是从test_dataset中提取第idx个批次的第0个图，其次unsqueeze的作用是在最前面添加一维，\n",
    "#目的是为了让这个input_x的tensor是四维的，这样才能输入给net。补充的那一维表示batch。\n",
    "input_x = test_dataset[idx][0].unsqueeze(0) \n",
    "feature_maps = net.retrieve_features(input_x) #feature_maps是有两个元素的列表，分别表示第一层和第二层卷积的所有特征图\n",
    "\n",
    "plt.figure(figsize = (10, 7))\n",
    "\n",
    "#有四个特征图，循环把它们打印出来\n",
    "for i in range(4):\n",
    "    plt.subplot(1,4,i + 1)\n",
    "    plt.axis('off')\n",
    "    plt.imshow(feature_maps[0][0, i,...].data.numpy())"
   ]
  },
  {
   "cell_type": "code",
   "execution_count": 14,
   "metadata": {},
   "outputs": [
    {
     "data": {
      "image/png": "[encoded data removed]",
      "text/plain": [
       "<Figure size 1080x720 with 32 Axes>"
      ]
     },
     "metadata": {
      "needs_background": "light"
     },
     "output_type": "display_data"
    }
   ],
   "source": [
    "# 绘制第二层的卷积核，每一列对应一个卷积核，一共8个卷积核\n",
    "plt.figure(figsize = (15, 10))\n",
    "for i in range(4):\n",
    "    for j in range(8):\n",
    "        plt.subplot(4, 8, i * 8 + j + 1)\n",
    "        plt.axis('off')\n",
    "        plt.imshow(net.conv2.weight.data.numpy()[j, i,...])"
   ]
  },
  {
   "cell_type": "code",
   "execution_count": 15,
   "metadata": {},
   "outputs": [
    {
     "data": {
      "image/png": "[encoded data removed]",
      "text/plain": [
       "<Figure size 720x504 with 8 Axes>"
      ]
     },
     "metadata": {
      "needs_background": "light"
     },
     "output_type": "display_data"
    }
   ],
   "source": [
    "# 绘制第二层的特征图，一共八个\n",
    "plt.figure(figsize = (10, 7))\n",
    "for i in range(8):\n",
    "    plt.subplot(2,4,i + 1)\n",
    "    plt.axis('off')\n",
    "    plt.imshow(feature_maps[1][0, i,...].data.numpy())"
   ]
  },
  {
   "cell_type": "code",
   "execution_count": 16,
   "metadata": {},
   "outputs": [
    {
     "name": "stdout",
     "output_type": "stream",
     "text": [
      "tensor([0])\n"
     ]
    },
    {
     "data": {
      "image/png": "[encoded data removed]",
      "text/plain": [
       "<Figure size 432x288 with 1 Axes>"
      ]
     },
     "metadata": {
      "needs_background": "light"
     },
     "output_type": "display_data"
    },
    {
     "data": {
      "image/png": "[encoded data removed]",
      "text/plain": [
       "<Figure size 720x504 with 4 Axes>"
      ]
     },
     "metadata": {
      "needs_background": "light"
     },
     "output_type": "display_data"
    },
    {
     "data": {
      "image/png": "[encoded data removed]",
      "text/plain": [
       "<Figure size 720x504 with 8 Axes>"
      ]
     },
     "metadata": {
      "needs_background": "light"
     },
     "output_type": "display_data"
    }
   ],
   "source": [
    "# 提取中test_dataset中的第idx个批次的第0个图的第0个通道对应的图像，定义为a。\n",
    "a = test_dataset[idx][0][0]\n",
    "\n",
    "# 平移后的新图像将放到b中。根据a给b赋值。\n",
    "b = torch.zeros(a.size()) #全0的28*28的矩阵\n",
    "w = 3 #平移的长度为3个像素\n",
    "\n",
    "# 对于b中的任意像素i,j，它等于a中的i,j+w这个位置的像素\n",
    "for i in range(a.size()[0]):\n",
    "    for j in range(0, a.size()[1] - w):\n",
    "        b[i, j] = a[i, j + w]\n",
    "\n",
    "# 将b画出来\n",
    "muteimg = b.numpy()\n",
    "plt.axis('off')\n",
    "plt.imshow(muteimg)\n",
    "\n",
    "# 把b喂给神经网络，得到分类结果pred（prediction是预测的每一个类别的概率的对数值），并把结果打印出来\n",
    "prediction = net(b.unsqueeze(0).unsqueeze(0))\n",
    "pred = torch.max(prediction.data, 1)[1]\n",
    "print(pred)\n",
    "\n",
    "#提取b对应的featuremap结果\n",
    "feature_maps = net.retrieve_features(b.unsqueeze(0).unsqueeze(0))\n",
    "\n",
    "plt.figure(figsize = (10, 7))\n",
    "for i in range(4):\n",
    "    plt.subplot(1,4,i + 1)\n",
    "    plt.axis('off')\n",
    "    plt.imshow(feature_maps[0][0, i,...].data.numpy())\n",
    "\n",
    "plt.figure(figsize = (10, 7))\n",
    "for i in range(8):\n",
    "    plt.subplot(2,4,i + 1)\n",
    "    plt.axis('off')\n",
    "\n",
    "    plt.imshow(feature_maps[1][0, i,...].data.numpy())"
   ]
  },
  {
   "cell_type": "code",
   "execution_count": null,
   "metadata": {},
   "outputs": [],
   "source": []
  }
 ],
 "metadata": {
  "kernelspec": {
   "display_name": "pytorch_learn",
   "language": "python",
   "name": "pytorch_learn"
  },
  "language_info": {
   "codemirror_mode": {
    "name": "ipython",
    "version": 3
   },
   "file_extension": ".py",
   "mimetype": "text/x-python",
   "name": "python",
   "nbconvert_exporter": "python",
   "pygments_lexer": "ipython3",
   "version": "3.6.12"
  }
 },
 "nbformat": 4,
 "nbformat_minor": 4
}
