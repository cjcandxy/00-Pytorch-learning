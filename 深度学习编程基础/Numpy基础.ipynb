{
 "cells": [
  {
   "cell_type": "code",
   "execution_count": 2,
   "metadata": {},
   "outputs": [],
   "source": [
    "import numpy as np"
   ]
  },
  {
   "cell_type": "code",
   "execution_count": 3,
   "metadata": {},
   "outputs": [],
   "source": [
    "#  np.abs?  可以查看帮助文档\n",
    "#  np.+TAB按键，查看可以使用的函数"
   ]
  },
  {
   "cell_type": "markdown",
   "metadata": {},
   "source": [
    "## 数组生成"
   ]
  },
  {
   "cell_type": "code",
   "execution_count": 8,
   "metadata": {},
   "outputs": [
    {
     "name": "stdout",
     "output_type": "stream",
     "text": [
      "[9 6 2 4 9 9]\n",
      "<class 'numpy.ndarray'>\n",
      "[[9 6 2]\n",
      " [4 9 9]]\n",
      "<class 'numpy.ndarray'>\n"
     ]
    }
   ],
   "source": [
    "# 从python的基础数据类型创建数组\n",
    "\n",
    "list1 = [9, 6, 2, 4, 9, 9]\n",
    "nd1 = np.array(list1)\n",
    "print(nd1)\n",
    "print(type(nd1))\n",
    "\n",
    "list2 = [[9, 6, 2], [4, 9, 9]]\n",
    "nd2 = np.array(list2)\n",
    "print(nd2)\n",
    "print(type(nd2))"
   ]
  },
  {
   "cell_type": "code",
   "execution_count": 10,
   "metadata": {},
   "outputs": [],
   "source": [
    "# 利用random模块生成数组"
   ]
  },
  {
   "cell_type": "markdown",
   "metadata": {},
   "source": [
    "- random 0到1随机数\n",
    "- uniform 均匀分布随机数\n",
    "- randn 标准正态随机数\n",
    "- randint 随机整数\n",
    "- normal 正态分布\n",
    "- shuffle 随机打乱\n",
    "- seed 设置随机数种子"
   ]
  },
  {
   "cell_type": "code",
   "execution_count": 13,
   "metadata": {},
   "outputs": [
    {
     "name": "stdout",
     "output_type": "stream",
     "text": [
      "[[0.66972145 0.08162381 0.45570004]\n",
      " [0.36790888 0.13168312 0.49624379]\n",
      " [0.80877695 0.53779159 0.10276517]]\n"
     ]
    }
   ],
   "source": [
    "nd3 = np.random.random([3,3])\n",
    "print(nd3)"
   ]
  },
  {
   "cell_type": "code",
   "execution_count": 15,
   "metadata": {},
   "outputs": [
    {
     "name": "stdout",
     "output_type": "stream",
     "text": [
      "[[-1.0856306   0.99734545  0.2829785 ]\n",
      " [-1.50629471 -0.57860025  1.65143654]]\n",
      "[[-1.50629471 -0.57860025  1.65143654]\n",
      " [-1.0856306   0.99734545  0.2829785 ]]\n"
     ]
    }
   ],
   "source": [
    "np.random.seed(123)\n",
    "nd4 = np.random.randn(2,3)\n",
    "print(nd4)\n",
    "np.random.shuffle(nd4)\n",
    "print(nd4)"
   ]
  },
  {
   "cell_type": "code",
   "execution_count": 16,
   "metadata": {},
   "outputs": [],
   "source": [
    "# 创建特定形状的多维数组"
   ]
  },
  {
   "cell_type": "markdown",
   "metadata": {},
   "source": [
    "- np.zeros：全为0数组\n",
    "- np.ones：全为1数组\n",
    "- np.empty: 空数组\n",
    "- np.zeros_like(ndarr):以ndarr相同维度创建全0数组\n",
    "- 同 empty; ones"
   ]
  },
  {
   "cell_type": "code",
   "execution_count": 20,
   "metadata": {},
   "outputs": [
    {
     "name": "stdout",
     "output_type": "stream",
     "text": [
      "[0 1 2 3 4 5 6 7 8 9]\n",
      "[0 1 2 3 4 5 6 7 8 9]\n",
      "[1.  1.5 2.  2.5 3.  3.5]\n",
      "[9 8 7 6 5 4 3 2 1 0]\n"
     ]
    }
   ],
   "source": [
    "# 利用arange;linspace生成数组\n",
    "print(np.arange(10))\n",
    "print(np.arange(0,10))\n",
    "print(np.arange(1, 4, 0.5))\n",
    "print(np.arange(9, -1, -1))"
   ]
  },
  {
   "cell_type": "code",
   "execution_count": 24,
   "metadata": {},
   "outputs": [
    {
     "name": "stdout",
     "output_type": "stream",
     "text": [
      "[ 0.  1.  2.  3.  4.  5.  6.  7.  8.  9. 10.]\n",
      "[ 0.          1.11111111  2.22222222  3.33333333  4.44444444  5.55555556\n",
      "  6.66666667  7.77777778  8.88888889 10.        ]\n"
     ]
    }
   ],
   "source": [
    "# linspace函数包含起点和终点\n",
    "print(np.linspace(0,10,11))\n",
    "print(np.linspace(0,10,10))"
   ]
  },
  {
   "cell_type": "markdown",
   "metadata": {},
   "source": [
    "## 获取元素"
   ]
  },
  {
   "cell_type": "code",
   "execution_count": 34,
   "metadata": {},
   "outputs": [
    {
     "data": {
      "text/plain": [
       "array([0.90348221, 0.39308051, 0.62396996, 0.6378774 , 0.88049907,\n",
       "       0.29917202, 0.70219827, 0.90320616, 0.88138193, 0.4057498 ])"
      ]
     },
     "execution_count": 34,
     "metadata": {},
     "output_type": "execute_result"
    }
   ],
   "source": [
    "np.random.seed(2019)\n",
    "q = np.random.random(10)\n",
    "q"
   ]
  },
  {
   "cell_type": "code",
   "execution_count": 35,
   "metadata": {},
   "outputs": [
    {
     "data": {
      "text/plain": [
       "0.6378774010222266"
      ]
     },
     "execution_count": 35,
     "metadata": {},
     "output_type": "execute_result"
    }
   ],
   "source": [
    "# 获取指定位置元素(获取第四个元素)\n",
    "q[3]"
   ]
  },
  {
   "cell_type": "code",
   "execution_count": 36,
   "metadata": {},
   "outputs": [
    {
     "data": {
      "text/plain": [
       "array([0.6378774 , 0.88049907, 0.29917202])"
      ]
     },
     "execution_count": 36,
     "metadata": {},
     "output_type": "execute_result"
    }
   ],
   "source": [
    "# 截取一段数据\n",
    "q[3:6]"
   ]
  },
  {
   "cell_type": "code",
   "execution_count": 37,
   "metadata": {},
   "outputs": [
    {
     "data": {
      "text/plain": [
       "array([0.39308051, 0.6378774 , 0.29917202])"
      ]
     },
     "execution_count": 37,
     "metadata": {},
     "output_type": "execute_result"
    }
   ],
   "source": [
    "# 截取固定间隔数据\n",
    "q[1:6:2]"
   ]
  },
  {
   "cell_type": "code",
   "execution_count": 38,
   "metadata": {},
   "outputs": [
    {
     "data": {
      "text/plain": [
       "array([0.4057498 , 0.90320616, 0.29917202, 0.6378774 , 0.39308051])"
      ]
     },
     "execution_count": 38,
     "metadata": {},
     "output_type": "execute_result"
    }
   ],
   "source": [
    "# 倒序取数\n",
    "q[::-2]"
   ]
  },
  {
   "cell_type": "code",
   "execution_count": 41,
   "metadata": {},
   "outputs": [],
   "source": [
    "qq = np.arange(25).reshape(5,5)"
   ]
  },
  {
   "cell_type": "code",
   "execution_count": 42,
   "metadata": {},
   "outputs": [
    {
     "data": {
      "text/plain": [
       "array([[ 0,  1,  2,  3,  4],\n",
       "       [ 5,  6,  7,  8,  9],\n",
       "       [10, 11, 12, 13, 14],\n",
       "       [15, 16, 17, 18, 19],\n",
       "       [20, 21, 22, 23, 24]])"
      ]
     },
     "execution_count": 42,
     "metadata": {},
     "output_type": "execute_result"
    }
   ],
   "source": [
    "qq"
   ]
  },
  {
   "cell_type": "code",
   "execution_count": 44,
   "metadata": {},
   "outputs": [
    {
     "data": {
      "text/plain": [
       "array([[ 6,  7],\n",
       "       [11, 12]])"
      ]
     },
     "execution_count": 44,
     "metadata": {},
     "output_type": "execute_result"
    }
   ],
   "source": [
    "# 截取多维数组某一区域数据\n",
    "qq[1:3,1:3]"
   ]
  },
  {
   "cell_type": "code",
   "execution_count": 45,
   "metadata": {},
   "outputs": [
    {
     "data": {
      "text/plain": [
       "array([4, 5, 6, 7, 8, 9])"
      ]
     },
     "execution_count": 45,
     "metadata": {},
     "output_type": "execute_result"
    }
   ],
   "source": [
    "# 截取多维数组数值在一个值域内数据\n",
    "qq[(qq>3)&(qq<10)]"
   ]
  },
  {
   "cell_type": "code",
   "execution_count": 48,
   "metadata": {},
   "outputs": [
    {
     "data": {
      "text/plain": [
       "array([[ 5,  6,  7,  8,  9],\n",
       "       [10, 11, 12, 13, 14]])"
      ]
     },
     "execution_count": 48,
     "metadata": {},
     "output_type": "execute_result"
    }
   ],
   "source": [
    "# 截取多维数组中指定的行\n",
    "qq[1:3, :]"
   ]
  },
  {
   "cell_type": "code",
   "execution_count": 49,
   "metadata": {},
   "outputs": [
    {
     "data": {
      "text/plain": [
       "array([[ 1,  2],\n",
       "       [ 6,  7],\n",
       "       [11, 12],\n",
       "       [16, 17],\n",
       "       [21, 22]])"
      ]
     },
     "execution_count": 49,
     "metadata": {},
     "output_type": "execute_result"
    }
   ],
   "source": [
    "# 截取多维数组中指定的列\n",
    "qq[:, 1:3]"
   ]
  },
  {
   "cell_type": "code",
   "execution_count": 50,
   "metadata": {},
   "outputs": [
    {
     "data": {
      "text/plain": [
       "array([[10, 12, 14],\n",
       "       [20, 22, 24]])"
      ]
     },
     "execution_count": 50,
     "metadata": {},
     "output_type": "execute_result"
    }
   ],
   "source": [
    "qq[2::2,::2]"
   ]
  },
  {
   "cell_type": "markdown",
   "metadata": {},
   "source": [
    "## 算术运算"
   ]
  },
  {
   "cell_type": "code",
   "execution_count": 52,
   "metadata": {},
   "outputs": [
    {
     "data": {
      "text/plain": [
       "array([[1, 4],\n",
       "       [0, 0]])"
      ]
     },
     "execution_count": 52,
     "metadata": {},
     "output_type": "execute_result"
    }
   ],
   "source": [
    "# 对应元素相乘\n",
    "# 注意是对应元素相乘,而不是正常的矩阵运算\n",
    "A = np.array([[1,2],[3,4]])\n",
    "B = np.array([[1,2],[0,0]])\n",
    "A*B"
   ]
  },
  {
   "cell_type": "code",
   "execution_count": 53,
   "metadata": {},
   "outputs": [
    {
     "data": {
      "text/plain": [
       "array([[1, 2],\n",
       "       [3, 6]])"
      ]
     },
     "execution_count": 53,
     "metadata": {},
     "output_type": "execute_result"
    }
   ],
   "source": [
    "# 内积\n",
    "np.dot(A,B)"
   ]
  },
  {
   "cell_type": "markdown",
   "metadata": {},
   "source": [
    "## 数组变形"
   ]
  },
  {
   "cell_type": "code",
   "execution_count": 1,
   "metadata": {},
   "outputs": [],
   "source": [
    "# reshape : 改变向量的维度，不修改向量本身\n",
    "# 指定维度时可以只指定行数或者列数，其他用-1代替\n",
    "\n",
    "# resize ： 改变向量的维度，修改向量本身\n",
    "\n",
    "# ravel ： 向量展平\n",
    "# rabel('F') : 按照列优先，展平\n",
    "# ravel() : 按照行优先，展平\n",
    "\n",
    "# flatten ：将矩阵转换为向量\n",
    "\n",
    "# squeeze ： 把矩阵中含1的维度去掉\n",
    "\n",
    "# transpose ：对高维矩阵进行轴对换"
   ]
  },
  {
   "cell_type": "markdown",
   "metadata": {},
   "source": [
    "                                                                                                                 "
   ]
  },
  {
   "cell_type": "markdown",
   "metadata": {},
   "source": [
    "## 数组变形"
   ]
  },
  {
   "cell_type": "code",
   "execution_count": 3,
   "metadata": {},
   "outputs": [],
   "source": [
    "# append : 合并一维数组\n",
    "# np.append(a, b, axis = 0) 按照行合并\n",
    "# np.append(a, b, axis = 1) 按照列合并\n",
    "\n",
    "# concatenate 沿指定轴连接数组或矩阵\n",
    "\n",
    "# stack 沿指定轴堆叠数组或矩阵"
   ]
  },
  {
   "cell_type": "markdown",
   "metadata": {},
   "source": [
    "## 批量处理"
   ]
  },
  {
   "cell_type": "code",
   "execution_count": 9,
   "metadata": {},
   "outputs": [
    {
     "name": "stdout",
     "output_type": "stream",
     "text": [
      "(10000, 2, 3)\n"
     ]
    }
   ],
   "source": [
    "data_train = np.random.randn(10000, 2, 3)\n",
    "print(data_train.shape)"
   ]
  },
  {
   "cell_type": "code",
   "execution_count": 10,
   "metadata": {
    "collapsed": true,
    "jupyter": {
     "outputs_hidden": true
    }
   },
   "outputs": [
    {
     "name": "stdout",
     "output_type": "stream",
     "text": [
      "第0批次，该批次数据和34.74436557751068\n",
      "第100批次，该批次数据和5.240833572557508\n",
      "第200批次，该批次数据和22.80298861625309\n",
      "第300批次，该批次数据和15.68120562640147\n",
      "第400批次，该批次数据和2.7222156478707618\n",
      "第500批次，该批次数据和-2.5220903256034024\n",
      "第600批次，该批次数据和35.11572410814219\n",
      "第700批次，该批次数据和1.0235197071987283\n",
      "第800批次，该批次数据和-5.961463554853683\n",
      "第900批次，该批次数据和1.3483880291262214\n",
      "第1000批次，该批次数据和-3.5930603850759164\n",
      "第1100批次，该批次数据和0.7653515737129091\n",
      "第1200批次，该批次数据和14.56468229642674\n",
      "第1300批次，该批次数据和34.06707414342066\n",
      "第1400批次，该批次数据和-16.854216491245644\n",
      "第1500批次，该批次数据和16.022981819700036\n",
      "第1600批次，该批次数据和18.211866034104823\n",
      "第1700批次，该批次数据和14.810920169045723\n",
      "第1800批次，该批次数据和38.65993454869405\n",
      "第1900批次，该批次数据和13.426825594656478\n",
      "第2000批次，该批次数据和9.170232509794078\n",
      "第2100批次，该批次数据和6.1360304827707495\n",
      "第2200批次，该批次数据和6.764444057691147\n",
      "第2300批次，该批次数据和5.923675266632911\n",
      "第2400批次，该批次数据和-20.537519995245148\n",
      "第2500批次，该批次数据和-2.4329634617832347\n",
      "第2600批次，该批次数据和-3.90799328293377\n",
      "第2700批次，该批次数据和0.5776861519293757\n",
      "第2800批次，该批次数据和25.474639453190775\n",
      "第2900批次，该批次数据和51.849781305250254\n",
      "第3000批次，该批次数据和-12.852333448020758\n",
      "第3100批次，该批次数据和11.74927431495032\n",
      "第3200批次，该批次数据和29.6059821155158\n",
      "第3300批次，该批次数据和-25.339180681686244\n",
      "第3400批次，该批次数据和3.298813941285827\n",
      "第3500批次，该批次数据和-60.987294853177005\n",
      "第3600批次，该批次数据和1.1550661794029846\n",
      "第3700批次，该批次数据和-6.4456489724714\n",
      "第3800批次，该批次数据和24.644239673508423\n",
      "第3900批次，该批次数据和35.53076102163487\n",
      "第4000批次，该批次数据和27.760905289407777\n",
      "第4100批次，该批次数据和21.101529988680966\n",
      "第4200批次，该批次数据和22.97044912159883\n",
      "第4300批次，该批次数据和-9.575202721596279\n",
      "第4400批次，该批次数据和3.6715556439500183\n",
      "第4500批次，该批次数据和-27.948505500723716\n",
      "第4600批次，该批次数据和-11.433991633751873\n",
      "第4700批次，该批次数据和10.748803724012499\n",
      "第4800批次，该批次数据和3.13604320280786\n",
      "第4900批次，该批次数据和-22.534276492563613\n",
      "第5000批次，该批次数据和-51.606161479676615\n",
      "第5100批次，该批次数据和32.16570348090716\n",
      "第5200批次，该批次数据和2.3812256719899736\n",
      "第5300批次，该批次数据和-20.1971879078312\n",
      "第5400批次，该批次数据和3.2206137612107426\n",
      "第5500批次，该批次数据和16.513777616791888\n",
      "第5600批次，该批次数据和-41.985116580446814\n",
      "第5700批次，该批次数据和2.8263092785389112\n",
      "第5800批次，该批次数据和0.6726623625275403\n",
      "第5900批次，该批次数据和-12.240204349554414\n",
      "第6000批次，该批次数据和0.021500196776768732\n",
      "第6100批次，该批次数据和-57.88033073786288\n",
      "第6200批次，该批次数据和39.579416623445205\n",
      "第6300批次，该批次数据和5.059739589893415\n",
      "第6400批次，该批次数据和46.218744623991405\n",
      "第6500批次，该批次数据和-6.120705821141337\n",
      "第6600批次，该批次数据和-4.843874385078552\n",
      "第6700批次，该批次数据和20.19804237096632\n",
      "第6800批次，该批次数据和28.22607917630721\n",
      "第6900批次，该批次数据和-24.608254035096937\n",
      "第7000批次，该批次数据和-9.144477388379569\n",
      "第7100批次，该批次数据和16.913634034394626\n",
      "第7200批次，该批次数据和-17.71871817621111\n",
      "第7300批次，该批次数据和5.785284792146204\n",
      "第7400批次，该批次数据和-8.783428034708443\n",
      "第7500批次，该批次数据和3.41003642770802\n",
      "第7600批次，该批次数据和10.84564154567298\n",
      "第7700批次，该批次数据和-0.2650388090982734\n",
      "第7800批次，该批次数据和-8.554844474514898\n",
      "第7900批次，该批次数据和7.12093300129146\n",
      "第8000批次，该批次数据和-35.737192222391634\n",
      "第8100批次，该批次数据和43.00091566248435\n",
      "第8200批次，该批次数据和26.404712253933926\n",
      "第8300批次，该批次数据和36.49014694616503\n",
      "第8400批次，该批次数据和-44.744619579896266\n",
      "第8500批次，该批次数据和9.506972680838945\n",
      "第8600批次，该批次数据和-12.140013672787271\n",
      "第8700批次，该批次数据和9.296630490518906\n",
      "第8800批次，该批次数据和16.63757442748204\n",
      "第8900批次，该批次数据和14.289324794647921\n",
      "第9000批次，该批次数据和-38.67665521427138\n",
      "第9100批次，该批次数据和24.630926311539337\n",
      "第9200批次，该批次数据和9.788765886817608\n",
      "第9300批次，该批次数据和30.53626710681519\n",
      "第9400批次，该批次数据和-49.599622311840164\n",
      "第9500批次，该批次数据和-54.33341062320817\n",
      "第9600批次，该批次数据和34.50506252338118\n",
      "第9700批次，该批次数据和11.733025578429526\n",
      "第9800批次，该批次数据和34.53227950795625\n",
      "第9900批次，该批次数据和42.10468599500557\n"
     ]
    }
   ],
   "source": [
    "np.random.shuffle(data_train)\n",
    "batch_size = 100\n",
    "for i in range(0, len(data_train), batch_size):\n",
    "    x_batch_sum = np.sum(data_train[i:i+batch_size])\n",
    "    print(\"第{}批次，该批次数据和{}\".format(i, x_batch_sum))"
   ]
  },
  {
   "cell_type": "markdown",
   "metadata": {},
   "source": [
    "## 通用函数\n",
    "- 比math处理速度更快"
   ]
  },
  {
   "cell_type": "code",
   "execution_count": 11,
   "metadata": {},
   "outputs": [],
   "source": [
    "# sqrt;sin;cos;;abs;dot;log;log10;log2;exp;cuncom(累计求和);cumproduct(累计求积);sun;mean;median;std;var;corrcoef"
   ]
  },
  {
   "cell_type": "code",
   "execution_count": null,
   "metadata": {},
   "outputs": [],
   "source": []
  }
 ],
 "metadata": {
  "kernelspec": {
   "display_name": "pytorch_learn",
   "language": "python",
   "name": "pytorch_learn"
  },
  "language_info": {
   "codemirror_mode": {
    "name": "ipython",
    "version": 3
   },
   "file_extension": ".py",
   "mimetype": "text/x-python",
   "name": "python",
   "nbconvert_exporter": "python",
   "pygments_lexer": "ipython3",
   "version": "3.6.12"
  }
 },
 "nbformat": 4,
 "nbformat_minor": 4
}
