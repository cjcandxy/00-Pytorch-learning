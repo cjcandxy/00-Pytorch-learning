{
 "cells": [
  {
   "cell_type": "code",
   "execution_count": 9,
   "metadata": {},
   "outputs": [],
   "source": [
    "# 单车预测器\n",
    "# 数据来源：https://www.capitalbikeshare.com/system-data\n",
    "# 输入节点为1个，隐含层为10个，输出节点数为1的小型人工神经网络，用数据的下标预测单车数量\n",
    "#导入需要使用的库\n",
    "import numpy as np\n",
    "import pandas as pd #读取csv文件的库\n",
    "import matplotlib.pyplot as plt\n",
    "import torch\n",
    "#from torch.autograd import Variable\n",
    "import torch.optim as optim\n",
    "plt.style.use('fivethirtyeight')\n",
    "# 让输出的图形直接在Notebook中显示\n",
    "%matplotlib inline"
   ]
  },
  {
   "cell_type": "code",
   "execution_count": 10,
   "metadata": {},
   "outputs": [
    {
     "data": {
      "text/html": [
       "<div>\n",
       "<style scoped>\n",
       "    .dataframe tbody tr th:only-of-type {\n",
       "        vertical-align: middle;\n",
       "    }\n",
       "\n",
       "    .dataframe tbody tr th {\n",
       "        vertical-align: top;\n",
       "    }\n",
       "\n",
       "    .dataframe thead th {\n",
       "        text-align: right;\n",
       "    }\n",
       "</style>\n",
       "<table border=\"1\" class=\"dataframe\">\n",
       "  <thead>\n",
       "    <tr style=\"text-align: right;\">\n",
       "      <th></th>\n",
       "      <th>instant</th>\n",
       "      <th>dteday</th>\n",
       "      <th>season</th>\n",
       "      <th>yr</th>\n",
       "      <th>mnth</th>\n",
       "      <th>hr</th>\n",
       "      <th>holiday</th>\n",
       "      <th>weekday</th>\n",
       "      <th>workingday</th>\n",
       "      <th>weathersit</th>\n",
       "      <th>temp</th>\n",
       "      <th>atemp</th>\n",
       "      <th>hum</th>\n",
       "      <th>windspeed</th>\n",
       "      <th>casual</th>\n",
       "      <th>registered</th>\n",
       "      <th>cnt</th>\n",
       "    </tr>\n",
       "  </thead>\n",
       "  <tbody>\n",
       "    <tr>\n",
       "      <th>0</th>\n",
       "      <td>1</td>\n",
       "      <td>2011-01-01</td>\n",
       "      <td>1</td>\n",
       "      <td>0</td>\n",
       "      <td>1</td>\n",
       "      <td>0</td>\n",
       "      <td>0</td>\n",
       "      <td>6</td>\n",
       "      <td>0</td>\n",
       "      <td>1</td>\n",
       "      <td>0.24</td>\n",
       "      <td>0.2879</td>\n",
       "      <td>0.81</td>\n",
       "      <td>0.0</td>\n",
       "      <td>3</td>\n",
       "      <td>13</td>\n",
       "      <td>16</td>\n",
       "    </tr>\n",
       "    <tr>\n",
       "      <th>1</th>\n",
       "      <td>2</td>\n",
       "      <td>2011-01-01</td>\n",
       "      <td>1</td>\n",
       "      <td>0</td>\n",
       "      <td>1</td>\n",
       "      <td>1</td>\n",
       "      <td>0</td>\n",
       "      <td>6</td>\n",
       "      <td>0</td>\n",
       "      <td>1</td>\n",
       "      <td>0.22</td>\n",
       "      <td>0.2727</td>\n",
       "      <td>0.80</td>\n",
       "      <td>0.0</td>\n",
       "      <td>8</td>\n",
       "      <td>32</td>\n",
       "      <td>40</td>\n",
       "    </tr>\n",
       "    <tr>\n",
       "      <th>2</th>\n",
       "      <td>3</td>\n",
       "      <td>2011-01-01</td>\n",
       "      <td>1</td>\n",
       "      <td>0</td>\n",
       "      <td>1</td>\n",
       "      <td>2</td>\n",
       "      <td>0</td>\n",
       "      <td>6</td>\n",
       "      <td>0</td>\n",
       "      <td>1</td>\n",
       "      <td>0.22</td>\n",
       "      <td>0.2727</td>\n",
       "      <td>0.80</td>\n",
       "      <td>0.0</td>\n",
       "      <td>5</td>\n",
       "      <td>27</td>\n",
       "      <td>32</td>\n",
       "    </tr>\n",
       "    <tr>\n",
       "      <th>3</th>\n",
       "      <td>4</td>\n",
       "      <td>2011-01-01</td>\n",
       "      <td>1</td>\n",
       "      <td>0</td>\n",
       "      <td>1</td>\n",
       "      <td>3</td>\n",
       "      <td>0</td>\n",
       "      <td>6</td>\n",
       "      <td>0</td>\n",
       "      <td>1</td>\n",
       "      <td>0.24</td>\n",
       "      <td>0.2879</td>\n",
       "      <td>0.75</td>\n",
       "      <td>0.0</td>\n",
       "      <td>3</td>\n",
       "      <td>10</td>\n",
       "      <td>13</td>\n",
       "    </tr>\n",
       "    <tr>\n",
       "      <th>4</th>\n",
       "      <td>5</td>\n",
       "      <td>2011-01-01</td>\n",
       "      <td>1</td>\n",
       "      <td>0</td>\n",
       "      <td>1</td>\n",
       "      <td>4</td>\n",
       "      <td>0</td>\n",
       "      <td>6</td>\n",
       "      <td>0</td>\n",
       "      <td>1</td>\n",
       "      <td>0.24</td>\n",
       "      <td>0.2879</td>\n",
       "      <td>0.75</td>\n",
       "      <td>0.0</td>\n",
       "      <td>0</td>\n",
       "      <td>1</td>\n",
       "      <td>1</td>\n",
       "    </tr>\n",
       "  </tbody>\n",
       "</table>\n",
       "</div>"
      ],
      "text/plain": [
       "   instant      dteday  season  yr  mnth  hr  holiday  weekday  workingday  \\\n",
       "0        1  2011-01-01       1   0     1   0        0        6           0   \n",
       "1        2  2011-01-01       1   0     1   1        0        6           0   \n",
       "2        3  2011-01-01       1   0     1   2        0        6           0   \n",
       "3        4  2011-01-01       1   0     1   3        0        6           0   \n",
       "4        5  2011-01-01       1   0     1   4        0        6           0   \n",
       "\n",
       "   weathersit  temp   atemp   hum  windspeed  casual  registered  cnt  \n",
       "0           1  0.24  0.2879  0.81        0.0       3          13   16  \n",
       "1           1  0.22  0.2727  0.80        0.0       8          32   40  \n",
       "2           1  0.22  0.2727  0.80        0.0       5          27   32  \n",
       "3           1  0.24  0.2879  0.75        0.0       3          10   13  \n",
       "4           1  0.24  0.2879  0.75        0.0       0           1    1  "
      ]
     },
     "execution_count": 10,
     "metadata": {},
     "output_type": "execute_result"
    }
   ],
   "source": [
    "#读取数据到内存中，rides为一个dataframe对象\n",
    "data_path = 'hour.csv'\n",
    "rides = pd.read_csv(data_path)\n",
    "\n",
    "#看看数据长什么样子\n",
    "rides.head()"
   ]
  },
  {
   "cell_type": "code",
   "execution_count": 11,
   "metadata": {},
   "outputs": [],
   "source": [
    "# 选择数据的最后一列前50条进行分析\n",
    "counts = rides['cnt'][:50]"
   ]
  },
  {
   "cell_type": "code",
   "execution_count": 12,
   "metadata": {},
   "outputs": [
    {
     "data": {
      "image/png": "[encoded data removed]",
      "text/plain": [
       "<Figure size 720x504 with 1 Axes>"
      ]
     },
     "metadata": {
      "needs_background": "light"
     },
     "output_type": "display_data"
    }
   ],
   "source": [
    "#获得变量x，它是1，2，……，50\n",
    "x = np.arange(len(counts))\n",
    "\n",
    "# 将counts转成预测变量（标签）：y\n",
    "y = np.array(counts)\n",
    "\n",
    "# 绘制一个图形，展示曲线长的样子\n",
    "plt.figure(figsize = (10, 7)) #设定绘图窗口大小\n",
    "plt.plot(x, y, 'o-') # 绘制原始数据\n",
    "plt.xlabel('X') #更改坐标轴标注\n",
    "plt.ylabel('Y') #更改坐标轴标注\n",
    "plt.show()"
   ]
  },
  {
   "cell_type": "code",
   "execution_count": 13,
   "metadata": {},
   "outputs": [
    {
     "name": "stdout",
     "output_type": "stream",
     "text": [
      "Initial parameters: [tensor([0.1461], dtype=torch.float64, requires_grad=True), tensor([0.9665], dtype=torch.float64, requires_grad=True)]\n",
      "loss: tensor(2000.1089, dtype=torch.float64, grad_fn=<MeanBackward0>)\n",
      "loss: tensor(1342.1413, dtype=torch.float64, grad_fn=<MeanBackward0>)\n",
      "loss: tensor(1338.7446, dtype=torch.float64, grad_fn=<MeanBackward0>)\n",
      "loss: tensor(1335.3827, dtype=torch.float64, grad_fn=<MeanBackward0>)\n",
      "loss: tensor(1332.0552, dtype=torch.float64, grad_fn=<MeanBackward0>)\n",
      "loss: tensor(1328.7618, dtype=torch.float64, grad_fn=<MeanBackward0>)\n",
      "loss: tensor(1325.5021, dtype=torch.float64, grad_fn=<MeanBackward0>)\n",
      "loss: tensor(1322.2758, dtype=torch.float64, grad_fn=<MeanBackward0>)\n",
      "loss: tensor(1319.0826, dtype=torch.float64, grad_fn=<MeanBackward0>)\n",
      "loss: tensor(1315.9221, dtype=torch.float64, grad_fn=<MeanBackward0>)\n"
     ]
    }
   ],
   "source": [
    "# 线性回归进行拟合\n",
    "#我们取出数据库的最后一列的前50条记录来进行预测\n",
    "counts = rides['cnt'][:50]\n",
    "\n",
    "# 创建变量x，它是1，2，……，50\n",
    "x = torch.tensor(np.arange(len(counts)), dtype=torch.double, requires_grad = True)\n",
    "\n",
    "# 将counts转成预测变量（标签）：y\n",
    "y = torch.tensor(np.array(counts), dtype=torch.double, requires_grad = True)\n",
    "\n",
    "a = torch.rand(1, dtype=torch.double, requires_grad = True) #创建a变量，并随机赋值初始化\n",
    "b = torch.rand(1, dtype=torch.double, requires_grad = True) #创建b变量，并随机赋值初始化\n",
    "print('Initial parameters:', [a, b])\n",
    "learning_rate = 0.00001 #设置学习率\n",
    "for i in range(10000):\n",
    "    ### 增加了这部分代码，清空存储在变量a，b中的梯度信息，以免在backward的过程中会反复不停地累加\n",
    "    predictions = a * x+ b  #计算在当前a、b条件下的模型预测数值\n",
    "    loss = torch.mean((predictions - y) ** 2) #通过与标签数据y比较，计算误差\n",
    "    \n",
    "    if i % 1000 == 0:\n",
    "      print('loss:', loss)\n",
    "    loss.backward() #对损失函数进行梯度反传\n",
    "    a.data.add_(- learning_rate * a.grad.data)  #利用上一步计算中得到的a的梯度信息更新a中的data数值\n",
    "    b.data.add_(- learning_rate * b.grad.data)  #利用上一步计算中得到的b的梯度信息更新b中的data数值\n",
    "    a.grad.data.zero_() #清空a的梯度数值\n",
    "    b.grad.data.zero_() #清空b的梯度数值"
   ]
  },
  {
   "cell_type": "code",
   "execution_count": 14,
   "metadata": {},
   "outputs": [
    {
     "data": {
      "image/png": "[encoded data removed]",
      "text/plain": [
       "<Figure size 720x504 with 1 Axes>"
      ]
     },
     "metadata": {
      "needs_background": "light"
     },
     "output_type": "display_data"
    }
   ],
   "source": [
    "# 绘制图形，展现线性回归的效果，结果惨不忍睹\n",
    "\n",
    "x_data = x.data.numpy() # 获得x包裹的数据\n",
    "plt.figure(figsize = (10, 7)) #设定绘图窗口大小\n",
    "xplot, = plt.plot(x_data, y.data.numpy(), 'o') # 绘制原始数据\n",
    "\n",
    "yplot, = plt.plot(x_data, predictions.data.numpy())  #绘制拟合数据\n",
    "plt.xlabel('X') #更改坐标轴标注\n",
    "plt.ylabel('Y') #更改坐标轴标注\n",
    "str1 = str(a.data.numpy()[0]) + 'x +' + str(b.data.numpy()[0]) #图例信息\n",
    "plt.legend([xplot, yplot],['Data', str1]) #绘制图例\n",
    "plt.show()"
   ]
  },
  {
   "cell_type": "code",
   "execution_count": 22,
   "metadata": {},
   "outputs": [
    {
     "ename": "AttributeError",
     "evalue": "'builtin_function_or_method' object has no attribute 'view'",
     "output_type": "error",
     "traceback": [
      "\u001b[1;31m---------------------------------------------------------------------------\u001b[0m",
      "\u001b[1;31mAttributeError\u001b[0m                            Traceback (most recent call last)",
      "\u001b[1;32m<ipython-input-22-977007cb0e86>\u001b[0m in \u001b[0;36m<module>\u001b[1;34m\u001b[0m\n\u001b[1;32m----> 1\u001b[1;33m \u001b[0mhelp\u001b[0m\u001b[1;33m(\u001b[0m\u001b[0mtorch\u001b[0m\u001b[1;33m.\u001b[0m\u001b[0mtensor\u001b[0m\u001b[1;33m.\u001b[0m\u001b[0mview\u001b[0m\u001b[1;33m)\u001b[0m\u001b[1;33m\u001b[0m\u001b[1;33m\u001b[0m\u001b[0m\n\u001b[0m",
      "\u001b[1;31mAttributeError\u001b[0m: 'builtin_function_or_method' object has no attribute 'view'"
     ]
    }
   ],
   "source": [
    "help(torch.tensor.view)"
   ]
  },
  {
   "cell_type": "code",
   "execution_count": 15,
   "metadata": {},
   "outputs": [
    {
     "name": "stdout",
     "output_type": "stream",
     "text": [
      "loss: tensor(2284.8611, dtype=torch.float64, grad_fn=<MeanBackward0>)\n",
      "loss: tensor(757.6003, dtype=torch.float64, grad_fn=<MeanBackward0>)\n",
      "loss: tensor(550.0499, dtype=torch.float64, grad_fn=<MeanBackward0>)\n",
      "loss: tensor(514.3751, dtype=torch.float64, grad_fn=<MeanBackward0>)\n",
      "loss: tensor(476.1180, dtype=torch.float64, grad_fn=<MeanBackward0>)\n",
      "loss: tensor(469.2240, dtype=torch.float64, grad_fn=<MeanBackward0>)\n",
      "loss: tensor(467.1285, dtype=torch.float64, grad_fn=<MeanBackward0>)\n",
      "loss: tensor(466.0043, dtype=torch.float64, grad_fn=<MeanBackward0>)\n",
      "loss: tensor(465.1561, dtype=torch.float64, grad_fn=<MeanBackward0>)\n",
      "loss: tensor(464.5621, dtype=torch.float64, grad_fn=<MeanBackward0>)\n"
     ]
    }
   ],
   "source": [
    "#取出数据库中的最后一列的前50条记录来进行预测\n",
    "counts = rides['cnt'][:50]\n",
    "\n",
    "#创建变量x，它是1，2，……，50\n",
    "x = torch.tensor(np.arange(len(counts), dtype = float), requires_grad = True)\n",
    "\n",
    "# 将counts转成预测变量（标签）：y\n",
    "y = torch.tensor(np.array(counts, dtype = float), requires_grad = True)\n",
    "\n",
    "# 设置隐含层神经元的数量\n",
    "sz = 10\n",
    "\n",
    "# 初始化所有神经网络的权重（weights）和阈值（biases）\n",
    "weights = torch.randn((1, sz), dtype = torch.double, requires_grad = True) #1*10的输入到隐含层的权重矩阵\n",
    "biases = torch.randn(sz, dtype = torch.double, requires_grad = True) #尺度为10的隐含层节点偏置向量\n",
    "weights2 = torch.randn((sz, 1), dtype = torch.double, requires_grad = True) #10*1的隐含到输出层权重矩阵\n",
    "\n",
    "learning_rate = 0.001 #设置学习率\n",
    "losses = []\n",
    "\n",
    "# torch.view(参数a，-1)，则表示在参数b未知，参数a已知的情况下自动补齐列向量长度\n",
    "# 将 x 转换为(50,1)的维度，以便与维度为(1,10)的weights矩阵相乘\n",
    "x = x.view(50, -1)\n",
    "# 将 y 转换为(50,1)的维度\n",
    "y = y.view(50, -1)\n",
    "\n",
    "for i in range(100000):\n",
    "    # 从输入层到隐含层的计算\n",
    "    hidden = x * weights + biases\n",
    "    # 将sigmoid函数作用在隐含层的每一个神经元上\n",
    "    hidden = torch.sigmoid(hidden)\n",
    "    #print(hidden.size())\n",
    "    # 隐含层输出到输出层，计算得到最终预测\n",
    "    predictions = hidden.mm(weights2)#\n",
    "    #print(predictions.size())\n",
    "    # 通过与标签数据y比较，计算均方误差\n",
    "    loss = torch.mean((predictions - y) ** 2) \n",
    "    #print(loss.size())\n",
    "    losses.append(loss.data.numpy())\n",
    "    \n",
    "    # 每隔10000个周期打印一下损失函数数值\n",
    "    if i % 10000 == 0:\n",
    "        print('loss:', loss)\n",
    "        \n",
    "    #对损失函数进行梯度反传\n",
    "    loss.backward()\n",
    "    \n",
    "    #利用上一步计算中得到的weights，biases等梯度信息更新weights或biases中的data数值\n",
    "    weights.data.add_(- learning_rate * weights.grad.data)  \n",
    "    biases.data.add_(- learning_rate * biases.grad.data)\n",
    "    weights2.data.add_(- learning_rate * weights2.grad.data)\n",
    "    \n",
    "    # 清空所有变量的梯度值。\n",
    "    # 因为pytorch中backward一次梯度信息会自动累加到各个变量上，因此需要清空，否则下一次迭代会累加，造成很大的偏差\n",
    "    weights.grad.data.zero_()\n",
    "    biases.grad.data.zero_()\n",
    "    weights2.grad.data.zero_()"
   ]
  },
  {
   "cell_type": "code",
   "execution_count": 16,
   "metadata": {},
   "outputs": [
    {
     "data": {
      "image/png": "[encoded data removed]",
      "text/plain": [
       "<Figure size 432x288 with 1 Axes>"
      ]
     },
     "metadata": {
      "needs_background": "light"
     },
     "output_type": "display_data"
    }
   ],
   "source": [
    "# 打印误差曲线\n",
    "plt.plot(losses)\n",
    "plt.xlabel('Epoch')\n",
    "plt.ylabel('Loss')\n",
    "plt.show()"
   ]
  },
  {
   "cell_type": "code",
   "execution_count": null,
   "metadata": {},
   "outputs": [],
   "source": []
  }
 ],
 "metadata": {
  "kernelspec": {
   "display_name": "pytorch_learn",
   "language": "python",
   "name": "pytorch_learn"
  },
  "language_info": {
   "codemirror_mode": {
    "name": "ipython",
    "version": 3
   },
   "file_extension": ".py",
   "mimetype": "text/x-python",
   "name": "python",
   "nbconvert_exporter": "python",
   "pygments_lexer": "ipython3",
   "version": "3.6.12"
  }
 },
 "nbformat": 4,
 "nbformat_minor": 4
}
