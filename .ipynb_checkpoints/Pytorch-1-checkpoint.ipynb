{
 "cells": [
  {
   "cell_type": "markdown",
   "metadata": {},
   "source": [
    "# Pytorch 简介\n",
    "## 与python完美融合"
   ]
  },
  {
   "cell_type": "markdown",
   "metadata": {},
   "source": [
    "### 张量计算\n",
    "#### 定义张量"
   ]
  },
  {
   "cell_type": "code",
   "execution_count": null,
   "metadata": {},
   "outputs": [],
   "source": [
    "import torch\n",
    "x = torch.rand(5,3)"
   ]
  },
  {
   "cell_type": "code",
   "execution_count": null,
   "metadata": {},
   "outputs": [],
   "source": [
    "x"
   ]
  },
  {
   "cell_type": "code",
   "execution_count": 3,
   "metadata": {},
   "outputs": [],
   "source": [
    "y = torch.ones(5,3)"
   ]
  },
  {
   "cell_type": "code",
   "execution_count": 4,
   "metadata": {},
   "outputs": [
    {
     "data": {
      "text/plain": [
       "tensor([[1., 1., 1.],\n",
       "        [1., 1., 1.],\n",
       "        [1., 1., 1.],\n",
       "        [1., 1., 1.],\n",
       "        [1., 1., 1.]])"
      ]
     },
     "execution_count": 4,
     "metadata": {},
     "output_type": "execute_result"
    }
   ],
   "source": [
    "y"
   ]
  },
  {
   "cell_type": "code",
   "execution_count": 5,
   "metadata": {},
   "outputs": [],
   "source": [
    "z = torch.zeros(2,5,3)"
   ]
  },
  {
   "cell_type": "code",
   "execution_count": 6,
   "metadata": {},
   "outputs": [
    {
     "data": {
      "text/plain": [
       "tensor([[[0., 0., 0.],\n",
       "         [0., 0., 0.],\n",
       "         [0., 0., 0.],\n",
       "         [0., 0., 0.],\n",
       "         [0., 0., 0.]],\n",
       "\n",
       "        [[0., 0., 0.],\n",
       "         [0., 0., 0.],\n",
       "         [0., 0., 0.],\n",
       "         [0., 0., 0.],\n",
       "         [0., 0., 0.]]])"
      ]
     },
     "execution_count": 6,
     "metadata": {},
     "output_type": "execute_result"
    }
   ],
   "source": [
    "z"
   ]
  },
  {
   "cell_type": "markdown",
   "metadata": {},
   "source": [
    "#### 访问张量"
   ]
  },
  {
   "cell_type": "code",
   "execution_count": 7,
   "metadata": {},
   "outputs": [
    {
     "data": {
      "text/plain": [
       "tensor([[0., 0., 0.],\n",
       "        [0., 0., 0.],\n",
       "        [0., 0., 0.],\n",
       "        [0., 0., 0.],\n",
       "        [0., 0., 0.]])"
      ]
     },
     "execution_count": 7,
     "metadata": {},
     "output_type": "execute_result"
    }
   ],
   "source": [
    "z[0]"
   ]
  },
  {
   "cell_type": "code",
   "execution_count": 8,
   "metadata": {},
   "outputs": [
    {
     "data": {
      "text/plain": [
       "tensor(0.8193)"
      ]
     },
     "execution_count": 8,
     "metadata": {},
     "output_type": "execute_result"
    }
   ],
   "source": [
    "# 访问第2行第3列的数字\n",
    "x[1,2]"
   ]
  },
  {
   "cell_type": "code",
   "execution_count": 9,
   "metadata": {},
   "outputs": [
    {
     "data": {
      "text/plain": [
       "tensor([0.3636, 0.8193, 0.4029, 0.9252, 0.1710])"
      ]
     },
     "execution_count": 9,
     "metadata": {},
     "output_type": "execute_result"
    }
   ],
   "source": [
    "# 访问第三列\n",
    "x[:,2]"
   ]
  },
  {
   "cell_type": "code",
   "execution_count": 10,
   "metadata": {},
   "outputs": [],
   "source": [
    "z = x+y"
   ]
  },
  {
   "cell_type": "code",
   "execution_count": 11,
   "metadata": {},
   "outputs": [
    {
     "data": {
      "text/plain": [
       "tensor([[1.2280, 1.0436, 1.3636],\n",
       "        [1.7295, 1.7929, 1.8193],\n",
       "        [1.1175, 1.3289, 1.4029],\n",
       "        [1.1810, 1.0215, 1.9252],\n",
       "        [1.6081, 1.5553, 1.1710]])"
      ]
     },
     "execution_count": 11,
     "metadata": {},
     "output_type": "execute_result"
    }
   ],
   "source": [
    "z"
   ]
  },
  {
   "cell_type": "markdown",
   "metadata": {},
   "source": [
    "#### 张量运算"
   ]
  },
  {
   "cell_type": "code",
   "execution_count": 12,
   "metadata": {},
   "outputs": [],
   "source": [
    "# 矩阵相乘 mm命令\n",
    "q = x.mm(y.t())\n",
    "# y.t() 表示y的转置"
   ]
  },
  {
   "cell_type": "code",
   "execution_count": 13,
   "metadata": {},
   "outputs": [
    {
     "data": {
      "text/plain": [
       "tensor([[0.6351, 0.6351, 0.6351, 0.6351, 0.6351],\n",
       "        [2.3416, 2.3416, 2.3416, 2.3416, 2.3416],\n",
       "        [0.8494, 0.8494, 0.8494, 0.8494, 0.8494],\n",
       "        [1.1277, 1.1277, 1.1277, 1.1277, 1.1277],\n",
       "        [1.3344, 1.3344, 1.3344, 1.3344, 1.3344]])"
      ]
     },
     "execution_count": 13,
     "metadata": {},
     "output_type": "execute_result"
    }
   ],
   "source": [
    "q"
   ]
  },
  {
   "cell_type": "markdown",
   "metadata": {},
   "source": [
    "#### 张量与Numpy数组的转换"
   ]
  },
  {
   "cell_type": "code",
   "execution_count": 14,
   "metadata": {},
   "outputs": [],
   "source": [
    "import numpy as np"
   ]
  },
  {
   "cell_type": "code",
   "execution_count": 15,
   "metadata": {},
   "outputs": [],
   "source": [
    "x_tensor = torch.randn(2,3)\n",
    "y_numpy = np.random.randn(2,3)"
   ]
  },
  {
   "cell_type": "code",
   "execution_count": 16,
   "metadata": {},
   "outputs": [
    {
     "data": {
      "text/plain": [
       "tensor([[0.0240, 2.5430, 0.1996],\n",
       "        [0.0917, 0.3691, 0.7399]])"
      ]
     },
     "execution_count": 16,
     "metadata": {},
     "output_type": "execute_result"
    }
   ],
   "source": [
    "x_tensor"
   ]
  },
  {
   "cell_type": "code",
   "execution_count": 17,
   "metadata": {},
   "outputs": [
    {
     "data": {
      "text/plain": [
       "array([[ 0.40065709,  0.88195185,  1.38149757],\n",
       "       [-0.5575869 ,  0.34093719, -1.24423568]])"
      ]
     },
     "execution_count": 17,
     "metadata": {},
     "output_type": "execute_result"
    }
   ],
   "source": [
    "y_numpy"
   ]
  },
  {
   "cell_type": "code",
   "execution_count": 18,
   "metadata": {},
   "outputs": [],
   "source": [
    "x_numpy = x_tensor.numpy()"
   ]
  },
  {
   "cell_type": "code",
   "execution_count": 19,
   "metadata": {},
   "outputs": [],
   "source": [
    "y_tensor = torch.from_numpy(y_numpy)"
   ]
  },
  {
   "cell_type": "code",
   "execution_count": 20,
   "metadata": {},
   "outputs": [],
   "source": [
    "# torch.FloatTensor(a) 将a转换为float类型\n",
    "# torch.LongTensor(a) 将a转换为整数类型"
   ]
  },
  {
   "cell_type": "markdown",
   "metadata": {},
   "source": [
    "#### GPU上的张量运算"
   ]
  },
  {
   "cell_type": "code",
   "execution_count": 21,
   "metadata": {},
   "outputs": [
    {
     "name": "stdout",
     "output_type": "stream",
     "text": [
      "tensor([[1.2280, 1.0436, 1.3636],\n",
      "        [1.7295, 1.7929, 1.8193],\n",
      "        [1.1175, 1.3289, 1.4029],\n",
      "        [1.1810, 1.0215, 1.9252],\n",
      "        [1.6081, 1.5553, 1.1710]], device='cuda:0')\n"
     ]
    }
   ],
   "source": [
    "x = x.cuda()\n",
    "y = y.cuda()\n",
    "print(x+y)"
   ]
  },
  {
   "cell_type": "code",
   "execution_count": 22,
   "metadata": {},
   "outputs": [],
   "source": [
    "x = x.cpu()"
   ]
  },
  {
   "cell_type": "markdown",
   "metadata": {},
   "source": [
    "### 动态计算图"
   ]
  },
  {
   "cell_type": "code",
   "execution_count": 23,
   "metadata": {},
   "outputs": [],
   "source": [
    "# 普通的张量同时也是自动微分变量\n",
    "x = torch.ones((2,2),requires_grad = True)"
   ]
  },
  {
   "cell_type": "code",
   "execution_count": 24,
   "metadata": {},
   "outputs": [],
   "source": [
    "y = x+2"
   ]
  },
  {
   "cell_type": "code",
   "execution_count": 25,
   "metadata": {},
   "outputs": [
    {
     "data": {
      "text/plain": [
       "tensor([[1., 1.],\n",
       "        [1., 1.]], requires_grad=True)"
      ]
     },
     "execution_count": 25,
     "metadata": {},
     "output_type": "execute_result"
    }
   ],
   "source": [
    "x"
   ]
  },
  {
   "cell_type": "code",
   "execution_count": 26,
   "metadata": {},
   "outputs": [
    {
     "data": {
      "text/plain": [
       "tensor([[3., 3.],\n",
       "        [3., 3.]])"
      ]
     },
     "execution_count": 26,
     "metadata": {},
     "output_type": "execute_result"
    }
   ],
   "source": [
    "y.data"
   ]
  },
  {
   "cell_type": "code",
   "execution_count": 27,
   "metadata": {},
   "outputs": [
    {
     "data": {
      "text/plain": [
       "<AddBackward0 at 0x28197dda2b0>"
      ]
     },
     "execution_count": 27,
     "metadata": {},
     "output_type": "execute_result"
    }
   ],
   "source": [
    "y.grad_fn"
   ]
  },
  {
   "cell_type": "code",
   "execution_count": 28,
   "metadata": {},
   "outputs": [],
   "source": [
    "z = y*y"
   ]
  },
  {
   "cell_type": "code",
   "execution_count": 29,
   "metadata": {},
   "outputs": [
    {
     "data": {
      "text/plain": [
       "<MulBackward0 at 0x28197dda390>"
      ]
     },
     "execution_count": 29,
     "metadata": {},
     "output_type": "execute_result"
    }
   ],
   "source": [
    "z.grad_fn"
   ]
  },
  {
   "cell_type": "code",
   "execution_count": 30,
   "metadata": {},
   "outputs": [],
   "source": [
    "t = torch.mean(z)"
   ]
  },
  {
   "cell_type": "code",
   "execution_count": 31,
   "metadata": {},
   "outputs": [
    {
     "data": {
      "text/plain": [
       "<MeanBackward0 at 0x28197dda4e0>"
      ]
     },
     "execution_count": 31,
     "metadata": {},
     "output_type": "execute_result"
    }
   ],
   "source": [
    "t.grad_fn"
   ]
  },
  {
   "cell_type": "code",
   "execution_count": 32,
   "metadata": {},
   "outputs": [],
   "source": [
    "t.backward()"
   ]
  },
  {
   "cell_type": "code",
   "execution_count": 33,
   "metadata": {},
   "outputs": [
    {
     "name": "stdout",
     "output_type": "stream",
     "text": [
      "tensor([[1.5000, 1.5000],\n",
      "        [1.5000, 1.5000]])\n"
     ]
    }
   ],
   "source": [
    "#print(z.grad)\n",
    "#print(y.grad)\n",
    "print(x.grad)"
   ]
  },
  {
   "cell_type": "code",
   "execution_count": 34,
   "metadata": {},
   "outputs": [],
   "source": [
    "### Pytorch实例：预测房价\n",
    "\n",
    "# 构造0-100之间的均匀数字作为时间变量x\n",
    "x = torch.linspace(0,100).type(torch.FloatTensor)"
   ]
  },
  {
   "cell_type": "code",
   "execution_count": 35,
   "metadata": {},
   "outputs": [],
   "source": [
    "rand = torch.randn(100)*10"
   ]
  },
  {
   "cell_type": "code",
   "execution_count": 36,
   "metadata": {},
   "outputs": [],
   "source": [
    "y = x + rand"
   ]
  },
  {
   "cell_type": "code",
   "execution_count": 144,
   "metadata": {},
   "outputs": [],
   "source": [
    "x_train = x[:-10]\n",
    "x_test = x[-10:]\n",
    "y_train = y[:-10]\n",
    "y_test = y[-10:]"
   ]
  },
  {
   "cell_type": "code",
   "execution_count": 176,
   "metadata": {},
   "outputs": [],
   "source": [
    "%matplotlib inline\n",
    "#import matplotlib.pyplot as plt\n",
    "\n",
    "import matplotlib.pyplot as plt\n",
    "plt.style.use('fivethirtyeight')\n"
   ]
  },
  {
   "cell_type": "code",
   "execution_count": 178,
   "metadata": {},
   "outputs": [
    {
     "data": {
      "image/png": "[encoded data removed]",
      "text/plain": [
       "<Figure size 1152x576 with 1 Axes>"
      ]
     },
     "metadata": {},
     "output_type": "display_data"
    }
   ],
   "source": [
    "\n",
    "plt.figure(figsize = (16,8))\n",
    "\n",
    "plt.xlabel('X')\n",
    "plt.ylabel('Y')\n",
    "\n",
    "plt.plot(x_train.numpy(),y_train.numpy(),'o')\n",
    "plt.show()"
   ]
  },
  {
   "cell_type": "code",
   "execution_count": null,
   "metadata": {},
   "outputs": [],
   "source": [
    "# 使用直线进行拟合\n",
    "# 损失函数定义为平均损失函数\n",
    "# 使用梯度下降法进行迭代计算"
   ]
  },
  {
   "cell_type": "code",
   "execution_count": 186,
   "metadata": {},
   "outputs": [],
   "source": [
    "a = torch.rand((1),requires_grad = True)\n",
    "b = torch.rand((1),requires_grad = True)"
   ]
  },
  {
   "cell_type": "code",
   "execution_count": 187,
   "metadata": {},
   "outputs": [],
   "source": [
    "learning_rate = 0.0001"
   ]
  },
  {
   "cell_type": "code",
   "execution_count": 191,
   "metadata": {
    "collapsed": true,
    "jupyter": {
     "outputs_hidden": true
    }
   },
   "outputs": [
    {
     "name": "stdout",
     "output_type": "stream",
     "text": [
      "loss: tensor(91.8352, grad_fn=<MeanBackward0>)\n",
      "loss: tensor(91.8352, grad_fn=<MeanBackward0>)\n",
      "loss: tensor(91.8352, grad_fn=<MeanBackward0>)\n",
      "loss: tensor(91.8352, grad_fn=<MeanBackward0>)\n",
      "loss: tensor(91.8351, grad_fn=<MeanBackward0>)\n",
      "loss: tensor(91.8351, grad_fn=<MeanBackward0>)\n",
      "loss: tensor(91.8351, grad_fn=<MeanBackward0>)\n",
      "loss: tensor(91.8351, grad_fn=<MeanBackward0>)\n",
      "loss: tensor(91.8351, grad_fn=<MeanBackward0>)\n",
      "loss: tensor(91.8350, grad_fn=<MeanBackward0>)\n",
      "loss: tensor(91.8350, grad_fn=<MeanBackward0>)\n",
      "loss: tensor(91.8350, grad_fn=<MeanBackward0>)\n",
      "loss: tensor(91.8350, grad_fn=<MeanBackward0>)\n",
      "loss: tensor(91.8350, grad_fn=<MeanBackward0>)\n",
      "loss: tensor(91.8350, grad_fn=<MeanBackward0>)\n",
      "loss: tensor(91.8350, grad_fn=<MeanBackward0>)\n",
      "loss: tensor(91.8349, grad_fn=<MeanBackward0>)\n",
      "loss: tensor(91.8349, grad_fn=<MeanBackward0>)\n",
      "loss: tensor(91.8349, grad_fn=<MeanBackward0>)\n",
      "loss: tensor(91.8349, grad_fn=<MeanBackward0>)\n",
      "loss: tensor(91.8349, grad_fn=<MeanBackward0>)\n",
      "loss: tensor(91.8349, grad_fn=<MeanBackward0>)\n",
      "loss: tensor(91.8348, grad_fn=<MeanBackward0>)\n",
      "loss: tensor(91.8348, grad_fn=<MeanBackward0>)\n",
      "loss: tensor(91.8348, grad_fn=<MeanBackward0>)\n",
      "loss: tensor(91.8348, grad_fn=<MeanBackward0>)\n",
      "loss: tensor(91.8347, grad_fn=<MeanBackward0>)\n",
      "loss: tensor(91.8347, grad_fn=<MeanBackward0>)\n",
      "loss: tensor(91.8347, grad_fn=<MeanBackward0>)\n",
      "loss: tensor(91.8347, grad_fn=<MeanBackward0>)\n",
      "loss: tensor(91.8347, grad_fn=<MeanBackward0>)\n",
      "loss: tensor(91.8347, grad_fn=<MeanBackward0>)\n",
      "loss: tensor(91.8346, grad_fn=<MeanBackward0>)\n",
      "loss: tensor(91.8346, grad_fn=<MeanBackward0>)\n",
      "loss: tensor(91.8346, grad_fn=<MeanBackward0>)\n",
      "loss: tensor(91.8346, grad_fn=<MeanBackward0>)\n",
      "loss: tensor(91.8346, grad_fn=<MeanBackward0>)\n",
      "loss: tensor(91.8345, grad_fn=<MeanBackward0>)\n",
      "loss: tensor(91.8345, grad_fn=<MeanBackward0>)\n",
      "loss: tensor(91.8345, grad_fn=<MeanBackward0>)\n",
      "loss: tensor(91.8345, grad_fn=<MeanBackward0>)\n",
      "loss: tensor(91.8345, grad_fn=<MeanBackward0>)\n",
      "loss: tensor(91.8345, grad_fn=<MeanBackward0>)\n",
      "loss: tensor(91.8344, grad_fn=<MeanBackward0>)\n",
      "loss: tensor(91.8344, grad_fn=<MeanBackward0>)\n",
      "loss: tensor(91.8344, grad_fn=<MeanBackward0>)\n",
      "loss: tensor(91.8344, grad_fn=<MeanBackward0>)\n",
      "loss: tensor(91.8344, grad_fn=<MeanBackward0>)\n",
      "loss: tensor(91.8344, grad_fn=<MeanBackward0>)\n",
      "loss: tensor(91.8343, grad_fn=<MeanBackward0>)\n",
      "loss: tensor(91.8343, grad_fn=<MeanBackward0>)\n",
      "loss: tensor(91.8343, grad_fn=<MeanBackward0>)\n",
      "loss: tensor(91.8343, grad_fn=<MeanBackward0>)\n",
      "loss: tensor(91.8343, grad_fn=<MeanBackward0>)\n",
      "loss: tensor(91.8343, grad_fn=<MeanBackward0>)\n",
      "loss: tensor(91.8342, grad_fn=<MeanBackward0>)\n",
      "loss: tensor(91.8342, grad_fn=<MeanBackward0>)\n",
      "loss: tensor(91.8342, grad_fn=<MeanBackward0>)\n",
      "loss: tensor(91.8342, grad_fn=<MeanBackward0>)\n",
      "loss: tensor(91.8342, grad_fn=<MeanBackward0>)\n",
      "loss: tensor(91.8342, grad_fn=<MeanBackward0>)\n",
      "loss: tensor(91.8341, grad_fn=<MeanBackward0>)\n",
      "loss: tensor(91.8341, grad_fn=<MeanBackward0>)\n",
      "loss: tensor(91.8341, grad_fn=<MeanBackward0>)\n",
      "loss: tensor(91.8341, grad_fn=<MeanBackward0>)\n",
      "loss: tensor(91.8341, grad_fn=<MeanBackward0>)\n",
      "loss: tensor(91.8341, grad_fn=<MeanBackward0>)\n",
      "loss: tensor(91.8340, grad_fn=<MeanBackward0>)\n",
      "loss: tensor(91.8340, grad_fn=<MeanBackward0>)\n",
      "loss: tensor(91.8340, grad_fn=<MeanBackward0>)\n",
      "loss: tensor(91.8340, grad_fn=<MeanBackward0>)\n",
      "loss: tensor(91.8340, grad_fn=<MeanBackward0>)\n",
      "loss: tensor(91.8340, grad_fn=<MeanBackward0>)\n",
      "loss: tensor(91.8339, grad_fn=<MeanBackward0>)\n",
      "loss: tensor(91.8339, grad_fn=<MeanBackward0>)\n",
      "loss: tensor(91.8339, grad_fn=<MeanBackward0>)\n",
      "loss: tensor(91.8339, grad_fn=<MeanBackward0>)\n",
      "loss: tensor(91.8339, grad_fn=<MeanBackward0>)\n",
      "loss: tensor(91.8338, grad_fn=<MeanBackward0>)\n",
      "loss: tensor(91.8339, grad_fn=<MeanBackward0>)\n",
      "loss: tensor(91.8338, grad_fn=<MeanBackward0>)\n",
      "loss: tensor(91.8338, grad_fn=<MeanBackward0>)\n",
      "loss: tensor(91.8338, grad_fn=<MeanBackward0>)\n",
      "loss: tensor(91.8338, grad_fn=<MeanBackward0>)\n",
      "loss: tensor(91.8337, grad_fn=<MeanBackward0>)\n",
      "loss: tensor(91.8337, grad_fn=<MeanBackward0>)\n",
      "loss: tensor(91.8337, grad_fn=<MeanBackward0>)\n",
      "loss: tensor(91.8337, grad_fn=<MeanBackward0>)\n",
      "loss: tensor(91.8337, grad_fn=<MeanBackward0>)\n",
      "loss: tensor(91.8336, grad_fn=<MeanBackward0>)\n",
      "loss: tensor(91.8337, grad_fn=<MeanBackward0>)\n",
      "loss: tensor(91.8336, grad_fn=<MeanBackward0>)\n",
      "loss: tensor(91.8336, grad_fn=<MeanBackward0>)\n",
      "loss: tensor(91.8336, grad_fn=<MeanBackward0>)\n",
      "loss: tensor(91.8335, grad_fn=<MeanBackward0>)\n",
      "loss: tensor(91.8335, grad_fn=<MeanBackward0>)\n",
      "loss: tensor(91.8335, grad_fn=<MeanBackward0>)\n",
      "loss: tensor(91.8335, grad_fn=<MeanBackward0>)\n",
      "loss: tensor(91.8335, grad_fn=<MeanBackward0>)\n",
      "loss: tensor(91.8335, grad_fn=<MeanBackward0>)\n",
      "loss: tensor(91.8335, grad_fn=<MeanBackward0>)\n",
      "loss: tensor(91.8335, grad_fn=<MeanBackward0>)\n",
      "loss: tensor(91.8334, grad_fn=<MeanBackward0>)\n",
      "loss: tensor(91.8334, grad_fn=<MeanBackward0>)\n",
      "loss: tensor(91.8334, grad_fn=<MeanBackward0>)\n",
      "loss: tensor(91.8334, grad_fn=<MeanBackward0>)\n",
      "loss: tensor(91.8334, grad_fn=<MeanBackward0>)\n",
      "loss: tensor(91.8333, grad_fn=<MeanBackward0>)\n",
      "loss: tensor(91.8333, grad_fn=<MeanBackward0>)\n",
      "loss: tensor(91.8333, grad_fn=<MeanBackward0>)\n",
      "loss: tensor(91.8333, grad_fn=<MeanBackward0>)\n",
      "loss: tensor(91.8333, grad_fn=<MeanBackward0>)\n",
      "loss: tensor(91.8333, grad_fn=<MeanBackward0>)\n",
      "loss: tensor(91.8332, grad_fn=<MeanBackward0>)\n",
      "loss: tensor(91.8332, grad_fn=<MeanBackward0>)\n",
      "loss: tensor(91.8332, grad_fn=<MeanBackward0>)\n",
      "loss: tensor(91.8332, grad_fn=<MeanBackward0>)\n",
      "loss: tensor(91.8332, grad_fn=<MeanBackward0>)\n",
      "loss: tensor(91.8331, grad_fn=<MeanBackward0>)\n",
      "loss: tensor(91.8331, grad_fn=<MeanBackward0>)\n",
      "loss: tensor(91.8331, grad_fn=<MeanBackward0>)\n",
      "loss: tensor(91.8331, grad_fn=<MeanBackward0>)\n",
      "loss: tensor(91.8331, grad_fn=<MeanBackward0>)\n",
      "loss: tensor(91.8331, grad_fn=<MeanBackward0>)\n",
      "loss: tensor(91.8331, grad_fn=<MeanBackward0>)\n",
      "loss: tensor(91.8330, grad_fn=<MeanBackward0>)\n",
      "loss: tensor(91.8330, grad_fn=<MeanBackward0>)\n",
      "loss: tensor(91.8330, grad_fn=<MeanBackward0>)\n",
      "loss: tensor(91.8330, grad_fn=<MeanBackward0>)\n",
      "loss: tensor(91.8330, grad_fn=<MeanBackward0>)\n",
      "loss: tensor(91.8330, grad_fn=<MeanBackward0>)\n",
      "loss: tensor(91.8329, grad_fn=<MeanBackward0>)\n",
      "loss: tensor(91.8329, grad_fn=<MeanBackward0>)\n",
      "loss: tensor(91.8329, grad_fn=<MeanBackward0>)\n",
      "loss: tensor(91.8329, grad_fn=<MeanBackward0>)\n",
      "loss: tensor(91.8329, grad_fn=<MeanBackward0>)\n",
      "loss: tensor(91.8328, grad_fn=<MeanBackward0>)\n",
      "loss: tensor(91.8328, grad_fn=<MeanBackward0>)\n",
      "loss: tensor(91.8328, grad_fn=<MeanBackward0>)\n",
      "loss: tensor(91.8328, grad_fn=<MeanBackward0>)\n",
      "loss: tensor(91.8328, grad_fn=<MeanBackward0>)\n",
      "loss: tensor(91.8328, grad_fn=<MeanBackward0>)\n",
      "loss: tensor(91.8327, grad_fn=<MeanBackward0>)\n",
      "loss: tensor(91.8327, grad_fn=<MeanBackward0>)\n",
      "loss: tensor(91.8327, grad_fn=<MeanBackward0>)\n",
      "loss: tensor(91.8327, grad_fn=<MeanBackward0>)\n",
      "loss: tensor(91.8327, grad_fn=<MeanBackward0>)\n",
      "loss: tensor(91.8326, grad_fn=<MeanBackward0>)\n",
      "loss: tensor(91.8326, grad_fn=<MeanBackward0>)\n",
      "loss: tensor(91.8326, grad_fn=<MeanBackward0>)\n",
      "loss: tensor(91.8326, grad_fn=<MeanBackward0>)\n",
      "loss: tensor(91.8326, grad_fn=<MeanBackward0>)\n",
      "loss: tensor(91.8326, grad_fn=<MeanBackward0>)\n",
      "loss: tensor(91.8326, grad_fn=<MeanBackward0>)\n",
      "loss: tensor(91.8325, grad_fn=<MeanBackward0>)\n",
      "loss: tensor(91.8325, grad_fn=<MeanBackward0>)\n",
      "loss: tensor(91.8325, grad_fn=<MeanBackward0>)\n",
      "loss: tensor(91.8325, grad_fn=<MeanBackward0>)\n",
      "loss: tensor(91.8325, grad_fn=<MeanBackward0>)\n",
      "loss: tensor(91.8324, grad_fn=<MeanBackward0>)\n",
      "loss: tensor(91.8324, grad_fn=<MeanBackward0>)\n",
      "loss: tensor(91.8324, grad_fn=<MeanBackward0>)\n",
      "loss: tensor(91.8324, grad_fn=<MeanBackward0>)\n",
      "loss: tensor(91.8324, grad_fn=<MeanBackward0>)\n",
      "loss: tensor(91.8324, grad_fn=<MeanBackward0>)\n",
      "loss: tensor(91.8323, grad_fn=<MeanBackward0>)\n",
      "loss: tensor(91.8323, grad_fn=<MeanBackward0>)\n",
      "loss: tensor(91.8323, grad_fn=<MeanBackward0>)\n",
      "loss: tensor(91.8323, grad_fn=<MeanBackward0>)\n",
      "loss: tensor(91.8323, grad_fn=<MeanBackward0>)\n",
      "loss: tensor(91.8322, grad_fn=<MeanBackward0>)\n",
      "loss: tensor(91.8322, grad_fn=<MeanBackward0>)\n",
      "loss: tensor(91.8322, grad_fn=<MeanBackward0>)\n",
      "loss: tensor(91.8322, grad_fn=<MeanBackward0>)\n",
      "loss: tensor(91.8322, grad_fn=<MeanBackward0>)\n",
      "loss: tensor(91.8322, grad_fn=<MeanBackward0>)\n",
      "loss: tensor(91.8322, grad_fn=<MeanBackward0>)\n",
      "loss: tensor(91.8321, grad_fn=<MeanBackward0>)\n",
      "loss: tensor(91.8321, grad_fn=<MeanBackward0>)\n",
      "loss: tensor(91.8321, grad_fn=<MeanBackward0>)\n",
      "loss: tensor(91.8321, grad_fn=<MeanBackward0>)\n",
      "loss: tensor(91.8321, grad_fn=<MeanBackward0>)\n",
      "loss: tensor(91.8320, grad_fn=<MeanBackward0>)\n",
      "loss: tensor(91.8320, grad_fn=<MeanBackward0>)\n",
      "loss: tensor(91.8320, grad_fn=<MeanBackward0>)\n",
      "loss: tensor(91.8320, grad_fn=<MeanBackward0>)\n",
      "loss: tensor(91.8320, grad_fn=<MeanBackward0>)\n",
      "loss: tensor(91.8320, grad_fn=<MeanBackward0>)\n",
      "loss: tensor(91.8320, grad_fn=<MeanBackward0>)\n",
      "loss: tensor(91.8319, grad_fn=<MeanBackward0>)\n",
      "loss: tensor(91.8319, grad_fn=<MeanBackward0>)\n",
      "loss: tensor(91.8319, grad_fn=<MeanBackward0>)\n",
      "loss: tensor(91.8319, grad_fn=<MeanBackward0>)\n",
      "loss: tensor(91.8319, grad_fn=<MeanBackward0>)\n",
      "loss: tensor(91.8318, grad_fn=<MeanBackward0>)\n",
      "loss: tensor(91.8318, grad_fn=<MeanBackward0>)\n",
      "loss: tensor(91.8318, grad_fn=<MeanBackward0>)\n",
      "loss: tensor(91.8318, grad_fn=<MeanBackward0>)\n",
      "loss: tensor(91.8318, grad_fn=<MeanBackward0>)\n",
      "loss: tensor(91.8318, grad_fn=<MeanBackward0>)\n",
      "loss: tensor(91.8317, grad_fn=<MeanBackward0>)\n",
      "loss: tensor(91.8317, grad_fn=<MeanBackward0>)\n",
      "loss: tensor(91.8317, grad_fn=<MeanBackward0>)\n",
      "loss: tensor(91.8317, grad_fn=<MeanBackward0>)\n",
      "loss: tensor(91.8317, grad_fn=<MeanBackward0>)\n",
      "loss: tensor(91.8316, grad_fn=<MeanBackward0>)\n",
      "loss: tensor(91.8316, grad_fn=<MeanBackward0>)\n",
      "loss: tensor(91.8316, grad_fn=<MeanBackward0>)\n",
      "loss: tensor(91.8316, grad_fn=<MeanBackward0>)\n",
      "loss: tensor(91.8316, grad_fn=<MeanBackward0>)\n",
      "loss: tensor(91.8315, grad_fn=<MeanBackward0>)\n",
      "loss: tensor(91.8316, grad_fn=<MeanBackward0>)\n",
      "loss: tensor(91.8315, grad_fn=<MeanBackward0>)\n",
      "loss: tensor(91.8315, grad_fn=<MeanBackward0>)\n",
      "loss: tensor(91.8315, grad_fn=<MeanBackward0>)\n",
      "loss: tensor(91.8315, grad_fn=<MeanBackward0>)\n",
      "loss: tensor(91.8315, grad_fn=<MeanBackward0>)\n",
      "loss: tensor(91.8314, grad_fn=<MeanBackward0>)\n",
      "loss: tensor(91.8314, grad_fn=<MeanBackward0>)\n",
      "loss: tensor(91.8314, grad_fn=<MeanBackward0>)\n",
      "loss: tensor(91.8314, grad_fn=<MeanBackward0>)\n",
      "loss: tensor(91.8314, grad_fn=<MeanBackward0>)\n",
      "loss: tensor(91.8314, grad_fn=<MeanBackward0>)\n",
      "loss: tensor(91.8314, grad_fn=<MeanBackward0>)\n",
      "loss: tensor(91.8313, grad_fn=<MeanBackward0>)\n",
      "loss: tensor(91.8313, grad_fn=<MeanBackward0>)\n",
      "loss: tensor(91.8313, grad_fn=<MeanBackward0>)\n",
      "loss: tensor(91.8313, grad_fn=<MeanBackward0>)\n",
      "loss: tensor(91.8313, grad_fn=<MeanBackward0>)\n",
      "loss: tensor(91.8312, grad_fn=<MeanBackward0>)\n",
      "loss: tensor(91.8312, grad_fn=<MeanBackward0>)\n",
      "loss: tensor(91.8312, grad_fn=<MeanBackward0>)\n",
      "loss: tensor(91.8312, grad_fn=<MeanBackward0>)\n",
      "loss: tensor(91.8312, grad_fn=<MeanBackward0>)\n",
      "loss: tensor(91.8312, grad_fn=<MeanBackward0>)\n",
      "loss: tensor(91.8311, grad_fn=<MeanBackward0>)\n",
      "loss: tensor(91.8311, grad_fn=<MeanBackward0>)\n",
      "loss: tensor(91.8311, grad_fn=<MeanBackward0>)\n",
      "loss: tensor(91.8311, grad_fn=<MeanBackward0>)\n",
      "loss: tensor(91.8311, grad_fn=<MeanBackward0>)\n",
      "loss: tensor(91.8311, grad_fn=<MeanBackward0>)\n",
      "loss: tensor(91.8310, grad_fn=<MeanBackward0>)\n",
      "loss: tensor(91.8310, grad_fn=<MeanBackward0>)\n",
      "loss: tensor(91.8310, grad_fn=<MeanBackward0>)\n",
      "loss: tensor(91.8310, grad_fn=<MeanBackward0>)\n",
      "loss: tensor(91.8310, grad_fn=<MeanBackward0>)\n",
      "loss: tensor(91.8309, grad_fn=<MeanBackward0>)\n",
      "loss: tensor(91.8309, grad_fn=<MeanBackward0>)\n",
      "loss: tensor(91.8309, grad_fn=<MeanBackward0>)\n",
      "loss: tensor(91.8309, grad_fn=<MeanBackward0>)\n",
      "loss: tensor(91.8309, grad_fn=<MeanBackward0>)\n",
      "loss: tensor(91.8309, grad_fn=<MeanBackward0>)\n",
      "loss: tensor(91.8308, grad_fn=<MeanBackward0>)\n",
      "loss: tensor(91.8308, grad_fn=<MeanBackward0>)\n",
      "loss: tensor(91.8308, grad_fn=<MeanBackward0>)\n",
      "loss: tensor(91.8308, grad_fn=<MeanBackward0>)\n",
      "loss: tensor(91.8308, grad_fn=<MeanBackward0>)\n",
      "loss: tensor(91.8308, grad_fn=<MeanBackward0>)\n",
      "loss: tensor(91.8307, grad_fn=<MeanBackward0>)\n",
      "loss: tensor(91.8307, grad_fn=<MeanBackward0>)\n",
      "loss: tensor(91.8307, grad_fn=<MeanBackward0>)\n",
      "loss: tensor(91.8307, grad_fn=<MeanBackward0>)\n",
      "loss: tensor(91.8307, grad_fn=<MeanBackward0>)\n",
      "loss: tensor(91.8307, grad_fn=<MeanBackward0>)\n",
      "loss: tensor(91.8306, grad_fn=<MeanBackward0>)\n",
      "loss: tensor(91.8306, grad_fn=<MeanBackward0>)\n",
      "loss: tensor(91.8306, grad_fn=<MeanBackward0>)\n",
      "loss: tensor(91.8306, grad_fn=<MeanBackward0>)\n",
      "loss: tensor(91.8306, grad_fn=<MeanBackward0>)\n",
      "loss: tensor(91.8305, grad_fn=<MeanBackward0>)\n",
      "loss: tensor(91.8305, grad_fn=<MeanBackward0>)\n",
      "loss: tensor(91.8305, grad_fn=<MeanBackward0>)\n",
      "loss: tensor(91.8305, grad_fn=<MeanBackward0>)\n",
      "loss: tensor(91.8305, grad_fn=<MeanBackward0>)\n",
      "loss: tensor(91.8305, grad_fn=<MeanBackward0>)\n",
      "loss: tensor(91.8304, grad_fn=<MeanBackward0>)\n",
      "loss: tensor(91.8304, grad_fn=<MeanBackward0>)\n",
      "loss: tensor(91.8304, grad_fn=<MeanBackward0>)\n",
      "loss: tensor(91.8304, grad_fn=<MeanBackward0>)\n",
      "loss: tensor(91.8304, grad_fn=<MeanBackward0>)\n",
      "loss: tensor(91.8304, grad_fn=<MeanBackward0>)\n",
      "loss: tensor(91.8303, grad_fn=<MeanBackward0>)\n",
      "loss: tensor(91.8304, grad_fn=<MeanBackward0>)\n",
      "loss: tensor(91.8303, grad_fn=<MeanBackward0>)\n",
      "loss: tensor(91.8303, grad_fn=<MeanBackward0>)\n",
      "loss: tensor(91.8303, grad_fn=<MeanBackward0>)\n",
      "loss: tensor(91.8303, grad_fn=<MeanBackward0>)\n",
      "loss: tensor(91.8303, grad_fn=<MeanBackward0>)\n",
      "loss: tensor(91.8302, grad_fn=<MeanBackward0>)\n",
      "loss: tensor(91.8302, grad_fn=<MeanBackward0>)\n",
      "loss: tensor(91.8302, grad_fn=<MeanBackward0>)\n",
      "loss: tensor(91.8302, grad_fn=<MeanBackward0>)\n",
      "loss: tensor(91.8302, grad_fn=<MeanBackward0>)\n",
      "loss: tensor(91.8302, grad_fn=<MeanBackward0>)\n",
      "loss: tensor(91.8301, grad_fn=<MeanBackward0>)\n",
      "loss: tensor(91.8301, grad_fn=<MeanBackward0>)\n",
      "loss: tensor(91.8301, grad_fn=<MeanBackward0>)\n",
      "loss: tensor(91.8301, grad_fn=<MeanBackward0>)\n",
      "loss: tensor(91.8301, grad_fn=<MeanBackward0>)\n",
      "loss: tensor(91.8301, grad_fn=<MeanBackward0>)\n",
      "loss: tensor(91.8300, grad_fn=<MeanBackward0>)\n",
      "loss: tensor(91.8300, grad_fn=<MeanBackward0>)\n",
      "loss: tensor(91.8300, grad_fn=<MeanBackward0>)\n",
      "loss: tensor(91.8300, grad_fn=<MeanBackward0>)\n",
      "loss: tensor(91.8300, grad_fn=<MeanBackward0>)\n",
      "loss: tensor(91.8299, grad_fn=<MeanBackward0>)\n",
      "loss: tensor(91.8299, grad_fn=<MeanBackward0>)\n",
      "loss: tensor(91.8299, grad_fn=<MeanBackward0>)\n",
      "loss: tensor(91.8299, grad_fn=<MeanBackward0>)\n",
      "loss: tensor(91.8299, grad_fn=<MeanBackward0>)\n",
      "loss: tensor(91.8298, grad_fn=<MeanBackward0>)\n",
      "loss: tensor(91.8298, grad_fn=<MeanBackward0>)\n",
      "loss: tensor(91.8298, grad_fn=<MeanBackward0>)\n",
      "loss: tensor(91.8298, grad_fn=<MeanBackward0>)\n",
      "loss: tensor(91.8298, grad_fn=<MeanBackward0>)\n",
      "loss: tensor(91.8298, grad_fn=<MeanBackward0>)\n",
      "loss: tensor(91.8298, grad_fn=<MeanBackward0>)\n",
      "loss: tensor(91.8297, grad_fn=<MeanBackward0>)\n",
      "loss: tensor(91.8297, grad_fn=<MeanBackward0>)\n",
      "loss: tensor(91.8297, grad_fn=<MeanBackward0>)\n",
      "loss: tensor(91.8297, grad_fn=<MeanBackward0>)\n",
      "loss: tensor(91.8297, grad_fn=<MeanBackward0>)\n",
      "loss: tensor(91.8297, grad_fn=<MeanBackward0>)\n",
      "loss: tensor(91.8297, grad_fn=<MeanBackward0>)\n",
      "loss: tensor(91.8296, grad_fn=<MeanBackward0>)\n",
      "loss: tensor(91.8296, grad_fn=<MeanBackward0>)\n",
      "loss: tensor(91.8296, grad_fn=<MeanBackward0>)\n",
      "loss: tensor(91.8296, grad_fn=<MeanBackward0>)\n",
      "loss: tensor(91.8295, grad_fn=<MeanBackward0>)\n",
      "loss: tensor(91.8295, grad_fn=<MeanBackward0>)\n",
      "loss: tensor(91.8295, grad_fn=<MeanBackward0>)\n",
      "loss: tensor(91.8295, grad_fn=<MeanBackward0>)\n",
      "loss: tensor(91.8295, grad_fn=<MeanBackward0>)\n",
      "loss: tensor(91.8295, grad_fn=<MeanBackward0>)\n",
      "loss: tensor(91.8295, grad_fn=<MeanBackward0>)\n",
      "loss: tensor(91.8294, grad_fn=<MeanBackward0>)\n",
      "loss: tensor(91.8294, grad_fn=<MeanBackward0>)\n",
      "loss: tensor(91.8294, grad_fn=<MeanBackward0>)\n",
      "loss: tensor(91.8294, grad_fn=<MeanBackward0>)\n",
      "loss: tensor(91.8294, grad_fn=<MeanBackward0>)\n",
      "loss: tensor(91.8294, grad_fn=<MeanBackward0>)\n",
      "loss: tensor(91.8293, grad_fn=<MeanBackward0>)\n",
      "loss: tensor(91.8293, grad_fn=<MeanBackward0>)\n",
      "loss: tensor(91.8293, grad_fn=<MeanBackward0>)\n",
      "loss: tensor(91.8293, grad_fn=<MeanBackward0>)\n",
      "loss: tensor(91.8293, grad_fn=<MeanBackward0>)\n",
      "loss: tensor(91.8293, grad_fn=<MeanBackward0>)\n",
      "loss: tensor(91.8292, grad_fn=<MeanBackward0>)\n",
      "loss: tensor(91.8292, grad_fn=<MeanBackward0>)\n",
      "loss: tensor(91.8292, grad_fn=<MeanBackward0>)\n",
      "loss: tensor(91.8292, grad_fn=<MeanBackward0>)\n",
      "loss: tensor(91.8292, grad_fn=<MeanBackward0>)\n",
      "loss: tensor(91.8291, grad_fn=<MeanBackward0>)\n",
      "loss: tensor(91.8291, grad_fn=<MeanBackward0>)\n",
      "loss: tensor(91.8291, grad_fn=<MeanBackward0>)\n",
      "loss: tensor(91.8291, grad_fn=<MeanBackward0>)\n",
      "loss: tensor(91.8291, grad_fn=<MeanBackward0>)\n",
      "loss: tensor(91.8291, grad_fn=<MeanBackward0>)\n",
      "loss: tensor(91.8290, grad_fn=<MeanBackward0>)\n",
      "loss: tensor(91.8290, grad_fn=<MeanBackward0>)\n",
      "loss: tensor(91.8290, grad_fn=<MeanBackward0>)\n",
      "loss: tensor(91.8290, grad_fn=<MeanBackward0>)\n",
      "loss: tensor(91.8290, grad_fn=<MeanBackward0>)\n",
      "loss: tensor(91.8290, grad_fn=<MeanBackward0>)\n",
      "loss: tensor(91.8289, grad_fn=<MeanBackward0>)\n",
      "loss: tensor(91.8289, grad_fn=<MeanBackward0>)\n",
      "loss: tensor(91.8289, grad_fn=<MeanBackward0>)\n",
      "loss: tensor(91.8289, grad_fn=<MeanBackward0>)\n",
      "loss: tensor(91.8289, grad_fn=<MeanBackward0>)\n",
      "loss: tensor(91.8288, grad_fn=<MeanBackward0>)\n",
      "loss: tensor(91.8288, grad_fn=<MeanBackward0>)\n",
      "loss: tensor(91.8288, grad_fn=<MeanBackward0>)\n",
      "loss: tensor(91.8288, grad_fn=<MeanBackward0>)\n",
      "loss: tensor(91.8288, grad_fn=<MeanBackward0>)\n",
      "loss: tensor(91.8288, grad_fn=<MeanBackward0>)\n",
      "loss: tensor(91.8288, grad_fn=<MeanBackward0>)\n",
      "loss: tensor(91.8287, grad_fn=<MeanBackward0>)\n",
      "loss: tensor(91.8287, grad_fn=<MeanBackward0>)\n",
      "loss: tensor(91.8287, grad_fn=<MeanBackward0>)\n",
      "loss: tensor(91.8287, grad_fn=<MeanBackward0>)\n",
      "loss: tensor(91.8287, grad_fn=<MeanBackward0>)\n",
      "loss: tensor(91.8287, grad_fn=<MeanBackward0>)\n",
      "loss: tensor(91.8286, grad_fn=<MeanBackward0>)\n",
      "loss: tensor(91.8286, grad_fn=<MeanBackward0>)\n",
      "loss: tensor(91.8286, grad_fn=<MeanBackward0>)\n",
      "loss: tensor(91.8286, grad_fn=<MeanBackward0>)\n",
      "loss: tensor(91.8286, grad_fn=<MeanBackward0>)\n",
      "loss: tensor(91.8285, grad_fn=<MeanBackward0>)\n",
      "loss: tensor(91.8285, grad_fn=<MeanBackward0>)\n",
      "loss: tensor(91.8285, grad_fn=<MeanBackward0>)\n",
      "loss: tensor(91.8285, grad_fn=<MeanBackward0>)\n",
      "loss: tensor(91.8285, grad_fn=<MeanBackward0>)\n",
      "loss: tensor(91.8285, grad_fn=<MeanBackward0>)\n",
      "loss: tensor(91.8284, grad_fn=<MeanBackward0>)\n",
      "loss: tensor(91.8284, grad_fn=<MeanBackward0>)\n",
      "loss: tensor(91.8284, grad_fn=<MeanBackward0>)\n",
      "loss: tensor(91.8284, grad_fn=<MeanBackward0>)\n",
      "loss: tensor(91.8284, grad_fn=<MeanBackward0>)\n",
      "loss: tensor(91.8284, grad_fn=<MeanBackward0>)\n",
      "loss: tensor(91.8283, grad_fn=<MeanBackward0>)\n",
      "loss: tensor(91.8283, grad_fn=<MeanBackward0>)\n",
      "loss: tensor(91.8283, grad_fn=<MeanBackward0>)\n",
      "loss: tensor(91.8283, grad_fn=<MeanBackward0>)\n",
      "loss: tensor(91.8283, grad_fn=<MeanBackward0>)\n",
      "loss: tensor(91.8283, grad_fn=<MeanBackward0>)\n",
      "loss: tensor(91.8283, grad_fn=<MeanBackward0>)\n",
      "loss: tensor(91.8282, grad_fn=<MeanBackward0>)\n",
      "loss: tensor(91.8282, grad_fn=<MeanBackward0>)\n",
      "loss: tensor(91.8282, grad_fn=<MeanBackward0>)\n",
      "loss: tensor(91.8282, grad_fn=<MeanBackward0>)\n",
      "loss: tensor(91.8282, grad_fn=<MeanBackward0>)\n",
      "loss: tensor(91.8282, grad_fn=<MeanBackward0>)\n",
      "loss: tensor(91.8281, grad_fn=<MeanBackward0>)\n",
      "loss: tensor(91.8281, grad_fn=<MeanBackward0>)\n",
      "loss: tensor(91.8281, grad_fn=<MeanBackward0>)\n",
      "loss: tensor(91.8281, grad_fn=<MeanBackward0>)\n",
      "loss: tensor(91.8281, grad_fn=<MeanBackward0>)\n",
      "loss: tensor(91.8281, grad_fn=<MeanBackward0>)\n",
      "loss: tensor(91.8281, grad_fn=<MeanBackward0>)\n",
      "loss: tensor(91.8280, grad_fn=<MeanBackward0>)\n",
      "loss: tensor(91.8280, grad_fn=<MeanBackward0>)\n",
      "loss: tensor(91.8280, grad_fn=<MeanBackward0>)\n",
      "loss: tensor(91.8280, grad_fn=<MeanBackward0>)\n",
      "loss: tensor(91.8280, grad_fn=<MeanBackward0>)\n",
      "loss: tensor(91.8279, grad_fn=<MeanBackward0>)\n",
      "loss: tensor(91.8279, grad_fn=<MeanBackward0>)\n",
      "loss: tensor(91.8279, grad_fn=<MeanBackward0>)\n",
      "loss: tensor(91.8279, grad_fn=<MeanBackward0>)\n",
      "loss: tensor(91.8279, grad_fn=<MeanBackward0>)\n",
      "loss: tensor(91.8279, grad_fn=<MeanBackward0>)\n",
      "loss: tensor(91.8278, grad_fn=<MeanBackward0>)\n",
      "loss: tensor(91.8278, grad_fn=<MeanBackward0>)\n",
      "loss: tensor(91.8278, grad_fn=<MeanBackward0>)\n",
      "loss: tensor(91.8278, grad_fn=<MeanBackward0>)\n",
      "loss: tensor(91.8278, grad_fn=<MeanBackward0>)\n",
      "loss: tensor(91.8278, grad_fn=<MeanBackward0>)\n",
      "loss: tensor(91.8277, grad_fn=<MeanBackward0>)\n",
      "loss: tensor(91.8277, grad_fn=<MeanBackward0>)\n",
      "loss: tensor(91.8277, grad_fn=<MeanBackward0>)\n",
      "loss: tensor(91.8277, grad_fn=<MeanBackward0>)\n",
      "loss: tensor(91.8277, grad_fn=<MeanBackward0>)\n",
      "loss: tensor(91.8277, grad_fn=<MeanBackward0>)\n",
      "loss: tensor(91.8276, grad_fn=<MeanBackward0>)\n",
      "loss: tensor(91.8276, grad_fn=<MeanBackward0>)\n",
      "loss: tensor(91.8276, grad_fn=<MeanBackward0>)\n",
      "loss: tensor(91.8276, grad_fn=<MeanBackward0>)\n",
      "loss: tensor(91.8276, grad_fn=<MeanBackward0>)\n",
      "loss: tensor(91.8276, grad_fn=<MeanBackward0>)\n",
      "loss: tensor(91.8275, grad_fn=<MeanBackward0>)\n",
      "loss: tensor(91.8275, grad_fn=<MeanBackward0>)\n",
      "loss: tensor(91.8275, grad_fn=<MeanBackward0>)\n",
      "loss: tensor(91.8275, grad_fn=<MeanBackward0>)\n",
      "loss: tensor(91.8275, grad_fn=<MeanBackward0>)\n",
      "loss: tensor(91.8274, grad_fn=<MeanBackward0>)\n",
      "loss: tensor(91.8274, grad_fn=<MeanBackward0>)\n",
      "loss: tensor(91.8274, grad_fn=<MeanBackward0>)\n",
      "loss: tensor(91.8274, grad_fn=<MeanBackward0>)\n",
      "loss: tensor(91.8274, grad_fn=<MeanBackward0>)\n",
      "loss: tensor(91.8274, grad_fn=<MeanBackward0>)\n",
      "loss: tensor(91.8274, grad_fn=<MeanBackward0>)\n",
      "loss: tensor(91.8273, grad_fn=<MeanBackward0>)\n",
      "loss: tensor(91.8273, grad_fn=<MeanBackward0>)\n",
      "loss: tensor(91.8273, grad_fn=<MeanBackward0>)\n",
      "loss: tensor(91.8273, grad_fn=<MeanBackward0>)\n",
      "loss: tensor(91.8273, grad_fn=<MeanBackward0>)\n",
      "loss: tensor(91.8272, grad_fn=<MeanBackward0>)\n",
      "loss: tensor(91.8272, grad_fn=<MeanBackward0>)\n",
      "loss: tensor(91.8272, grad_fn=<MeanBackward0>)\n",
      "loss: tensor(91.8272, grad_fn=<MeanBackward0>)\n",
      "loss: tensor(91.8272, grad_fn=<MeanBackward0>)\n",
      "loss: tensor(91.8272, grad_fn=<MeanBackward0>)\n",
      "loss: tensor(91.8271, grad_fn=<MeanBackward0>)\n",
      "loss: tensor(91.8271, grad_fn=<MeanBackward0>)\n",
      "loss: tensor(91.8271, grad_fn=<MeanBackward0>)\n",
      "loss: tensor(91.8271, grad_fn=<MeanBackward0>)\n",
      "loss: tensor(91.8271, grad_fn=<MeanBackward0>)\n",
      "loss: tensor(91.8270, grad_fn=<MeanBackward0>)\n",
      "loss: tensor(91.8270, grad_fn=<MeanBackward0>)\n",
      "loss: tensor(91.8270, grad_fn=<MeanBackward0>)\n",
      "loss: tensor(91.8270, grad_fn=<MeanBackward0>)\n",
      "loss: tensor(91.8270, grad_fn=<MeanBackward0>)\n",
      "loss: tensor(91.8270, grad_fn=<MeanBackward0>)\n",
      "loss: tensor(91.8270, grad_fn=<MeanBackward0>)\n",
      "loss: tensor(91.8270, grad_fn=<MeanBackward0>)\n",
      "loss: tensor(91.8269, grad_fn=<MeanBackward0>)\n",
      "loss: tensor(91.8269, grad_fn=<MeanBackward0>)\n",
      "loss: tensor(91.8269, grad_fn=<MeanBackward0>)\n",
      "loss: tensor(91.8269, grad_fn=<MeanBackward0>)\n",
      "loss: tensor(91.8269, grad_fn=<MeanBackward0>)\n",
      "loss: tensor(91.8269, grad_fn=<MeanBackward0>)\n",
      "loss: tensor(91.8268, grad_fn=<MeanBackward0>)\n",
      "loss: tensor(91.8268, grad_fn=<MeanBackward0>)\n",
      "loss: tensor(91.8268, grad_fn=<MeanBackward0>)\n",
      "loss: tensor(91.8268, grad_fn=<MeanBackward0>)\n",
      "loss: tensor(91.8268, grad_fn=<MeanBackward0>)\n",
      "loss: tensor(91.8267, grad_fn=<MeanBackward0>)\n",
      "loss: tensor(91.8267, grad_fn=<MeanBackward0>)\n",
      "loss: tensor(91.8267, grad_fn=<MeanBackward0>)\n",
      "loss: tensor(91.8267, grad_fn=<MeanBackward0>)\n",
      "loss: tensor(91.8267, grad_fn=<MeanBackward0>)\n",
      "loss: tensor(91.8267, grad_fn=<MeanBackward0>)\n",
      "loss: tensor(91.8267, grad_fn=<MeanBackward0>)\n",
      "loss: tensor(91.8266, grad_fn=<MeanBackward0>)\n",
      "loss: tensor(91.8266, grad_fn=<MeanBackward0>)\n",
      "loss: tensor(91.8266, grad_fn=<MeanBackward0>)\n",
      "loss: tensor(91.8266, grad_fn=<MeanBackward0>)\n",
      "loss: tensor(91.8266, grad_fn=<MeanBackward0>)\n",
      "loss: tensor(91.8265, grad_fn=<MeanBackward0>)\n",
      "loss: tensor(91.8265, grad_fn=<MeanBackward0>)\n",
      "loss: tensor(91.8265, grad_fn=<MeanBackward0>)\n",
      "loss: tensor(91.8265, grad_fn=<MeanBackward0>)\n",
      "loss: tensor(91.8265, grad_fn=<MeanBackward0>)\n",
      "loss: tensor(91.8265, grad_fn=<MeanBackward0>)\n",
      "loss: tensor(91.8265, grad_fn=<MeanBackward0>)\n",
      "loss: tensor(91.8264, grad_fn=<MeanBackward0>)\n",
      "loss: tensor(91.8264, grad_fn=<MeanBackward0>)\n",
      "loss: tensor(91.8264, grad_fn=<MeanBackward0>)\n",
      "loss: tensor(91.8264, grad_fn=<MeanBackward0>)\n",
      "loss: tensor(91.8264, grad_fn=<MeanBackward0>)\n",
      "loss: tensor(91.8264, grad_fn=<MeanBackward0>)\n",
      "loss: tensor(91.8263, grad_fn=<MeanBackward0>)\n",
      "loss: tensor(91.8263, grad_fn=<MeanBackward0>)\n",
      "loss: tensor(91.8263, grad_fn=<MeanBackward0>)\n",
      "loss: tensor(91.8263, grad_fn=<MeanBackward0>)\n",
      "loss: tensor(91.8263, grad_fn=<MeanBackward0>)\n",
      "loss: tensor(91.8263, grad_fn=<MeanBackward0>)\n",
      "loss: tensor(91.8262, grad_fn=<MeanBackward0>)\n",
      "loss: tensor(91.8262, grad_fn=<MeanBackward0>)\n",
      "loss: tensor(91.8262, grad_fn=<MeanBackward0>)\n",
      "loss: tensor(91.8262, grad_fn=<MeanBackward0>)\n",
      "loss: tensor(91.8262, grad_fn=<MeanBackward0>)\n",
      "loss: tensor(91.8261, grad_fn=<MeanBackward0>)\n",
      "loss: tensor(91.8261, grad_fn=<MeanBackward0>)\n",
      "loss: tensor(91.8261, grad_fn=<MeanBackward0>)\n",
      "loss: tensor(91.8261, grad_fn=<MeanBackward0>)\n",
      "loss: tensor(91.8261, grad_fn=<MeanBackward0>)\n",
      "loss: tensor(91.8261, grad_fn=<MeanBackward0>)\n",
      "loss: tensor(91.8260, grad_fn=<MeanBackward0>)\n",
      "loss: tensor(91.8260, grad_fn=<MeanBackward0>)\n",
      "loss: tensor(91.8260, grad_fn=<MeanBackward0>)\n",
      "loss: tensor(91.8260, grad_fn=<MeanBackward0>)\n",
      "loss: tensor(91.8260, grad_fn=<MeanBackward0>)\n",
      "loss: tensor(91.8260, grad_fn=<MeanBackward0>)\n",
      "loss: tensor(91.8260, grad_fn=<MeanBackward0>)\n",
      "loss: tensor(91.8259, grad_fn=<MeanBackward0>)\n",
      "loss: tensor(91.8259, grad_fn=<MeanBackward0>)\n",
      "loss: tensor(91.8259, grad_fn=<MeanBackward0>)\n",
      "loss: tensor(91.8259, grad_fn=<MeanBackward0>)\n",
      "loss: tensor(91.8259, grad_fn=<MeanBackward0>)\n",
      "loss: tensor(91.8258, grad_fn=<MeanBackward0>)\n",
      "loss: tensor(91.8258, grad_fn=<MeanBackward0>)\n",
      "loss: tensor(91.8258, grad_fn=<MeanBackward0>)\n",
      "loss: tensor(91.8258, grad_fn=<MeanBackward0>)\n",
      "loss: tensor(91.8258, grad_fn=<MeanBackward0>)\n",
      "loss: tensor(91.8258, grad_fn=<MeanBackward0>)\n",
      "loss: tensor(91.8258, grad_fn=<MeanBackward0>)\n",
      "loss: tensor(91.8257, grad_fn=<MeanBackward0>)\n",
      "loss: tensor(91.8257, grad_fn=<MeanBackward0>)\n",
      "loss: tensor(91.8257, grad_fn=<MeanBackward0>)\n",
      "loss: tensor(91.8257, grad_fn=<MeanBackward0>)\n",
      "loss: tensor(91.8257, grad_fn=<MeanBackward0>)\n",
      "loss: tensor(91.8256, grad_fn=<MeanBackward0>)\n",
      "loss: tensor(91.8256, grad_fn=<MeanBackward0>)\n",
      "loss: tensor(91.8256, grad_fn=<MeanBackward0>)\n",
      "loss: tensor(91.8256, grad_fn=<MeanBackward0>)\n",
      "loss: tensor(91.8256, grad_fn=<MeanBackward0>)\n",
      "loss: tensor(91.8256, grad_fn=<MeanBackward0>)\n",
      "loss: tensor(91.8256, grad_fn=<MeanBackward0>)\n",
      "loss: tensor(91.8255, grad_fn=<MeanBackward0>)\n",
      "loss: tensor(91.8255, grad_fn=<MeanBackward0>)\n",
      "loss: tensor(91.8255, grad_fn=<MeanBackward0>)\n",
      "loss: tensor(91.8255, grad_fn=<MeanBackward0>)\n",
      "loss: tensor(91.8255, grad_fn=<MeanBackward0>)\n",
      "loss: tensor(91.8254, grad_fn=<MeanBackward0>)\n",
      "loss: tensor(91.8254, grad_fn=<MeanBackward0>)\n",
      "loss: tensor(91.8254, grad_fn=<MeanBackward0>)\n",
      "loss: tensor(91.8254, grad_fn=<MeanBackward0>)\n",
      "loss: tensor(91.8254, grad_fn=<MeanBackward0>)\n",
      "loss: tensor(91.8254, grad_fn=<MeanBackward0>)\n",
      "loss: tensor(91.8254, grad_fn=<MeanBackward0>)\n",
      "loss: tensor(91.8253, grad_fn=<MeanBackward0>)\n",
      "loss: tensor(91.8253, grad_fn=<MeanBackward0>)\n",
      "loss: tensor(91.8253, grad_fn=<MeanBackward0>)\n",
      "loss: tensor(91.8253, grad_fn=<MeanBackward0>)\n",
      "loss: tensor(91.8253, grad_fn=<MeanBackward0>)\n",
      "loss: tensor(91.8252, grad_fn=<MeanBackward0>)\n",
      "loss: tensor(91.8252, grad_fn=<MeanBackward0>)\n",
      "loss: tensor(91.8252, grad_fn=<MeanBackward0>)\n",
      "loss: tensor(91.8252, grad_fn=<MeanBackward0>)\n",
      "loss: tensor(91.8252, grad_fn=<MeanBackward0>)\n",
      "loss: tensor(91.8252, grad_fn=<MeanBackward0>)\n",
      "loss: tensor(91.8252, grad_fn=<MeanBackward0>)\n",
      "loss: tensor(91.8252, grad_fn=<MeanBackward0>)\n",
      "loss: tensor(91.8251, grad_fn=<MeanBackward0>)\n",
      "loss: tensor(91.8251, grad_fn=<MeanBackward0>)\n",
      "loss: tensor(91.8251, grad_fn=<MeanBackward0>)\n",
      "loss: tensor(91.8251, grad_fn=<MeanBackward0>)\n",
      "loss: tensor(91.8251, grad_fn=<MeanBackward0>)\n",
      "loss: tensor(91.8250, grad_fn=<MeanBackward0>)\n",
      "loss: tensor(91.8250, grad_fn=<MeanBackward0>)\n",
      "loss: tensor(91.8250, grad_fn=<MeanBackward0>)\n",
      "loss: tensor(91.8250, grad_fn=<MeanBackward0>)\n",
      "loss: tensor(91.8250, grad_fn=<MeanBackward0>)\n",
      "loss: tensor(91.8249, grad_fn=<MeanBackward0>)\n",
      "loss: tensor(91.8249, grad_fn=<MeanBackward0>)\n",
      "loss: tensor(91.8249, grad_fn=<MeanBackward0>)\n",
      "loss: tensor(91.8249, grad_fn=<MeanBackward0>)\n",
      "loss: tensor(91.8249, grad_fn=<MeanBackward0>)\n",
      "loss: tensor(91.8249, grad_fn=<MeanBackward0>)\n",
      "loss: tensor(91.8249, grad_fn=<MeanBackward0>)\n",
      "loss: tensor(91.8248, grad_fn=<MeanBackward0>)\n",
      "loss: tensor(91.8248, grad_fn=<MeanBackward0>)\n",
      "loss: tensor(91.8248, grad_fn=<MeanBackward0>)\n",
      "loss: tensor(91.8248, grad_fn=<MeanBackward0>)\n",
      "loss: tensor(91.8248, grad_fn=<MeanBackward0>)\n",
      "loss: tensor(91.8248, grad_fn=<MeanBackward0>)\n",
      "loss: tensor(91.8248, grad_fn=<MeanBackward0>)\n",
      "loss: tensor(91.8247, grad_fn=<MeanBackward0>)\n",
      "loss: tensor(91.8247, grad_fn=<MeanBackward0>)\n",
      "loss: tensor(91.8247, grad_fn=<MeanBackward0>)\n",
      "loss: tensor(91.8247, grad_fn=<MeanBackward0>)\n",
      "loss: tensor(91.8247, grad_fn=<MeanBackward0>)\n",
      "loss: tensor(91.8246, grad_fn=<MeanBackward0>)\n",
      "loss: tensor(91.8246, grad_fn=<MeanBackward0>)\n",
      "loss: tensor(91.8246, grad_fn=<MeanBackward0>)\n",
      "loss: tensor(91.8246, grad_fn=<MeanBackward0>)\n",
      "loss: tensor(91.8246, grad_fn=<MeanBackward0>)\n",
      "loss: tensor(91.8246, grad_fn=<MeanBackward0>)\n",
      "loss: tensor(91.8245, grad_fn=<MeanBackward0>)\n",
      "loss: tensor(91.8245, grad_fn=<MeanBackward0>)\n",
      "loss: tensor(91.8245, grad_fn=<MeanBackward0>)\n",
      "loss: tensor(91.8245, grad_fn=<MeanBackward0>)\n",
      "loss: tensor(91.8245, grad_fn=<MeanBackward0>)\n",
      "loss: tensor(91.8245, grad_fn=<MeanBackward0>)\n",
      "loss: tensor(91.8245, grad_fn=<MeanBackward0>)\n",
      "loss: tensor(91.8244, grad_fn=<MeanBackward0>)\n",
      "loss: tensor(91.8244, grad_fn=<MeanBackward0>)\n",
      "loss: tensor(91.8244, grad_fn=<MeanBackward0>)\n",
      "loss: tensor(91.8244, grad_fn=<MeanBackward0>)\n",
      "loss: tensor(91.8244, grad_fn=<MeanBackward0>)\n",
      "loss: tensor(91.8243, grad_fn=<MeanBackward0>)\n",
      "loss: tensor(91.8243, grad_fn=<MeanBackward0>)\n",
      "loss: tensor(91.8243, grad_fn=<MeanBackward0>)\n",
      "loss: tensor(91.8243, grad_fn=<MeanBackward0>)\n",
      "loss: tensor(91.8243, grad_fn=<MeanBackward0>)\n",
      "loss: tensor(91.8243, grad_fn=<MeanBackward0>)\n",
      "loss: tensor(91.8243, grad_fn=<MeanBackward0>)\n",
      "loss: tensor(91.8242, grad_fn=<MeanBackward0>)\n",
      "loss: tensor(91.8242, grad_fn=<MeanBackward0>)\n",
      "loss: tensor(91.8242, grad_fn=<MeanBackward0>)\n",
      "loss: tensor(91.8242, grad_fn=<MeanBackward0>)\n",
      "loss: tensor(91.8242, grad_fn=<MeanBackward0>)\n",
      "loss: tensor(91.8242, grad_fn=<MeanBackward0>)\n",
      "loss: tensor(91.8241, grad_fn=<MeanBackward0>)\n",
      "loss: tensor(91.8241, grad_fn=<MeanBackward0>)\n",
      "loss: tensor(91.8241, grad_fn=<MeanBackward0>)\n",
      "loss: tensor(91.8241, grad_fn=<MeanBackward0>)\n",
      "loss: tensor(91.8241, grad_fn=<MeanBackward0>)\n",
      "loss: tensor(91.8241, grad_fn=<MeanBackward0>)\n",
      "loss: tensor(91.8240, grad_fn=<MeanBackward0>)\n",
      "loss: tensor(91.8240, grad_fn=<MeanBackward0>)\n",
      "loss: tensor(91.8240, grad_fn=<MeanBackward0>)\n",
      "loss: tensor(91.8240, grad_fn=<MeanBackward0>)\n",
      "loss: tensor(91.8240, grad_fn=<MeanBackward0>)\n",
      "loss: tensor(91.8239, grad_fn=<MeanBackward0>)\n",
      "loss: tensor(91.8239, grad_fn=<MeanBackward0>)\n",
      "loss: tensor(91.8239, grad_fn=<MeanBackward0>)\n",
      "loss: tensor(91.8239, grad_fn=<MeanBackward0>)\n",
      "loss: tensor(91.8239, grad_fn=<MeanBackward0>)\n",
      "loss: tensor(91.8239, grad_fn=<MeanBackward0>)\n",
      "loss: tensor(91.8238, grad_fn=<MeanBackward0>)\n",
      "loss: tensor(91.8239, grad_fn=<MeanBackward0>)\n",
      "loss: tensor(91.8238, grad_fn=<MeanBackward0>)\n",
      "loss: tensor(91.8238, grad_fn=<MeanBackward0>)\n",
      "loss: tensor(91.8238, grad_fn=<MeanBackward0>)\n",
      "loss: tensor(91.8238, grad_fn=<MeanBackward0>)\n",
      "loss: tensor(91.8238, grad_fn=<MeanBackward0>)\n",
      "loss: tensor(91.8237, grad_fn=<MeanBackward0>)\n",
      "loss: tensor(91.8237, grad_fn=<MeanBackward0>)\n",
      "loss: tensor(91.8237, grad_fn=<MeanBackward0>)\n",
      "loss: tensor(91.8237, grad_fn=<MeanBackward0>)\n",
      "loss: tensor(91.8237, grad_fn=<MeanBackward0>)\n",
      "loss: tensor(91.8236, grad_fn=<MeanBackward0>)\n",
      "loss: tensor(91.8236, grad_fn=<MeanBackward0>)\n",
      "loss: tensor(91.8236, grad_fn=<MeanBackward0>)\n",
      "loss: tensor(91.8236, grad_fn=<MeanBackward0>)\n",
      "loss: tensor(91.8236, grad_fn=<MeanBackward0>)\n",
      "loss: tensor(91.8236, grad_fn=<MeanBackward0>)\n",
      "loss: tensor(91.8236, grad_fn=<MeanBackward0>)\n",
      "loss: tensor(91.8236, grad_fn=<MeanBackward0>)\n",
      "loss: tensor(91.8235, grad_fn=<MeanBackward0>)\n",
      "loss: tensor(91.8235, grad_fn=<MeanBackward0>)\n",
      "loss: tensor(91.8235, grad_fn=<MeanBackward0>)\n",
      "loss: tensor(91.8235, grad_fn=<MeanBackward0>)\n",
      "loss: tensor(91.8235, grad_fn=<MeanBackward0>)\n",
      "loss: tensor(91.8234, grad_fn=<MeanBackward0>)\n",
      "loss: tensor(91.8234, grad_fn=<MeanBackward0>)\n",
      "loss: tensor(91.8234, grad_fn=<MeanBackward0>)\n",
      "loss: tensor(91.8234, grad_fn=<MeanBackward0>)\n",
      "loss: tensor(91.8234, grad_fn=<MeanBackward0>)\n",
      "loss: tensor(91.8234, grad_fn=<MeanBackward0>)\n",
      "loss: tensor(91.8233, grad_fn=<MeanBackward0>)\n",
      "loss: tensor(91.8233, grad_fn=<MeanBackward0>)\n",
      "loss: tensor(91.8233, grad_fn=<MeanBackward0>)\n",
      "loss: tensor(91.8233, grad_fn=<MeanBackward0>)\n",
      "loss: tensor(91.8233, grad_fn=<MeanBackward0>)\n",
      "loss: tensor(91.8232, grad_fn=<MeanBackward0>)\n",
      "loss: tensor(91.8232, grad_fn=<MeanBackward0>)\n",
      "loss: tensor(91.8232, grad_fn=<MeanBackward0>)\n",
      "loss: tensor(91.8232, grad_fn=<MeanBackward0>)\n",
      "loss: tensor(91.8232, grad_fn=<MeanBackward0>)\n",
      "loss: tensor(91.8232, grad_fn=<MeanBackward0>)\n",
      "loss: tensor(91.8232, grad_fn=<MeanBackward0>)\n",
      "loss: tensor(91.8231, grad_fn=<MeanBackward0>)\n",
      "loss: tensor(91.8231, grad_fn=<MeanBackward0>)\n",
      "loss: tensor(91.8231, grad_fn=<MeanBackward0>)\n",
      "loss: tensor(91.8231, grad_fn=<MeanBackward0>)\n",
      "loss: tensor(91.8231, grad_fn=<MeanBackward0>)\n",
      "loss: tensor(91.8231, grad_fn=<MeanBackward0>)\n",
      "loss: tensor(91.8231, grad_fn=<MeanBackward0>)\n",
      "loss: tensor(91.8230, grad_fn=<MeanBackward0>)\n",
      "loss: tensor(91.8230, grad_fn=<MeanBackward0>)\n",
      "loss: tensor(91.8230, grad_fn=<MeanBackward0>)\n",
      "loss: tensor(91.8230, grad_fn=<MeanBackward0>)\n",
      "loss: tensor(91.8230, grad_fn=<MeanBackward0>)\n",
      "loss: tensor(91.8230, grad_fn=<MeanBackward0>)\n",
      "loss: tensor(91.8230, grad_fn=<MeanBackward0>)\n",
      "loss: tensor(91.8229, grad_fn=<MeanBackward0>)\n",
      "loss: tensor(91.8229, grad_fn=<MeanBackward0>)\n",
      "loss: tensor(91.8229, grad_fn=<MeanBackward0>)\n",
      "loss: tensor(91.8229, grad_fn=<MeanBackward0>)\n",
      "loss: tensor(91.8229, grad_fn=<MeanBackward0>)\n",
      "loss: tensor(91.8228, grad_fn=<MeanBackward0>)\n",
      "loss: tensor(91.8228, grad_fn=<MeanBackward0>)\n",
      "loss: tensor(91.8228, grad_fn=<MeanBackward0>)\n",
      "loss: tensor(91.8228, grad_fn=<MeanBackward0>)\n",
      "loss: tensor(91.8228, grad_fn=<MeanBackward0>)\n",
      "loss: tensor(91.8228, grad_fn=<MeanBackward0>)\n",
      "loss: tensor(91.8228, grad_fn=<MeanBackward0>)\n",
      "loss: tensor(91.8227, grad_fn=<MeanBackward0>)\n",
      "loss: tensor(91.8227, grad_fn=<MeanBackward0>)\n",
      "loss: tensor(91.8227, grad_fn=<MeanBackward0>)\n",
      "loss: tensor(91.8227, grad_fn=<MeanBackward0>)\n",
      "loss: tensor(91.8227, grad_fn=<MeanBackward0>)\n",
      "loss: tensor(91.8226, grad_fn=<MeanBackward0>)\n",
      "loss: tensor(91.8226, grad_fn=<MeanBackward0>)\n",
      "loss: tensor(91.8226, grad_fn=<MeanBackward0>)\n",
      "loss: tensor(91.8226, grad_fn=<MeanBackward0>)\n",
      "loss: tensor(91.8226, grad_fn=<MeanBackward0>)\n",
      "loss: tensor(91.8226, grad_fn=<MeanBackward0>)\n",
      "loss: tensor(91.8225, grad_fn=<MeanBackward0>)\n",
      "loss: tensor(91.8225, grad_fn=<MeanBackward0>)\n",
      "loss: tensor(91.8225, grad_fn=<MeanBackward0>)\n",
      "loss: tensor(91.8225, grad_fn=<MeanBackward0>)\n",
      "loss: tensor(91.8225, grad_fn=<MeanBackward0>)\n",
      "loss: tensor(91.8225, grad_fn=<MeanBackward0>)\n",
      "loss: tensor(91.8224, grad_fn=<MeanBackward0>)\n",
      "loss: tensor(91.8224, grad_fn=<MeanBackward0>)\n",
      "loss: tensor(91.8224, grad_fn=<MeanBackward0>)\n",
      "loss: tensor(91.8224, grad_fn=<MeanBackward0>)\n",
      "loss: tensor(91.8224, grad_fn=<MeanBackward0>)\n",
      "loss: tensor(91.8224, grad_fn=<MeanBackward0>)\n",
      "loss: tensor(91.8223, grad_fn=<MeanBackward0>)\n",
      "loss: tensor(91.8223, grad_fn=<MeanBackward0>)\n",
      "loss: tensor(91.8223, grad_fn=<MeanBackward0>)\n",
      "loss: tensor(91.8223, grad_fn=<MeanBackward0>)\n",
      "loss: tensor(91.8223, grad_fn=<MeanBackward0>)\n",
      "loss: tensor(91.8223, grad_fn=<MeanBackward0>)\n",
      "loss: tensor(91.8223, grad_fn=<MeanBackward0>)\n",
      "loss: tensor(91.8222, grad_fn=<MeanBackward0>)\n",
      "loss: tensor(91.8222, grad_fn=<MeanBackward0>)\n",
      "loss: tensor(91.8222, grad_fn=<MeanBackward0>)\n",
      "loss: tensor(91.8222, grad_fn=<MeanBackward0>)\n",
      "loss: tensor(91.8222, grad_fn=<MeanBackward0>)\n",
      "loss: tensor(91.8222, grad_fn=<MeanBackward0>)\n",
      "loss: tensor(91.8221, grad_fn=<MeanBackward0>)\n",
      "loss: tensor(91.8221, grad_fn=<MeanBackward0>)\n",
      "loss: tensor(91.8221, grad_fn=<MeanBackward0>)\n",
      "loss: tensor(91.8221, grad_fn=<MeanBackward0>)\n",
      "loss: tensor(91.8221, grad_fn=<MeanBackward0>)\n",
      "loss: tensor(91.8221, grad_fn=<MeanBackward0>)\n",
      "loss: tensor(91.8221, grad_fn=<MeanBackward0>)\n",
      "loss: tensor(91.8220, grad_fn=<MeanBackward0>)\n",
      "loss: tensor(91.8220, grad_fn=<MeanBackward0>)\n",
      "loss: tensor(91.8220, grad_fn=<MeanBackward0>)\n",
      "loss: tensor(91.8220, grad_fn=<MeanBackward0>)\n",
      "loss: tensor(91.8220, grad_fn=<MeanBackward0>)\n",
      "loss: tensor(91.8220, grad_fn=<MeanBackward0>)\n",
      "loss: tensor(91.8219, grad_fn=<MeanBackward0>)\n",
      "loss: tensor(91.8219, grad_fn=<MeanBackward0>)\n",
      "loss: tensor(91.8219, grad_fn=<MeanBackward0>)\n",
      "loss: tensor(91.8219, grad_fn=<MeanBackward0>)\n",
      "loss: tensor(91.8219, grad_fn=<MeanBackward0>)\n",
      "loss: tensor(91.8219, grad_fn=<MeanBackward0>)\n",
      "loss: tensor(91.8218, grad_fn=<MeanBackward0>)\n",
      "loss: tensor(91.8218, grad_fn=<MeanBackward0>)\n",
      "loss: tensor(91.8218, grad_fn=<MeanBackward0>)\n",
      "loss: tensor(91.8218, grad_fn=<MeanBackward0>)\n",
      "loss: tensor(91.8218, grad_fn=<MeanBackward0>)\n",
      "loss: tensor(91.8218, grad_fn=<MeanBackward0>)\n",
      "loss: tensor(91.8217, grad_fn=<MeanBackward0>)\n",
      "loss: tensor(91.8217, grad_fn=<MeanBackward0>)\n",
      "loss: tensor(91.8217, grad_fn=<MeanBackward0>)\n",
      "loss: tensor(91.8217, grad_fn=<MeanBackward0>)\n",
      "loss: tensor(91.8217, grad_fn=<MeanBackward0>)\n",
      "loss: tensor(91.8217, grad_fn=<MeanBackward0>)\n",
      "loss: tensor(91.8217, grad_fn=<MeanBackward0>)\n",
      "loss: tensor(91.8216, grad_fn=<MeanBackward0>)\n",
      "loss: tensor(91.8216, grad_fn=<MeanBackward0>)\n",
      "loss: tensor(91.8216, grad_fn=<MeanBackward0>)\n",
      "loss: tensor(91.8216, grad_fn=<MeanBackward0>)\n",
      "loss: tensor(91.8216, grad_fn=<MeanBackward0>)\n",
      "loss: tensor(91.8215, grad_fn=<MeanBackward0>)\n",
      "loss: tensor(91.8215, grad_fn=<MeanBackward0>)\n",
      "loss: tensor(91.8215, grad_fn=<MeanBackward0>)\n",
      "loss: tensor(91.8215, grad_fn=<MeanBackward0>)\n",
      "loss: tensor(91.8215, grad_fn=<MeanBackward0>)\n",
      "loss: tensor(91.8215, grad_fn=<MeanBackward0>)\n",
      "loss: tensor(91.8215, grad_fn=<MeanBackward0>)\n",
      "loss: tensor(91.8214, grad_fn=<MeanBackward0>)\n",
      "loss: tensor(91.8214, grad_fn=<MeanBackward0>)\n",
      "loss: tensor(91.8214, grad_fn=<MeanBackward0>)\n",
      "loss: tensor(91.8214, grad_fn=<MeanBackward0>)\n",
      "loss: tensor(91.8214, grad_fn=<MeanBackward0>)\n",
      "loss: tensor(91.8213, grad_fn=<MeanBackward0>)\n",
      "loss: tensor(91.8213, grad_fn=<MeanBackward0>)\n",
      "loss: tensor(91.8213, grad_fn=<MeanBackward0>)\n",
      "loss: tensor(91.8213, grad_fn=<MeanBackward0>)\n",
      "loss: tensor(91.8213, grad_fn=<MeanBackward0>)\n",
      "loss: tensor(91.8213, grad_fn=<MeanBackward0>)\n",
      "loss: tensor(91.8213, grad_fn=<MeanBackward0>)\n",
      "loss: tensor(91.8213, grad_fn=<MeanBackward0>)\n",
      "loss: tensor(91.8212, grad_fn=<MeanBackward0>)\n",
      "loss: tensor(91.8212, grad_fn=<MeanBackward0>)\n",
      "loss: tensor(91.8212, grad_fn=<MeanBackward0>)\n",
      "loss: tensor(91.8212, grad_fn=<MeanBackward0>)\n",
      "loss: tensor(91.8212, grad_fn=<MeanBackward0>)\n",
      "loss: tensor(91.8211, grad_fn=<MeanBackward0>)\n",
      "loss: tensor(91.8211, grad_fn=<MeanBackward0>)\n",
      "loss: tensor(91.8211, grad_fn=<MeanBackward0>)\n",
      "loss: tensor(91.8211, grad_fn=<MeanBackward0>)\n",
      "loss: tensor(91.8211, grad_fn=<MeanBackward0>)\n",
      "loss: tensor(91.8211, grad_fn=<MeanBackward0>)\n",
      "loss: tensor(91.8211, grad_fn=<MeanBackward0>)\n",
      "loss: tensor(91.8210, grad_fn=<MeanBackward0>)\n",
      "loss: tensor(91.8210, grad_fn=<MeanBackward0>)\n",
      "loss: tensor(91.8210, grad_fn=<MeanBackward0>)\n",
      "loss: tensor(91.8210, grad_fn=<MeanBackward0>)\n",
      "loss: tensor(91.8210, grad_fn=<MeanBackward0>)\n",
      "loss: tensor(91.8210, grad_fn=<MeanBackward0>)\n",
      "loss: tensor(91.8209, grad_fn=<MeanBackward0>)\n",
      "loss: tensor(91.8209, grad_fn=<MeanBackward0>)\n",
      "loss: tensor(91.8209, grad_fn=<MeanBackward0>)\n",
      "loss: tensor(91.8209, grad_fn=<MeanBackward0>)\n",
      "loss: tensor(91.8209, grad_fn=<MeanBackward0>)\n",
      "loss: tensor(91.8209, grad_fn=<MeanBackward0>)\n",
      "loss: tensor(91.8209, grad_fn=<MeanBackward0>)\n",
      "loss: tensor(91.8208, grad_fn=<MeanBackward0>)\n",
      "loss: tensor(91.8208, grad_fn=<MeanBackward0>)\n",
      "loss: tensor(91.8208, grad_fn=<MeanBackward0>)\n",
      "loss: tensor(91.8208, grad_fn=<MeanBackward0>)\n",
      "loss: tensor(91.8208, grad_fn=<MeanBackward0>)\n",
      "loss: tensor(91.8208, grad_fn=<MeanBackward0>)\n",
      "loss: tensor(91.8207, grad_fn=<MeanBackward0>)\n",
      "loss: tensor(91.8207, grad_fn=<MeanBackward0>)\n",
      "loss: tensor(91.8207, grad_fn=<MeanBackward0>)\n",
      "loss: tensor(91.8207, grad_fn=<MeanBackward0>)\n",
      "loss: tensor(91.8207, grad_fn=<MeanBackward0>)\n",
      "loss: tensor(91.8206, grad_fn=<MeanBackward0>)\n",
      "loss: tensor(91.8206, grad_fn=<MeanBackward0>)\n",
      "loss: tensor(91.8206, grad_fn=<MeanBackward0>)\n",
      "loss: tensor(91.8206, grad_fn=<MeanBackward0>)\n",
      "loss: tensor(91.8206, grad_fn=<MeanBackward0>)\n",
      "loss: tensor(91.8206, grad_fn=<MeanBackward0>)\n",
      "loss: tensor(91.8205, grad_fn=<MeanBackward0>)\n",
      "loss: tensor(91.8205, grad_fn=<MeanBackward0>)\n",
      "loss: tensor(91.8205, grad_fn=<MeanBackward0>)\n",
      "loss: tensor(91.8205, grad_fn=<MeanBackward0>)\n",
      "loss: tensor(91.8205, grad_fn=<MeanBackward0>)\n",
      "loss: tensor(91.8205, grad_fn=<MeanBackward0>)\n",
      "loss: tensor(91.8205, grad_fn=<MeanBackward0>)\n",
      "loss: tensor(91.8204, grad_fn=<MeanBackward0>)\n",
      "loss: tensor(91.8204, grad_fn=<MeanBackward0>)\n",
      "loss: tensor(91.8204, grad_fn=<MeanBackward0>)\n",
      "loss: tensor(91.8204, grad_fn=<MeanBackward0>)\n",
      "loss: tensor(91.8204, grad_fn=<MeanBackward0>)\n",
      "loss: tensor(91.8204, grad_fn=<MeanBackward0>)\n",
      "loss: tensor(91.8204, grad_fn=<MeanBackward0>)\n",
      "loss: tensor(91.8203, grad_fn=<MeanBackward0>)\n",
      "loss: tensor(91.8203, grad_fn=<MeanBackward0>)\n",
      "loss: tensor(91.8203, grad_fn=<MeanBackward0>)\n",
      "loss: tensor(91.8203, grad_fn=<MeanBackward0>)\n",
      "loss: tensor(91.8202, grad_fn=<MeanBackward0>)\n",
      "loss: tensor(91.8203, grad_fn=<MeanBackward0>)\n",
      "loss: tensor(91.8202, grad_fn=<MeanBackward0>)\n",
      "loss: tensor(91.8202, grad_fn=<MeanBackward0>)\n",
      "loss: tensor(91.8202, grad_fn=<MeanBackward0>)\n",
      "loss: tensor(91.8202, grad_fn=<MeanBackward0>)\n",
      "loss: tensor(91.8202, grad_fn=<MeanBackward0>)\n",
      "loss: tensor(91.8202, grad_fn=<MeanBackward0>)\n",
      "loss: tensor(91.8201, grad_fn=<MeanBackward0>)\n",
      "loss: tensor(91.8201, grad_fn=<MeanBackward0>)\n",
      "loss: tensor(91.8201, grad_fn=<MeanBackward0>)\n",
      "loss: tensor(91.8201, grad_fn=<MeanBackward0>)\n",
      "loss: tensor(91.8201, grad_fn=<MeanBackward0>)\n",
      "loss: tensor(91.8201, grad_fn=<MeanBackward0>)\n",
      "loss: tensor(91.8200, grad_fn=<MeanBackward0>)\n",
      "loss: tensor(91.8200, grad_fn=<MeanBackward0>)\n",
      "loss: tensor(91.8200, grad_fn=<MeanBackward0>)\n",
      "loss: tensor(91.8200, grad_fn=<MeanBackward0>)\n",
      "loss: tensor(91.8200, grad_fn=<MeanBackward0>)\n",
      "loss: tensor(91.8200, grad_fn=<MeanBackward0>)\n",
      "loss: tensor(91.8199, grad_fn=<MeanBackward0>)\n",
      "loss: tensor(91.8199, grad_fn=<MeanBackward0>)\n",
      "loss: tensor(91.8199, grad_fn=<MeanBackward0>)\n",
      "loss: tensor(91.8199, grad_fn=<MeanBackward0>)\n",
      "loss: tensor(91.8199, grad_fn=<MeanBackward0>)\n",
      "loss: tensor(91.8199, grad_fn=<MeanBackward0>)\n",
      "loss: tensor(91.8198, grad_fn=<MeanBackward0>)\n",
      "loss: tensor(91.8198, grad_fn=<MeanBackward0>)\n",
      "loss: tensor(91.8198, grad_fn=<MeanBackward0>)\n",
      "loss: tensor(91.8198, grad_fn=<MeanBackward0>)\n",
      "loss: tensor(91.8198, grad_fn=<MeanBackward0>)\n",
      "loss: tensor(91.8198, grad_fn=<MeanBackward0>)\n",
      "loss: tensor(91.8197, grad_fn=<MeanBackward0>)\n",
      "loss: tensor(91.8197, grad_fn=<MeanBackward0>)\n",
      "loss: tensor(91.8197, grad_fn=<MeanBackward0>)\n",
      "loss: tensor(91.8197, grad_fn=<MeanBackward0>)\n",
      "loss: tensor(91.8197, grad_fn=<MeanBackward0>)\n",
      "loss: tensor(91.8197, grad_fn=<MeanBackward0>)\n",
      "loss: tensor(91.8196, grad_fn=<MeanBackward0>)\n",
      "loss: tensor(91.8196, grad_fn=<MeanBackward0>)\n",
      "loss: tensor(91.8196, grad_fn=<MeanBackward0>)\n",
      "loss: tensor(91.8196, grad_fn=<MeanBackward0>)\n",
      "loss: tensor(91.8196, grad_fn=<MeanBackward0>)\n",
      "loss: tensor(91.8196, grad_fn=<MeanBackward0>)\n",
      "loss: tensor(91.8195, grad_fn=<MeanBackward0>)\n",
      "loss: tensor(91.8196, grad_fn=<MeanBackward0>)\n",
      "loss: tensor(91.8195, grad_fn=<MeanBackward0>)\n",
      "loss: tensor(91.8195, grad_fn=<MeanBackward0>)\n",
      "loss: tensor(91.8195, grad_fn=<MeanBackward0>)\n",
      "loss: tensor(91.8195, grad_fn=<MeanBackward0>)\n",
      "loss: tensor(91.8195, grad_fn=<MeanBackward0>)\n",
      "loss: tensor(91.8194, grad_fn=<MeanBackward0>)\n",
      "loss: tensor(91.8194, grad_fn=<MeanBackward0>)\n",
      "loss: tensor(91.8194, grad_fn=<MeanBackward0>)\n",
      "loss: tensor(91.8194, grad_fn=<MeanBackward0>)\n",
      "loss: tensor(91.8194, grad_fn=<MeanBackward0>)\n",
      "loss: tensor(91.8194, grad_fn=<MeanBackward0>)\n",
      "loss: tensor(91.8193, grad_fn=<MeanBackward0>)\n",
      "loss: tensor(91.8193, grad_fn=<MeanBackward0>)\n",
      "loss: tensor(91.8193, grad_fn=<MeanBackward0>)\n",
      "loss: tensor(91.8193, grad_fn=<MeanBackward0>)\n",
      "loss: tensor(91.8193, grad_fn=<MeanBackward0>)\n",
      "loss: tensor(91.8193, grad_fn=<MeanBackward0>)\n",
      "loss: tensor(91.8193, grad_fn=<MeanBackward0>)\n",
      "loss: tensor(91.8192, grad_fn=<MeanBackward0>)\n",
      "loss: tensor(91.8192, grad_fn=<MeanBackward0>)\n",
      "loss: tensor(91.8192, grad_fn=<MeanBackward0>)\n",
      "loss: tensor(91.8192, grad_fn=<MeanBackward0>)\n",
      "loss: tensor(91.8192, grad_fn=<MeanBackward0>)\n",
      "loss: tensor(91.8192, grad_fn=<MeanBackward0>)\n",
      "loss: tensor(91.8191, grad_fn=<MeanBackward0>)\n",
      "loss: tensor(91.8191, grad_fn=<MeanBackward0>)\n",
      "loss: tensor(91.8191, grad_fn=<MeanBackward0>)\n",
      "loss: tensor(91.8191, grad_fn=<MeanBackward0>)\n",
      "loss: tensor(91.8191, grad_fn=<MeanBackward0>)\n",
      "loss: tensor(91.8191, grad_fn=<MeanBackward0>)\n",
      "loss: tensor(91.8191, grad_fn=<MeanBackward0>)\n",
      "loss: tensor(91.8190, grad_fn=<MeanBackward0>)\n",
      "loss: tensor(91.8190, grad_fn=<MeanBackward0>)\n",
      "loss: tensor(91.8190, grad_fn=<MeanBackward0>)\n",
      "loss: tensor(91.8190, grad_fn=<MeanBackward0>)\n",
      "loss: tensor(91.8190, grad_fn=<MeanBackward0>)\n",
      "loss: tensor(91.8190, grad_fn=<MeanBackward0>)\n",
      "loss: tensor(91.8189, grad_fn=<MeanBackward0>)\n",
      "loss: tensor(91.8189, grad_fn=<MeanBackward0>)\n",
      "loss: tensor(91.8189, grad_fn=<MeanBackward0>)\n",
      "loss: tensor(91.8189, grad_fn=<MeanBackward0>)\n",
      "loss: tensor(91.8189, grad_fn=<MeanBackward0>)\n",
      "loss: tensor(91.8189, grad_fn=<MeanBackward0>)\n",
      "loss: tensor(91.8189, grad_fn=<MeanBackward0>)\n",
      "loss: tensor(91.8188, grad_fn=<MeanBackward0>)\n",
      "loss: tensor(91.8188, grad_fn=<MeanBackward0>)\n",
      "loss: tensor(91.8188, grad_fn=<MeanBackward0>)\n",
      "loss: tensor(91.8188, grad_fn=<MeanBackward0>)\n",
      "loss: tensor(91.8188, grad_fn=<MeanBackward0>)\n",
      "loss: tensor(91.8188, grad_fn=<MeanBackward0>)\n",
      "loss: tensor(91.8187, grad_fn=<MeanBackward0>)\n",
      "loss: tensor(91.8187, grad_fn=<MeanBackward0>)\n",
      "loss: tensor(91.8187, grad_fn=<MeanBackward0>)\n",
      "loss: tensor(91.8187, grad_fn=<MeanBackward0>)\n",
      "loss: tensor(91.8187, grad_fn=<MeanBackward0>)\n",
      "loss: tensor(91.8186, grad_fn=<MeanBackward0>)\n",
      "loss: tensor(91.8186, grad_fn=<MeanBackward0>)\n",
      "loss: tensor(91.8186, grad_fn=<MeanBackward0>)\n",
      "loss: tensor(91.8186, grad_fn=<MeanBackward0>)\n",
      "loss: tensor(91.8186, grad_fn=<MeanBackward0>)\n",
      "loss: tensor(91.8186, grad_fn=<MeanBackward0>)\n",
      "loss: tensor(91.8185, grad_fn=<MeanBackward0>)\n"
     ]
    }
   ],
   "source": [
    "# 对a和b进行迭代计算\n",
    "\n",
    "for i in range(1000):\n",
    "    predictions = a.expand_as(x_train)*x_train+b.expand_as(x_train)\n",
    "    loss = torch.mean((predictions - y_train)**2)\n",
    "    print('loss:',loss)\n",
    "    loss.backward()\n",
    "    # 使用梯度信息更新a,b的值\n",
    "    a.data.add_(-learning_rate*a.grad.data)\n",
    "    b.data.add_(-learning_rate*b.grad.data)\n",
    "    # 清空储存在变量a，b中的梯度信息\n",
    "    a.grad.data.zero_()\n",
    "    b.grad.data.zero_()\n",
    "\n",
    "# expand_as用于扩充维度\n",
    "# pytorch如果函数后加上了_，表示用这个函数计算结果更新之前变量"
   ]
  },
  {
   "cell_type": "code",
   "execution_count": 198,
   "metadata": {},
   "outputs": [
    {
     "data": {
      "image/png": "[encoded data removed]",
      "text/plain": [
       "<Figure size 720x504 with 1 Axes>"
      ]
     },
     "metadata": {},
     "output_type": "display_data"
    }
   ],
   "source": [
    "# 绘图\n",
    "x_data = x_train.data.numpy()\n",
    "plt.figure(figsize = (10,7))\n",
    "xplot, = plt.plot(x_data, y_train.data.numpy(),'o')\n",
    "yplot, = plt.plot(x_data, a.data.numpy()*x_data + b.data.numpy())\n",
    "plt.xlabel('X')\n",
    "plt.ylabel('Y')\n",
    "str1 = str(a.data.numpy()[0])+'x+'+str(b.data.numpy()[0])\n",
    "plt.legend([xplot,yplot],['Data',str1])\n",
    "plt.show()\n",
    "\n",
    "# a.data.numpy(0)指数字"
   ]
  },
  {
   "cell_type": "code",
   "execution_count": 205,
   "metadata": {},
   "outputs": [],
   "source": [
    "predictions = a.expand_as(x_test) * x_test + b.expand_as(x_test) #计算模型的预测结果"
   ]
  },
  {
   "cell_type": "code",
   "execution_count": 206,
   "metadata": {},
   "outputs": [
    {
     "data": {
      "image/png": "[encoded data removed]",
      "text/plain": [
       "<Figure size 720x504 with 1 Axes>"
      ]
     },
     "metadata": {},
     "output_type": "display_data"
    }
   ],
   "source": [
    "x_data = x_train.data.numpy() # 获得x包裹的数据\n",
    "x_pred = x_test.data.numpy()\n",
    "plt.figure(figsize = (10, 7)) #设定绘图窗口大小\n",
    "plt.plot(x_data, y_train.data.numpy(), 'o') # 绘制训练数据\n",
    "plt.plot(x_pred, y_test.data.numpy(), 's') # 绘制测试数据\n",
    "x_data = np.r_[x_data, x_test.data.numpy()]\n",
    "plt.plot(x_data, a.data.numpy() * x_data + b.data.numpy())  #绘制拟合数据\n",
    "plt.plot(x_pred, a.data.numpy() * x_pred + b.data.numpy(), 'o') #绘制预测数据\n",
    "plt.xlabel('X') #更改坐标轴标注\n",
    "plt.ylabel('Y') #更改坐标轴标注\n",
    "str1 = str(a.data.numpy()[0]) + 'x +' + str(b.data.numpy()[0]) #图例信息\n",
    "plt.legend([xplot, yplot],['Data', str1]) #绘制图例\n",
    "plt.show()\n"
   ]
  },
  {
   "cell_type": "code",
   "execution_count": null,
   "metadata": {},
   "outputs": [],
   "source": []
  }
 ],
 "metadata": {
  "kernelspec": {
   "display_name": "Python 3",
   "language": "python",
   "name": "python3"
  },
  "language_info": {
   "codemirror_mode": {
    "name": "ipython",
    "version": 3
   },
   "file_extension": ".py",
   "mimetype": "text/x-python",
   "name": "python",
   "nbconvert_exporter": "python",
   "pygments_lexer": "ipython3",
   "version": "3.6.12"
  }
 },
 "nbformat": 4,
 "nbformat_minor": 4
}
